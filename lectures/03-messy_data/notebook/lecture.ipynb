{
 "cells": [
  {
   "cell_type": "code",
   "execution_count": null,
   "id": "532b1012",
   "metadata": {},
   "outputs": [],
   "source": [
    "import pandas as pd\n",
    "import numpy as np\n",
    "\n",
    "import matplotlib.pyplot as plt\n",
    "plt.rcParams['figure.figsize'] = (10, 5)\n"
   ]
  },
  {
   "cell_type": "markdown",
   "id": "ce9e66d9",
   "metadata": {},
   "source": [
    "# Lecture 03 - Messy Data 🤯\n",
    "\n",
    "## DSC 80, Fall 2022"
   ]
  },
  {
   "cell_type": "markdown",
   "id": "6ae2dd05",
   "metadata": {
    "slideshow": {
     "slide_type": "slide"
    }
   },
   "source": [
    "## Today, in DSC 80...\n",
    "\n",
    "- The importance of understanding where data comes from.\n",
    "- How can data be messy?\n",
    "- Missing data."
   ]
  },
  {
   "cell_type": "markdown",
   "id": "6b40592b",
   "metadata": {
    "slideshow": {
     "slide_type": "slide"
    }
   },
   "source": [
    "## Announcements 📣\n",
    "\n",
    "- "
   ]
  },
  {
   "cell_type": "markdown",
   "id": "8a17461f",
   "metadata": {
    "slideshow": {
     "slide_type": "slide"
    }
   },
   "source": [
    "## Introduction to messy data"
   ]
  },
  {
   "cell_type": "markdown",
   "id": "13410e22",
   "metadata": {
    "slideshow": {
     "slide_type": "slide"
    }
   },
   "source": [
    "### There is no such thing as \"raw data\"!\n",
    "\n",
    "* Data are the result of measurements that must be recorded.\n",
    "* Humans design the measurements and record the results.\n",
    "* Data is **always** an imperfect record of the underlying processing being measured."
   ]
  },
  {
   "cell_type": "markdown",
   "id": "7dcf8d36",
   "metadata": {
    "slideshow": {
     "slide_type": "slide"
    }
   },
   "source": [
    "### Data generating process\n",
    "\n",
    "* A **data generating process** is the underlying, real-world (probabilistic) mechanism that generates observed data. \n",
    "* Observed data is an incomplete artifact of the data generating process.\n",
    "* **A data generating process is what a statistical model attempts to describe.**\n",
    "    - From DSC 10: a model is a set of assumptions about how data were generated.\n",
    "    - More on this later in the quarter.\n",
    "- Data cleaning requires an understanding of the data generating process."
   ]
  },
  {
   "cell_type": "markdown",
   "id": "930f2146",
   "metadata": {
    "slideshow": {
     "slide_type": "slide"
    }
   },
   "source": [
    "### Example: COVID case counts 🦠\n",
    "\n",
    "Suppose our **goal** is to determine the number of COVID cases in the US **yesterday**.\n",
    "- What are we really asking for – the number of people who tested positive yesterday, or the number of people who contracted COVID yesterday?\n",
    "- Tested positive on what type of test? How accurate is that type of test?\n",
    "- How often are test results reported? Is there a delay in when test results are reported?"
   ]
  },
  {
   "cell_type": "markdown",
   "id": "49c15993",
   "metadata": {
    "slideshow": {
     "slide_type": "slide"
    }
   },
   "source": [
    "<center><img src='imgs/christmas.png' width=70%></center>\n",
    "\n",
    "Why do you think so few cases were reported on Christmas Day – is it because COVID was less prevalent on Christmas Day as compared to the days before and after, or is it likely for some other reason? 🎅"
   ]
  },
  {
   "cell_type": "markdown",
   "id": "60369239",
   "metadata": {
    "slideshow": {
     "slide_type": "slide"
    }
   },
   "source": [
    "### Data provenance\n",
    "\n",
    "- As data scientists, we often need to work with datasets that others collected, for a purpose that is different than our current interest.\n",
    "- As such, it's important to understand the \"story\" of how a dataset came to be, or the **provenance** of the data. Specifically, we need to be aware of:\n",
    "    1. Assumptions about the data generating process.\n",
    "    2. How the initial values in the dataset came to be.  \n",
    "    3. How any data processing or storage decisions affected the values in the dataset.\n",
    "\n",
    "The bigger picture question we're asking here is, **can we trust our data?**"
   ]
  },
  {
   "cell_type": "markdown",
   "id": "d9124024",
   "metadata": {
    "slideshow": {
     "slide_type": "slide"
    }
   },
   "source": [
    "### Data cleaning 🧹\n",
    "\n",
    "- Data cleaning is the process of transforming data so that it best represents the underlying data generating process.\n",
    "\n",
    "- In practice, data cleaning is often detective work to understand data provenance.\n",
    "    - **Always be skeptical of your data!**"
   ]
  },
  {
   "cell_type": "markdown",
   "id": "e558641d",
   "metadata": {
    "slideshow": {
     "slide_type": "slide"
    }
   },
   "source": [
    "### Keys to data cleaning\n",
    "\n",
    "Data cleaning often addresses: \n",
    "\n",
    "* The **structure** of the recorded data.\n",
    "    - Is the data stored in a tabular format (e.g. CSV, SQL, Google Sheets) or in another format (JSON, XML)?\n",
    "    - Are the individuals properly represented as rows?\n",
    "* The **encoding** and **format** of the values in the data.\n",
    "    - Are the data types of all columns reflective of the **kinds of data** they contain?\n",
    "* Corrupt and \"**incorrect**\" data, and missing values.\n",
    "    - Were there flaws in the data recording process? In other words, is our data **faithful** to the data generating process?\n",
    "    \n",
    "Let's focus on the latter two."
   ]
  },
  {
   "cell_type": "markdown",
   "id": "4d280108",
   "metadata": {
    "slideshow": {
     "slide_type": "slide"
    }
   },
   "source": [
    "## Kinds of data"
   ]
  },
  {
   "cell_type": "markdown",
   "id": "0b41ad00",
   "metadata": {
    "slideshow": {
     "slide_type": "slide"
    }
   },
   "source": [
    "### Kinds of data\n",
    "\n",
    "<center><img src='imgs/data-types.png' width=90%></center>"
   ]
  },
  {
   "cell_type": "markdown",
   "id": "7d7696f2",
   "metadata": {
    "slideshow": {
     "slide_type": "slide"
    }
   },
   "source": [
    "### Discussion Question\n",
    "\n",
    "Determine the kind of each of the following variables.\n",
    "- Fuel economy in miles per gallon.\n",
    "- Number of quarters at UCSD.\n",
    "- Class standing (freshman, sophomore, etc.).\n",
    "- Income bracket (low, medium, high).\n",
    "- Bank account number."
   ]
  },
  {
   "cell_type": "markdown",
   "id": "7883efad",
   "metadata": {
    "slideshow": {
     "slide_type": "slide"
    }
   },
   "source": [
    "### Example: DSC 80 students"
   ]
  },
  {
   "cell_type": "markdown",
   "id": "6eed69e3",
   "metadata": {},
   "source": [
    "In the next cell, we'll load in an example dataset containing information about past DSC 80 students.\n",
    "\n",
    "- `'PID'` and `'Student Name'`: student PID and name.\n",
    "- `'Month'`, `'Day'`, `'Year'`: date when the student was accepted to UCSD.\n",
    "- `'2021 tuition'` and `'2022 tuition'`: amount paid in tuition in 2021 and 2022, respectively.\n",
    "- `'Percent Growth'`: growth between the two aforementioned columns.\n",
    "- `'Paid'`: whether or not the student has paid tuition for this quarter yet.\n",
    "- `'DSC 80 Final Grade'`: either `'Pass'`, `'Fail'`, or a number.\n",
    "\n",
    "What needs to be changed in the DataFrame to compute statistics?"
   ]
  },
  {
   "cell_type": "code",
   "execution_count": null,
   "id": "aa71559c",
   "metadata": {
    "slideshow": {
     "slide_type": "slide"
    }
   },
   "outputs": [],
   "source": [
    "students = pd.read_csv(os.path.join('data', 'students.csv'))\n",
    "students"
   ]
  },
  {
   "cell_type": "markdown",
   "id": "09581901",
   "metadata": {
    "slideshow": {
     "slide_type": "slide"
    }
   },
   "source": [
    "### How much has each student paid in total tuition in 2021 and 2022?"
   ]
  },
  {
   "cell_type": "code",
   "execution_count": null,
   "id": "ca2e91f6",
   "metadata": {},
   "outputs": [],
   "source": [
    "students"
   ]
  },
  {
   "cell_type": "code",
   "execution_count": null,
   "id": "70100279",
   "metadata": {},
   "outputs": [],
   "source": [
    "total = students['2021 tuition'] + students['2022 tuition']\n",
    "total"
   ]
  },
  {
   "cell_type": "markdown",
   "id": "cd5dc392",
   "metadata": {
    "slideshow": {
     "slide_type": "slide"
    }
   },
   "source": [
    "### Check the data types of `students`!\n",
    "\n",
    "* What kinds of data should each column have?\n",
    "    - Qualitative or quantitative?\n",
    "    - Discrete or continuous?\n",
    "    - Ordinal or nominal?\n",
    "* What data type *should* each column have?\n",
    "\n",
    "* Use the `dtypes` attribute (or the `info` method) to peek at the data types."
   ]
  },
  {
   "cell_type": "code",
   "execution_count": null,
   "id": "85b5d184",
   "metadata": {},
   "outputs": [],
   "source": [
    "students.dtypes"
   ]
  },
  {
   "cell_type": "markdown",
   "id": "5a74297c",
   "metadata": {
    "slideshow": {
     "slide_type": "slide"
    }
   },
   "source": [
    "### Cleaning `'2021 tuition'` and `'2022 tuition'`\n",
    "\n",
    "* `'2021 tuition'` and `'2022 tuition'` are stored as `object`s (strings), not numerical values.\n",
    "* The `'$'` character causes the entries to be interpreted as strings.\n",
    "* We can use `str` methods to strip the dollar sign."
   ]
  },
  {
   "cell_type": "code",
   "execution_count": null,
   "id": "8cf651bd",
   "metadata": {},
   "outputs": [],
   "source": [
    "# This won't work. Why?\n",
    "students['2021 tuition'].astype(float)"
   ]
  },
  {
   "cell_type": "code",
   "execution_count": null,
   "id": "7501ba43",
   "metadata": {
    "scrolled": true
   },
   "outputs": [],
   "source": [
    "# That's better!\n",
    "students['2021 tuition'].str.strip('$').astype(float)"
   ]
  },
  {
   "cell_type": "markdown",
   "id": "ff7876bb",
   "metadata": {
    "slideshow": {
     "slide_type": "slide"
    }
   },
   "source": [
    "We can loop through the columns of `students` to apply the above procedure. (Looping through columns is fine, just avoid looping through rows.)"
   ]
  },
  {
   "cell_type": "code",
   "execution_count": null,
   "id": "616db180",
   "metadata": {},
   "outputs": [],
   "source": [
    "for col in students.columns:\n",
    "    if 'tuition' in col:\n",
    "        students[col] = students[col].str.strip('$').astype(float)\n",
    "        \n",
    "students"
   ]
  },
  {
   "cell_type": "markdown",
   "id": "7deff894",
   "metadata": {},
   "source": [
    "Alternatively, we can do this without a loop by using `str.contains` to find only the columns that contain tuition information."
   ]
  },
  {
   "cell_type": "code",
   "execution_count": null,
   "id": "47351071",
   "metadata": {},
   "outputs": [],
   "source": [
    "cols = students.columns.str.contains('tuition')\n",
    "students.loc[:, cols] = students.loc[:, cols].astype(float)\n",
    "students"
   ]
  },
  {
   "cell_type": "markdown",
   "id": "cea4ba90",
   "metadata": {
    "slideshow": {
     "slide_type": "slide"
    }
   },
   "source": [
    "### Cleaning `'Paid'`\n",
    "\n",
    "* Currently, `'Paid'` contains the strings `'Y'` and `'N'`.\n",
    "    * `'Y'`s and `'N'`s typically result from manual data entry.\n",
    "* The `'Paid'` column should contain `True`s and `False`s, or `1`s and `0`s.\n",
    "* Solutions:\n",
    "    - Use the `replace` Series method.\n",
    "    - Create a Boolean Series through comparison."
   ]
  },
  {
   "cell_type": "code",
   "execution_count": null,
   "id": "109c84c4",
   "metadata": {},
   "outputs": [],
   "source": [
    "students['Paid'].replace({'Y': True, 'N': False})"
   ]
  },
  {
   "cell_type": "code",
   "execution_count": null,
   "id": "b413bb3f",
   "metadata": {},
   "outputs": [],
   "source": [
    "students['Paid'].value_counts()"
   ]
  },
  {
   "cell_type": "code",
   "execution_count": null,
   "id": "351383a2",
   "metadata": {},
   "outputs": [],
   "source": [
    "students['Paid'] = students['Paid'] == 'Y'\n",
    "students"
   ]
  },
  {
   "cell_type": "markdown",
   "id": "af4b84ff",
   "metadata": {
    "slideshow": {
     "slide_type": "slide"
    }
   },
   "source": [
    "### Cleaning `'Month'`, `'Day'`, and `'Year'`\n",
    "* Currently, these are stored separately using the `int64` data type. This could be *fine* for certain purposes, but ideally they are stored as a single column (e.g. for sorting).\n",
    "* Solutions:\n",
    "    * Store dates as strings of the form `'YYYY-MM-DD'`.\n",
    "    * Store dates as `datetime64` objects (later)."
   ]
  },
  {
   "cell_type": "code",
   "execution_count": null,
   "id": "8f9e9769",
   "metadata": {},
   "outputs": [],
   "source": [
    "(\n",
    "    students['Year'].astype(str) + '-' + \n",
    "    students['Month'].astype(str).str.zfill(2) + '-' + \n",
    "    students['Day'].astype(str).str.zfill(2)\n",
    ")"
   ]
  },
  {
   "cell_type": "markdown",
   "id": "bb8ee7b8",
   "metadata": {},
   "source": [
    "Note:\n",
    "- Due to **broadcasting**, we were able to add a Series to a string.\n",
    "- The `zfill` string method adds zeroes to the start of a string until it reaches the specified length."
   ]
  },
  {
   "cell_type": "markdown",
   "id": "8a0273f0",
   "metadata": {
    "slideshow": {
     "slide_type": "slide"
    }
   },
   "source": [
    "### Cleaning `'DSC 80 Final Grade'`\n",
    "\n",
    "* Currently, `'DSC 80 Final Grade'`s are stored as `object`s (strings).\n",
    "* Unless we somehow store this column to a numeric type, we can't do any arithmetic with it.\n",
    "* However, due to the existence of strings like `'Pass'`, we can't use `astype` to convert it.\n",
    "* Solution: use `pd.to_numeric(s, errors='coerce')`, where `s` is a Series.\n",
    "    - ⚠️ Be careful with this!\n",
    "    - `errors='coerce'` can cause uninformed destruction of data."
   ]
  },
  {
   "cell_type": "code",
   "execution_count": null,
   "id": "f0a66652",
   "metadata": {},
   "outputs": [],
   "source": [
    "# Won't work!\n",
    "students['DSC 80 Final Grade'].astype(int)"
   ]
  },
  {
   "cell_type": "code",
   "execution_count": null,
   "id": "385ff2e3",
   "metadata": {},
   "outputs": [],
   "source": [
    "pd.to_numeric(students['DSC 80 Final Grade'], errors='coerce')"
   ]
  },
  {
   "cell_type": "code",
   "execution_count": null,
   "id": "ebcb9da0",
   "metadata": {},
   "outputs": [],
   "source": [
    "students['DSC 80 Final Grade'] = pd.to_numeric(students['DSC 80 Final Grade'], errors='coerce')\n",
    "students"
   ]
  },
  {
   "cell_type": "code",
   "execution_count": null,
   "id": "261a968b",
   "metadata": {},
   "outputs": [],
   "source": [
    "pd.to_numeric?"
   ]
  },
  {
   "cell_type": "markdown",
   "id": "37c3c067",
   "metadata": {
    "slideshow": {
     "slide_type": "slide"
    }
   },
   "source": [
    "### Cleaning `'Student Name'`\n",
    "* We want names to be formatted as `'Last Name, First Name'`, a common format.\n",
    "* One solution: use the Series `apply` method.\n",
    "    - If `s` is a Series, `s.apply(func)` applies the function `func` to each entry of `s`."
   ]
  },
  {
   "cell_type": "code",
   "execution_count": null,
   "id": "521c7863",
   "metadata": {},
   "outputs": [],
   "source": [
    "students['Student Name']"
   ]
  },
  {
   "cell_type": "code",
   "execution_count": null,
   "id": "4bbb7577",
   "metadata": {},
   "outputs": [],
   "source": [
    "def transpose_name(name):\n",
    "    firstname, lastname = name.split()\n",
    "    return lastname + ', ' + firstname\n",
    "\n",
    "transpose_name('King Triton')"
   ]
  },
  {
   "cell_type": "code",
   "execution_count": null,
   "id": "ea5354d5",
   "metadata": {},
   "outputs": [],
   "source": [
    "students['Student Name'].apply(transpose_name)"
   ]
  },
  {
   "cell_type": "markdown",
   "id": "122fefa7",
   "metadata": {
    "slideshow": {
     "slide_type": "slide"
    }
   },
   "source": [
    "### Aside: string methods\n",
    "\n",
    "`str` methods are useful – use them!\n",
    "- To use them, access the `str` attribute of Series.\n",
    "- Then, whatever method/operator comes immediately after will be applied to each element of the Series individually, rather than the Series as a whole."
   ]
  },
  {
   "cell_type": "code",
   "execution_count": null,
   "id": "d4be78d3",
   "metadata": {},
   "outputs": [],
   "source": [
    "parts = students['Student Name'].str.split()\n",
    "parts"
   ]
  },
  {
   "cell_type": "code",
   "execution_count": null,
   "id": "9ae1d937",
   "metadata": {},
   "outputs": [],
   "source": [
    "parts.str[1] + ', ' + parts.str[0]"
   ]
  },
  {
   "cell_type": "markdown",
   "id": "fbab1d12",
   "metadata": {
    "slideshow": {
     "slide_type": "slide"
    }
   },
   "source": [
    "### More data type ambiguities\n",
    "\n",
    "- 1649043031 looks like a number, but is probably a date.\n",
    "    - [Unix timestamps](https://www.unixtimestamp.com) count the number of seconds since January 1st, 1970.\n",
    "\n",
    "- \"USD 1,000,000\" looks like a string, but is actually a number **and** a unit.\n",
    "    \n",
    "- 92093 looks like a number, but is really a zip code (and isn't equal to 92,093).\n",
    "    \n",
    "- Sometimes, `False` appears in a column of country codes. Why might this be? \n",
    "🤔"
   ]
  },
  {
   "cell_type": "markdown",
   "id": "2c85b7dc",
   "metadata": {
    "slideshow": {
     "slide_type": "slide"
    }
   },
   "source": [
    "### Example: the Norway problem 🇳🇴"
   ]
  },
  {
   "cell_type": "code",
   "execution_count": null,
   "id": "ebf0ac8a",
   "metadata": {
    "slideshow": {
     "slide_type": "-"
    }
   },
   "outputs": [],
   "source": [
    "import yaml\n",
    "\n",
    "player = '''\n",
    "name: Magnus Carlsen\n",
    "age: 31\n",
    "country: NO\n",
    "'''"
   ]
  },
  {
   "cell_type": "code",
   "execution_count": null,
   "id": "81a9053d",
   "metadata": {
    "scrolled": true
   },
   "outputs": [],
   "source": [
    "yaml.safe_load(player)"
   ]
  },
  {
   "cell_type": "markdown",
   "id": "2c9ada96",
   "metadata": {
    "slideshow": {
     "slide_type": "slide"
    }
   },
   "source": [
    "## Unfaithful data"
   ]
  },
  {
   "cell_type": "markdown",
   "id": "280ddcad",
   "metadata": {
    "slideshow": {
     "slide_type": "slide"
    }
   },
   "source": [
    "### Is the data \"faithful\" to the DGP?\n",
    "\n",
    "- In other words, how well does the data represent reality?\n",
    "\n",
    "- Does the data contain unrealistic or \"incorrect\" values?\n",
    "    - Dates in the future for events in the past.\n",
    "    - Locations that don't exist.\n",
    "    - Negative counts.\n",
    "    - Misspellings of names.\n",
    "    - Large outliers."
   ]
  },
  {
   "cell_type": "markdown",
   "id": "3761b06a",
   "metadata": {
    "slideshow": {
     "slide_type": "slide"
    }
   },
   "source": [
    "### Is the data \"faithful\" to the DGP?\n",
    "    \n",
    "- Does the data violate obvious dependencies?\n",
    "    - Age and birthday don't match. \n",
    "- Was the data entered by hand?\n",
    "     - Spelling errors.\n",
    "     - Fields shifted.\n",
    "     - Did the form require fields or provide default values?  \n",
    "- Are there obvious signs of data falsification (aka \"curbstoning\")?\n",
    "    - Repeated names.\n",
    "    - Fake looking email addresses.\n",
    "    - Repeated use of uncommon names or fields."
   ]
  },
  {
   "cell_type": "markdown",
   "id": "4bc541db",
   "metadata": {
    "slideshow": {
     "slide_type": "slide"
    }
   },
   "source": [
    "<center><img src='imgs/data-sd.png' width=70%></center>"
   ]
  },
  {
   "cell_type": "markdown",
   "id": "3d72d38e",
   "metadata": {
    "slideshow": {
     "slide_type": "slide"
    }
   },
   "source": [
    "### Example: Police vehicle stops 🚔\n",
    "\n",
    "The dataset we're working with contains all of the vehicle stops that the San Diego Police Department made in 2016.\n",
    "\n",
    "<center><img src=\"imgs/image_5.png\"/></center>"
   ]
  },
  {
   "cell_type": "markdown",
   "id": "a5216968",
   "metadata": {
    "slideshow": {
     "slide_type": "slide"
    }
   },
   "source": [
    "### General questions\n",
    "\n",
    "1. Check the data types. Notice any issues?\n",
    "2. Do string fields have consistent values?\n",
    "3. Are there missing values that we don't understand?\n",
    "4. Are all values within a reasonable range?\n",
    "5. How do we deal with the messiness we find?"
   ]
  },
  {
   "cell_type": "code",
   "execution_count": null,
   "id": "a46ade43",
   "metadata": {},
   "outputs": [],
   "source": [
    "stops = pd.read_csv('data/vehicle_stops_2016_datasd.csv')\n",
    "stops.head()"
   ]
  },
  {
   "cell_type": "markdown",
   "id": "b2bc5054",
   "metadata": {
    "slideshow": {
     "slide_type": "slide"
    }
   },
   "source": [
    "### Data types\n",
    "* Are the data types correct?\n",
    "* If not, are they easily fixable?"
   ]
  },
  {
   "cell_type": "code",
   "execution_count": null,
   "id": "90a1411b",
   "metadata": {
    "scrolled": true
   },
   "outputs": [],
   "source": [
    "stops.head(1)"
   ]
  },
  {
   "cell_type": "code",
   "execution_count": null,
   "id": "3020fba3",
   "metadata": {
    "scrolled": false
   },
   "outputs": [],
   "source": [
    "stops.info()"
   ]
  },
  {
   "cell_type": "markdown",
   "id": "27c4aa08",
   "metadata": {
    "slideshow": {
     "slide_type": "slide"
    }
   },
   "source": [
    "### Unfaithfulness\n",
    "* Are there suspicious values?\n",
    "* If a value is suspicious, can we trust the observation?\n",
    "* For example, consider `'subject_age'` – some are too high to be true, some are too low to be true."
   ]
  },
  {
   "cell_type": "code",
   "execution_count": null,
   "id": "90008bc6",
   "metadata": {},
   "outputs": [],
   "source": [
    "stops['subject_age'].unique()"
   ]
  },
  {
   "cell_type": "code",
   "execution_count": null,
   "id": "9c0aec15",
   "metadata": {},
   "outputs": [],
   "source": [
    "ages = pd.to_numeric(stops['subject_age'], errors='coerce')\n",
    "ages.describe()"
   ]
  },
  {
   "cell_type": "markdown",
   "id": "829d2e36",
   "metadata": {},
   "source": [
    "Ages range all over the place, from 0 to 220. Was a 220 year old really pulled over?"
   ]
  },
  {
   "cell_type": "code",
   "execution_count": null,
   "id": "47006759",
   "metadata": {},
   "outputs": [],
   "source": [
    "stops.loc[ages > 100]"
   ]
  },
  {
   "cell_type": "code",
   "execution_count": null,
   "id": "00442f8d",
   "metadata": {},
   "outputs": [],
   "source": [
    "ages.loc[(ages >= 0) & (ages < 16)].value_counts()"
   ]
  },
  {
   "cell_type": "code",
   "execution_count": null,
   "id": "6243f705",
   "metadata": {},
   "outputs": [],
   "source": [
    "stops.loc[(ages >= 0) & (ages < 16)]"
   ]
  },
  {
   "cell_type": "markdown",
   "id": "a0356b30",
   "metadata": {
    "slideshow": {
     "slide_type": "slide"
    }
   },
   "source": [
    "### Unfaithful `'subject_age'`\n",
    "\n",
    "* Ages of `'No Age'` and `0` are likely explicit null values.\n",
    "* What do we do about the exceptionally small and large ages?\n",
    "    - Do we throw the entire row away, even if the rest of row is well-formed?\n",
    "* What about the 14 and 15 year olds?\n",
    "    - Each has more than one occurrence – these could be real entries!"
   ]
  },
  {
   "cell_type": "markdown",
   "id": "57928850",
   "metadata": {
    "slideshow": {
     "slide_type": "slide"
    }
   },
   "source": [
    "### Human-entered data\n",
    "* Which fields were likely entered by a human?\n",
    "* Which fields were likely generated by code?\n",
    "    - What was the original source?"
   ]
  },
  {
   "cell_type": "markdown",
   "id": "5e82bcc8",
   "metadata": {},
   "source": [
    "Let's look at all unique stop causes. Notice that there are three different causes related to bicycles, which should probably all fall under the same cause."
   ]
  },
  {
   "cell_type": "code",
   "execution_count": null,
   "id": "dd5f5cba",
   "metadata": {},
   "outputs": [],
   "source": [
    "stops['stop_cause'].value_counts()"
   ]
  },
  {
   "cell_type": "markdown",
   "id": "ebf45889",
   "metadata": {},
   "source": [
    "Let's plot the distribution of ages, within a reasonable range (15 to 85). What do you notice?"
   ]
  },
  {
   "cell_type": "code",
   "execution_count": null,
   "id": "74440a20",
   "metadata": {},
   "outputs": [],
   "source": [
    "# DSC 10 review: what does density=True do?\n",
    "ages.loc[(ages > 15) & (ages <= 85)].plot(kind='hist', density=True, bins=70, ec='w');"
   ]
  },
  {
   "cell_type": "markdown",
   "id": "b3641f5d",
   "metadata": {},
   "source": [
    "Now let's look at the first few and last few rows of `stops`."
   ]
  },
  {
   "cell_type": "code",
   "execution_count": null,
   "id": "e168b5b8",
   "metadata": {},
   "outputs": [],
   "source": [
    "stops[['timestamp', 'stop_date', 'stop_time']].head()"
   ]
  },
  {
   "cell_type": "code",
   "execution_count": null,
   "id": "8e521d4b",
   "metadata": {},
   "outputs": [],
   "source": [
    "stops[['timestamp', 'stop_date', 'stop_time']].tail(10)"
   ]
  },
  {
   "cell_type": "markdown",
   "id": "7dd8c7da",
   "metadata": {},
   "source": [
    "Do you think `'-0:81'` is a time that a computer would record?"
   ]
  },
  {
   "cell_type": "markdown",
   "id": "6abcf98f",
   "metadata": {
    "slideshow": {
     "slide_type": "slide"
    }
   },
   "source": [
    "### Unfaithful data vs. outliers\n",
    "\n",
    "* Unfaithful data are data that don't accurately represent the data generating process.\n",
    "* Outliers are \"unusual\" observations, unlike the rest of the data. They may be real, or they may be unfaithful.\n",
    "    - For instance, it's possible that a 102-year old was pulled over for speeding.\n",
    "* The two are hard to tell apart; doing so often requires research and domain knowledge."
   ]
  },
  {
   "cell_type": "markdown",
   "id": "852b7360",
   "metadata": {
    "slideshow": {
     "slide_type": "slide"
    }
   },
   "source": [
    "### Outliers\n",
    "\n",
    "* **Consistently \"incorrect\" values**.\n",
    "    - Example: Recorded ages of -1 or 99.\n",
    "    - These are often \"default\" values, often used when a value is missing.\n",
    "    - Solution: Change the value to the correct one if it is known!\n",
    "    \n",
    "* **Abnormal artifacts from the data collection process**.\n",
    "    - Example: Spikes in recorded ages at round numbers (25, 30, 35, 40), or spikes in recorded COVID cases on Mondays.\n",
    "    - Solution: Try \"smoothing\", e.g. binning the ages.\n",
    "        \n",
    "* **Unreasonable outliers**.\n",
    "    - Example: Age of 200.\n",
    "    - Solution: Not sure. Could remove the row. Could be indicative of a bug in the data collection process. Could be real!"
   ]
  },
  {
   "cell_type": "markdown",
   "id": "79ddcef6",
   "metadata": {
    "slideshow": {
     "slide_type": "slide"
    }
   },
   "source": [
    "### Reminder: tools 🛠\n",
    "\n",
    "You'll use the following methods regularly when initially exploring a dataset.\n",
    "\n",
    "- `.describe()`: see basic numerical information about a Series/DataFrame.\n",
    "- `.info()`: see data types and the number of missing values in a Series/DataFrame.\n",
    "- `.value_counts()`: see the distribution of a categorical variable.\n",
    "- `.plot(kind='hist')`: plot the distribution of a numerical variable."
   ]
  },
  {
   "cell_type": "code",
   "execution_count": null,
   "id": "40ee73fe",
   "metadata": {},
   "outputs": [],
   "source": [
    "stops = pd.read_csv('data/vehicle_stops_2016_datasd.csv')\n",
    "stops.head()"
   ]
  },
  {
   "cell_type": "markdown",
   "id": "e350c1dc",
   "metadata": {
    "slideshow": {
     "slide_type": "slide"
    }
   },
   "source": [
    "## Missing values"
   ]
  },
  {
   "cell_type": "markdown",
   "id": "22c6210c",
   "metadata": {
    "slideshow": {
     "slide_type": "slide"
    }
   },
   "source": [
    "### Where'd you go?\n",
    "\n",
    "* Missing values in a dataset can occur from:\n",
    "    - Intentional logic, where a value doesn't make sense.\n",
    "    - A non-response in the measurement process.\n",
    "    - Mistakes in the data recording process.\n",
    "    - ...\n",
    "* Another term for \"missing\" is \"null\".\n",
    "    \n",
    "* Missing values are most often encoded with `NULL`, `None`, `NaN`, `''`, etc."
   ]
  },
  {
   "cell_type": "markdown",
   "id": "ff07bcd2",
   "metadata": {
    "slideshow": {
     "slide_type": "slide"
    }
   },
   "source": [
    "### Common representations of \"null\"\n",
    "\n",
    "- All forms of `0` (e.g. `0`, `'0'`, `'zero'`) are common substitutes for null.\n",
    "- -1 is common if a column must be non-negative.\n",
    "- 1900 and 1970 are common if a non-null date is required.\n",
    "    - Remember, Unix time starts counting from January 1, 1970."
   ]
  },
  {
   "cell_type": "markdown",
   "id": "d1ec8bee",
   "metadata": {
    "slideshow": {
     "slide_type": "slide"
    }
   },
   "source": [
    "### Common representations of \"null\"\n",
    "\n",
    "- Some common representations for \"null\" are also real values themselves!\n",
    "- For instance, the point 0°00'00.0\"N+0°00'00.0\"E in the South Atlantic Ocean is called \"Null Island.\"\n",
    "\n",
    "<center><img src='imgs/null.png' width=60%></center>\n",
    "\n",
    "- [This person's name is Mr. Null!](https://www.wired.com/2015/11/null/)"
   ]
  },
  {
   "cell_type": "markdown",
   "id": "5973b231",
   "metadata": {
    "slideshow": {
     "slide_type": "slide"
    }
   },
   "source": [
    "### Missing values in the stops dataset\n",
    "\n",
    "What are the non-`np.NaN` null values in the stops dataset?\n",
    "- Service Area: `'Unknown'`.\n",
    "- Subject Age: `0`, `'No Age'`.\n",
    "- Others?"
   ]
  },
  {
   "cell_type": "code",
   "execution_count": null,
   "id": "8086a49b",
   "metadata": {},
   "outputs": [],
   "source": [
    "stops"
   ]
  },
  {
   "cell_type": "markdown",
   "id": "7f5cc8b1",
   "metadata": {
    "slideshow": {
     "slide_type": "slide"
    }
   },
   "source": [
    "### Finding null values in `pandas`\n",
    "\n",
    "* Null values are encoded using NumPy's `NaN` value, which is of type `float`.\n",
    "* The `isna` method for DataFrame/Series detects missing values.\n",
    "    - It returns a Boolean DataFrame/Series.\n",
    "    - `isnull` is equivalent to `isna`."
   ]
  },
  {
   "cell_type": "code",
   "execution_count": null,
   "id": "cc2af106",
   "metadata": {},
   "outputs": [],
   "source": [
    "type(np.NaN)"
   ]
  },
  {
   "cell_type": "code",
   "execution_count": null,
   "id": "16bf7dfd",
   "metadata": {},
   "outputs": [],
   "source": [
    "# All of the rows where the subject age is missing\n",
    "stops[stops['subject_age'].isna()]"
   ]
  },
  {
   "cell_type": "code",
   "execution_count": null,
   "id": "333e9027",
   "metadata": {},
   "outputs": [],
   "source": [
    "# Proportion of values missing in the subject_age column\n",
    "stops['subject_age'].isna().mean()"
   ]
  },
  {
   "cell_type": "code",
   "execution_count": null,
   "id": "628ddd47",
   "metadata": {},
   "outputs": [],
   "source": [
    "# Proportion of missing values in all columns\n",
    "stops.isna().mean()"
   ]
  },
  {
   "cell_type": "markdown",
   "id": "17fbd610",
   "metadata": {
    "slideshow": {
     "slide_type": "slide"
    }
   },
   "source": [
    "### Dropping observations with null values\n",
    "- The `dropna` method:\n",
    "    - when used on a Series, returns a new Series with all null entries removed.\n",
    "    - when used on a DataFrame, returns a new DataFrame where all rows with at least one null value are removed.\n",
    "- Don't drop rows unless absolutely necessary!\n",
    "    - Usually, there is still useful information in the other columns."
   ]
  },
  {
   "cell_type": "code",
   "execution_count": null,
   "id": "dd5d772e",
   "metadata": {},
   "outputs": [],
   "source": [
    "stops.head()"
   ]
  },
  {
   "cell_type": "code",
   "execution_count": null,
   "id": "eb9d7c69",
   "metadata": {},
   "outputs": [],
   "source": [
    "stops.dropna().head()"
   ]
  },
  {
   "cell_type": "code",
   "execution_count": null,
   "id": "befb1e23",
   "metadata": {},
   "outputs": [],
   "source": [
    "stops.shape"
   ]
  },
  {
   "cell_type": "code",
   "execution_count": null,
   "id": "67194b3b",
   "metadata": {},
   "outputs": [],
   "source": [
    "stops.dropna().shape"
   ]
  },
  {
   "cell_type": "markdown",
   "id": "c003daf9",
   "metadata": {
    "slideshow": {
     "slide_type": "slide"
    }
   },
   "source": [
    "### Dropping observations with null values\n",
    "\n",
    "When used on a DataFrame:\n",
    "\n",
    "* `.dropna()` drops **rows** containing **at least one** null value.\n",
    "* `.dropna(how='all')` drops **rows** containing **only** null values.\n",
    "* `.dropna(axis=1)` drops **columns** containing at least one null value.\n",
    "* Other keyword arguments: `thresh`, `subset`."
   ]
  },
  {
   "cell_type": "code",
   "execution_count": null,
   "id": "0d22faca",
   "metadata": {},
   "outputs": [],
   "source": [
    "nans = pd.DataFrame([[0, 1, np.NaN], [np.NaN, np.NaN, np.NaN], [1, 2, 3]], columns='A B C'.split())\n",
    "nans"
   ]
  },
  {
   "cell_type": "code",
   "execution_count": null,
   "id": "7a94477e",
   "metadata": {},
   "outputs": [],
   "source": [
    "nans.dropna(how='any')"
   ]
  },
  {
   "cell_type": "code",
   "execution_count": null,
   "id": "614fdb5e",
   "metadata": {},
   "outputs": [],
   "source": [
    "nans.dropna(how='all')"
   ]
  },
  {
   "cell_type": "code",
   "execution_count": null,
   "id": "8621f800",
   "metadata": {},
   "outputs": [],
   "source": [
    "nans.dropna(axis=1)"
   ]
  },
  {
   "cell_type": "code",
   "execution_count": null,
   "id": "00028e79",
   "metadata": {},
   "outputs": [],
   "source": [
    "nans.dropna(subset=['A', 'B'])"
   ]
  },
  {
   "cell_type": "markdown",
   "id": "7cb6e5a3",
   "metadata": {
    "slideshow": {
     "slide_type": "slide"
    }
   },
   "source": [
    "### Filling null values\n",
    "\n",
    "The `fillna` method replaces all null values. Specifically:\n",
    "\n",
    "* `.fillna(val)` fills null entries with the value `val`.\n",
    "* `.fillna(dict)` fills null entries using a dictionary `dict` of column/row values.\n",
    "* `.fillna(method='bfill')` and `.fillna(method='ffill')` fill null entries using neighboring non-null entries."
   ]
  },
  {
   "cell_type": "code",
   "execution_count": null,
   "id": "e6880e6d",
   "metadata": {},
   "outputs": [],
   "source": [
    "nans"
   ]
  },
  {
   "cell_type": "code",
   "execution_count": null,
   "id": "22021812",
   "metadata": {},
   "outputs": [],
   "source": [
    "# Filling all NaNs with the same value\n",
    "nans.fillna('billy')"
   ]
  },
  {
   "cell_type": "code",
   "execution_count": null,
   "id": "7574fb5d",
   "metadata": {},
   "outputs": [],
   "source": [
    "# Filling NaNs differently for each column\n",
    "nans.fillna({'A': 'f0', 'B': 'f1', 'C': 'f2'})"
   ]
  },
  {
   "cell_type": "code",
   "execution_count": null,
   "id": "a6549991",
   "metadata": {},
   "outputs": [],
   "source": [
    "# Dictionary of column means\n",
    "# Note that most numerical methods ignore null values\n",
    "means = {c: nans[c].mean() for c in nans.columns}\n",
    "means"
   ]
  },
  {
   "cell_type": "code",
   "execution_count": null,
   "id": "e5303b9f",
   "metadata": {},
   "outputs": [],
   "source": [
    "# Filling NaNs with column means\n",
    "nans.fillna(means)"
   ]
  },
  {
   "cell_type": "code",
   "execution_count": null,
   "id": "7b59a41a",
   "metadata": {},
   "outputs": [],
   "source": [
    "# Another way of doing the same thing\n",
    "nans.apply(lambda x: x.fillna(x.mean()), axis=0)"
   ]
  },
  {
   "cell_type": "code",
   "execution_count": null,
   "id": "2c1f49e7",
   "metadata": {},
   "outputs": [],
   "source": [
    "nans"
   ]
  },
  {
   "cell_type": "code",
   "execution_count": null,
   "id": "0d6921b0",
   "metadata": {},
   "outputs": [],
   "source": [
    "# bfill stands for \"backfill\"\n",
    "nans.fillna(method='bfill')"
   ]
  },
  {
   "cell_type": "code",
   "execution_count": null,
   "id": "ea69ee14",
   "metadata": {},
   "outputs": [],
   "source": [
    "# ffill stands for \"forward fill\"\n",
    "nans.fillna(method='ffill')"
   ]
  },
  {
   "cell_type": "markdown",
   "id": "460871a4",
   "metadata": {
    "slideshow": {
     "slide_type": "slide"
    }
   },
   "source": [
    "### Data types and `np.NaN`\n",
    "\n",
    "* The result of *any* comparison (`==`, `!=`, `<`, `>`) with `np.NaN` is `False`.\n",
    "* Instead, use the function `pd.isna`, which returns whether the argument is `np.NaN` or `None`.\n",
    "    - Can also use `pd.isnull`.\n",
    "* Remember, `NaN` is of type `float` – watch out for type coercion!"
   ]
  },
  {
   "cell_type": "code",
   "execution_count": null,
   "id": "0837281b",
   "metadata": {
    "scrolled": true
   },
   "outputs": [],
   "source": [
    "nans"
   ]
  },
  {
   "cell_type": "code",
   "execution_count": null,
   "id": "5ce90240",
   "metadata": {},
   "outputs": [],
   "source": [
    "np.NaN == np.NaN"
   ]
  },
  {
   "cell_type": "code",
   "execution_count": null,
   "id": "1d2594c3",
   "metadata": {},
   "outputs": [],
   "source": [
    "pd.isna(np.NaN)"
   ]
  },
  {
   "cell_type": "code",
   "execution_count": null,
   "id": "d46790fb",
   "metadata": {},
   "outputs": [],
   "source": [
    "nans.isna()"
   ]
  },
  {
   "cell_type": "code",
   "execution_count": null,
   "id": "1eb1ae5b",
   "metadata": {},
   "outputs": [],
   "source": [
    "nans.isnull()"
   ]
  },
  {
   "cell_type": "code",
   "execution_count": null,
   "id": "d40b870e",
   "metadata": {
    "scrolled": true,
    "slideshow": {
     "slide_type": "-"
    }
   },
   "outputs": [],
   "source": [
    "# Since np.NaN is a float, the Series is of type float despite the two ints\n",
    "pd.Series([0, 1, np.NaN])"
   ]
  },
  {
   "cell_type": "markdown",
   "id": "18d13ced",
   "metadata": {
    "slideshow": {
     "slide_type": "slide"
    }
   },
   "source": [
    "### More soon...\n",
    "\n",
    "- That's all we'll discuss regarding missing values for now.\n",
    "- However, once we recap hypothesis and permutation testing, we will introduce the idea of **imputation**, in which we will learn how to fill missing values using other information in the DataFrame.\n",
    "- Stay tuned!"
   ]
  },
  {
   "cell_type": "markdown",
   "id": "4170226a",
   "metadata": {
    "slideshow": {
     "slide_type": "slide"
    }
   },
   "source": [
    "## Next time, in DSC 80...\n",
    "\n",
    "... hypothesis testing."
   ]
  }
 ],
 "metadata": {
  "celltoolbar": "Slideshow",
  "kernelspec": {
   "display_name": "Python 3 (ipykernel)",
   "language": "python",
   "name": "python3"
  },
  "language_info": {
   "codemirror_mode": {
    "name": "ipython",
    "version": 3
   },
   "file_extension": ".py",
   "mimetype": "text/x-python",
   "name": "python",
   "nbconvert_exporter": "python",
   "pygments_lexer": "ipython3",
   "version": "3.9.6"
  },
  "rise": {
   "transition": "none"
  }
 },
 "nbformat": 4,
 "nbformat_minor": 5
}
