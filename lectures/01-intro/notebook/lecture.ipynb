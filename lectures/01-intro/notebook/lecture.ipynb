{
 "cells": [
  {
   "cell_type": "code",
   "execution_count": null,
   "id": "9ee1fce2",
   "metadata": {},
   "outputs": [],
   "source": [
    "import pandas as pd\n",
    "import numpy as np\n",
    "\n",
    "import matplotlib.pyplot as plt\n",
    "plt.rcParams['figure.figsize'] = (10, 5)\n"
   ]
  },
  {
   "cell_type": "markdown",
   "id": "61dfa21e",
   "metadata": {
    "slideshow": {
     "slide_type": "slide"
    }
   },
   "source": [
    "<center><h1>Welcome to DSC 80! 🎉</h1></center>"
   ]
  },
  {
   "cell_type": "markdown",
   "id": "07213ce0",
   "metadata": {
    "slideshow": {
     "slide_type": "slide"
    }
   },
   "source": [
    "## Agenda\n",
    "\n",
    "- Who am I?\n",
    "- What does a data scientist do?\n",
    "- What is this course about, and how will it run?\n",
    "- The data science lifecycle."
   ]
  },
  {
   "cell_type": "markdown",
   "id": "be426149",
   "metadata": {
    "slideshow": {
     "slide_type": "slide"
    }
   },
   "source": [
    "## Me\n",
    "\n",
    "- Dr. Justin Eldridge\n",
    "    - just \"Justin\" is good\n",
    "- Originally from Ohio.\n",
    "- Research background in machine learning theory\n",
    "    - https://eldridgejm.github.io"
   ]
  },
  {
   "cell_type": "markdown",
   "id": "0cb2438a",
   "metadata": {
    "slideshow": {
     "slide_type": "slide"
    }
   },
   "source": [
    "## Me\n",
    "\n",
    "- Outside of the classroom: making things, backpacking, dog fostering\n",
    "\n",
    "<div style=\"float: left\">\n",
    "    <div style=\"float: left; padding: 1em\">\n",
    "        <img style=\"width: 500px\" src=\"./imgs/kearsarge.jpg\">\n",
    "    </div>\n",
    "    <div  style=\"float: left; padding: 1em\">\n",
    "        <img style=\"width: 500px\" src=\"./imgs/chappo.jpg\">\n",
    "    </div>\n",
    "</div>"
   ]
  },
  {
   "cell_type": "markdown",
   "id": "ddc76ddc",
   "metadata": {
    "slideshow": {
     "slide_type": "slide"
    }
   },
   "source": [
    "## What is data science? 🤔"
   ]
  },
  {
   "cell_type": "markdown",
   "id": "32cd92f7",
   "metadata": {
    "slideshow": {
     "slide_type": "slide"
    }
   },
   "source": [
    "### What is data science?\n",
    "\n",
    "<br>\n",
    "\n",
    "<center><img src='imgs/what-is-ds.png' width=800></center>\n",
    "\n",
    "<center>Everyone seems to have their own definition of what data science is.</center>"
   ]
  },
  {
   "cell_type": "markdown",
   "id": "9197ba96",
   "metadata": {
    "slideshow": {
     "slide_type": "slide"
    }
   },
   "source": [
    "### The DSC 10 definition\n",
    "\n",
    "In DSC 10, we told you that science is about **drawing useful conclusions from data using computation**.\n",
    "\n",
    "- **Exploration.**\n",
    "    - Identifying patterns in information.\n",
    "    - Uses visualizations.\n",
    "- **Prediction.**\n",
    "    - Making informed guesses.\n",
    "    - Uses machine learning and optimization.\n",
    "- **Inference.**\n",
    "    - Quantifying whether those predictions are reliable.\n",
    "    - Uses randomization.\n",
    "\n",
    "Let's look at some other definitions."
   ]
  },
  {
   "cell_type": "markdown",
   "id": "c0c7def6",
   "metadata": {
    "slideshow": {
     "slide_type": "slide"
    }
   },
   "source": [
    "### What is data science?\n",
    "\n",
    "<center><img src=\"imgs/image_0.png\"></center>\n",
    "\n",
    "In 2010, Drew Conway published his famous [Data Science Venn Diagram](http://drewconway.com/zia/2013/3/26/the-data-science-venn-diagram)."
   ]
  },
  {
   "cell_type": "markdown",
   "id": "f0a3ce1c",
   "metadata": {
    "slideshow": {
     "slide_type": "slide"
    }
   },
   "source": [
    "### What is data science?\n",
    "\n",
    "There isn't agreement on which \"Venn Diagram\" is correct!\n",
    "\n",
    "<center><img src=\"imgs/image_1.png\" width=500></center>\n",
    "\n",
    "- **Why not?** The field is new and rapidly developing.\n",
    "- Make sure you're solid on the fundamentals, then find a niche that you enjoy.\n",
    "- Read Kolassa, [Battle of the Data Science Venn Diagrams](http://www.prooffreader.com/2016/09/battle-of-data-science-venn-diagrams.html)."
   ]
  },
  {
   "cell_type": "markdown",
   "id": "8263fb1e",
   "metadata": {
    "slideshow": {
     "slide_type": "slide"
    }
   },
   "source": [
    "### What does a _data scientist_ do?\n",
    "\n",
    "In 2016, O'Reilly administered a [Data Scientice Salary Survey](https://www.oreilly.com/radar/2016-data-science-salary-survey-results/). Part of the survey asked self-identified data scientists what tasks they do on a regular basis.\n",
    "\n",
    "<center><img src='imgs/oreilly.png' width=600></center>\n",
    "\n",
    "What do you notice?"
   ]
  },
  {
   "cell_type": "markdown",
   "id": "c2f2c5fb",
   "metadata": {
    "slideshow": {
     "slide_type": "slide"
    }
   },
   "source": [
    "### What does a _data scientist_ do?\n",
    "\n",
    "My take: in DSC 80, and in the DSC major more broadly, we are equipping you to **find insights in ambiguity using data**.\n",
    "\n",
    "- *Ambiguity* (i.e., *uncertainty*) is what makes data science challenging (and high paying...)\n",
    "\n",
    "Let's look at some examples of data science in practice."
   ]
  },
  {
   "cell_type": "markdown",
   "id": "a9681392",
   "metadata": {
    "slideshow": {
     "slide_type": "slide"
    }
   },
   "source": [
    "### Analyzing Wordle trends\n",
    "\n",
    "<center><img src='imgs/wordle-moving-average.png'</center>\n",
    "    \n",
    "Moving average of the average number of guesses taken for each Wordle word, based on patterns shared on Twitter. ([source](https://observablehq.com/@rlesser/wordle-twitter-exploration))"
   ]
  },
  {
   "cell_type": "markdown",
   "id": "85c2222d",
   "metadata": {
    "slideshow": {
     "slide_type": "slide"
    }
   },
   "source": [
    "### Analyzing Wordle trends\n",
    "\n",
    "<center><img src='imgs/wordle-tweets.png'</center>\n",
    "    \n",
    "Number of Wordle patterns shared per day on Twitter. ([source](https://observablehq.com/@rlesser/wordle-twitter-exploration))"
   ]
  },
  {
   "cell_type": "markdown",
   "id": "2c10877c",
   "metadata": {
    "slideshow": {
     "slide_type": "slide"
    }
   },
   "source": [
    "### Forecasting COVID cases\n",
    "\n",
    "<center><img src='imgs/ucsd-forecast.png' width=80%></center>\n",
    "\n",
    "Results of the `UCSD_NEU-DeepGLEAM` COVID cases forecasting model for the upcoming week ([source](https://viz.covid19forecasthub.org))."
   ]
  },
  {
   "cell_type": "markdown",
   "id": "26e68af0",
   "metadata": {
    "slideshow": {
     "slide_type": "slide"
    }
   },
   "source": [
    "### Forecasting COVID cases\n",
    "\n",
    "> Evaluation of case forecasts showed that more reported cases than expected fell outside the forecast prediction intervals for extended periods of time. Given this low reliability, COVID-19 case forecasts will no longer be posted by the Centers for Disease Control and Prevention. - [CDC.gov](https://www.cdc.gov/coronavirus/2019-ncov/science/forecasting/forecasts-cases.html)"
   ]
  },
  {
   "cell_type": "markdown",
   "id": "1941c29e",
   "metadata": {
    "slideshow": {
     "slide_type": "slide"
    }
   },
   "source": [
    "### Depixelizer\n",
    "\n",
    "A [\"Face Depixelizer\"](https://github.com/tg-bomze/Face-Depixelizer) released in 2020 takes pixelated images and generates images that are perceptually realistic and downscale correctly.\n",
    "\n",
    "<center>\n",
    "<img src='imgs/depixel.png' width=300>\n",
    "</center>"
   ]
  },
  {
   "cell_type": "markdown",
   "id": "a6229ec3",
   "metadata": {
    "slideshow": {
     "slide_type": "slide"
    }
   },
   "source": [
    "What happened here? Why do you think this happened?\n",
    "\n",
    "<center>\n",
    "<img src='imgs/depixel2.png' width=600>\n",
    "</center>"
   ]
  },
  {
   "cell_type": "markdown",
   "id": "a46d39b8",
   "metadata": {
    "slideshow": {
     "slide_type": "slide"
    }
   },
   "source": [
    "### Data science involves _people_ 🧍\n",
    "\n",
    "The decisions that we make as data scientists have the potential to impact the livelihoods of other people.\n",
    "\n",
    "- COVID case forecasting.\n",
    "- Admissions and hiring.\n",
    "- Hyper-personalized ad recommendations.\n",
    "- Criminal sentencing."
   ]
  },
  {
   "cell_type": "markdown",
   "id": "ffd48fb7",
   "metadata": {
    "slideshow": {
     "slide_type": "slide"
    }
   },
   "source": [
    "### Warning! ⚠️\n",
    "\n",
    "- Good data analysis is not:\n",
    "    - A simple application of a statistics formula.\n",
    "    - A simple application of statistical software.\n",
    "\n",
    "- There are many tools out there for data science, but they are merely tools. **They don’t do any of the important thinking – that's where you come in!**\n",
    "\n",
    "> _“The purpose of computing is insight, not numbers.”_ - R. Hamming. Numerical Methods for Scientists and Engineers (1962)."
   ]
  },
  {
   "cell_type": "markdown",
   "id": "64a2adc3",
   "metadata": {
    "slideshow": {
     "slide_type": "slide"
    }
   },
   "source": [
    "## Course content"
   ]
  },
  {
   "cell_type": "markdown",
   "id": "5a6aade9",
   "metadata": {
    "slideshow": {
     "slide_type": "slide"
    }
   },
   "source": [
    "### Course goals\n",
    "\n",
    "DSC 80 is about the practice of dealing with messy, ambiguous, and complex data.\n",
    "\n",
    "In this course, you will...\n",
    "\n",
    "* Practice translating potentially vague questions into quantitative questions about measurable observations.\n",
    "* Learn to reason about 'black-box' processes (e.g. complicated models).\n",
    "* Understand computational and statistical implications of working with data.\n",
    "* Learn to use real data tools (e.g. love the documentation!).\n",
    "* Get a taste of the \"life of a data scientist\"."
   ]
  },
  {
   "cell_type": "markdown",
   "id": "e61de8c0",
   "metadata": {
    "slideshow": {
     "slide_type": "slide"
    }
   },
   "source": [
    "### Course outcomes\n",
    "\n",
    "After this course, you will...\n",
    "\n",
    "* Be prepared for internships and data science \"take home\" interviews!\n",
    "* Be ready to create your own portfolio of personal projects.\n",
    "* Have the background and maturity to succeed in the upper-division."
   ]
  },
  {
   "cell_type": "markdown",
   "id": "193a1239",
   "metadata": {
    "slideshow": {
     "slide_type": "slide"
    }
   },
   "source": [
    "### Topics\n",
    "\n",
    "This course was desgined by a former data scientist at Amazon (Aaron Fraenkel). As such, you'll be learning skills that you **need** to know as a data scientist.\n",
    "\n",
    "- Week 1: DataFrames in `pandas`\n",
    "- Week 2: Messy Data and Hypothesis Testing\n",
    "- Week 3: Combining Data\n",
    "- Week 4: Permutation Testing and Missing Values\n",
    "- Week 5: Imputation, **Midterm Exam**\n",
    "- Week 6: Web Scraping and Regex\n",
    "- Week 7: Feature Engineering\n",
    "- Week 8: Modeling in `scikit-learn`\n",
    "- Week 9: Model Evaluation\n",
    "- Week 10: Review, **Final Exam**"
   ]
  },
  {
   "cell_type": "markdown",
   "id": "f07e3c05",
   "metadata": {
    "slideshow": {
     "slide_type": "slide"
    }
   },
   "source": [
    "## Course logistics"
   ]
  },
  {
   "cell_type": "markdown",
   "id": "54ce96da",
   "metadata": {
    "slideshow": {
     "slide_type": "slide"
    }
   },
   "source": [
    "### Course website\n",
    "\n",
    "The course website is your one-stop-shop for all things related to the course.\n",
    "\n",
    "<br>\n",
    "\n",
    "<center><h3><a href=\"https://dsc80.com\">dsc80.com</a></h3></center>\n",
    "\n",
    "<br>\n",
    "\n",
    "Make sure to **read the [syllabus](https://dsc80.com/syllabus)**!"
   ]
  },
  {
   "cell_type": "markdown",
   "id": "5f708787",
   "metadata": {
    "slideshow": {
     "slide_type": "slide"
    }
   },
   "source": [
    "### Getting set up\n",
    "\n",
    "- **Ed**: Q&A forum. Must be active here, since this is where all announcements will be made.\n",
    "- **Gradescope**: Where you will submit all assignments for autograding, and where all of your grades will live.\n",
    "- **Canvas**: no."
   ]
  },
  {
   "cell_type": "markdown",
   "id": "96251e8f",
   "metadata": {
    "slideshow": {
     "slide_type": "slide"
    }
   },
   "source": [
    "### Accessing course content on GitHub\n",
    "\n",
    "You will access all course content by pulling the course GitHub repository:\n",
    "\n",
    "<br>\n",
    "\n",
    "<center><b><a href=https://github.com/dsc-courses/dsc80-2022-fa>github.com/dsc-courses/dsc80-2022-fa</a></b></center>\n",
    "\n",
    "<br>\n",
    "\n",
    "You must **pull** from this repository to access all course materials (including blank copies of assignments)."
   ]
  },
  {
   "cell_type": "markdown",
   "id": "fd15072a",
   "metadata": {
    "slideshow": {
     "slide_type": "slide"
    }
   },
   "source": [
    "### Environment setup\n",
    "\n",
    "- You have two choices:\n",
    "    - Set up your own Python environment (**strongly recommended**).\n",
    "    - Use DataHub.\n",
    "- Either way, follow the instructions on the [Tech Support](https://dsc80.com/tech_support.html) page of the course website.\n",
    "- Once you set up your environment, you will pull the course repo every time a new assignment comes out.\n",
    "- **Note:** You will submit your work to Gradescope directly, without using Git.\n",
    "- Will post a demo video with Lab 1."
   ]
  },
  {
   "cell_type": "markdown",
   "id": "9b064cd7",
   "metadata": {
    "slideshow": {
     "slide_type": "slide"
    }
   },
   "source": [
    "### Assignments\n",
    "\n",
    "In this course, you will learn by doing!\n",
    "\n",
    "- **Labs (25%):** 9 total. Due weekly on Mondays, starting next week.\n",
    "- **Projects (30%)**: 5 total. Usually due on Thursdays, and usually have a \"checkpoint.\"\n",
    "- **Discussions (3% EC)**: ~8 total. Optional, for extra credit.\n",
    "\n",
    "In DSC 80, assignments will usually consist of both a Jupyter Notebook and a `.py` file. You will write your code in the `.py` file; the Jupyter Notebook will contain problem descriptions and test cases. Lab 1 will explain the workflow."
   ]
  },
  {
   "cell_type": "markdown",
   "id": "72f71150",
   "metadata": {
    "slideshow": {
     "slide_type": "slide"
    }
   },
   "source": [
    "### Exams\n",
    "\n",
    "- **Midterm Exam (15%):** in-person, during regular lecture time.\n",
    "- **Final Exam (25%):** in-person."
   ]
  },
  {
   "cell_type": "markdown",
   "id": "3d218c06",
   "metadata": {
    "slideshow": {
     "slide_type": "slide"
    }
   },
   "source": [
    "### Resources\n",
    "\n",
    "- Your main resource will be lecture notebooks.\n",
    "- Most lectures also have supplemental readings that come from our course notes, [notes.dsc80.com](https://notes.dsc80.com).\n",
    "- Other resources:\n",
    "    - Wes McKinney. \"Python for Data Analysis\".\n",
    "    - [DSC 10 Course Notes](https://notes.dsc10.com) – great refresher on `babypandas`.\n",
    "    - [Principles and Techniques of Data Science](https://www.textbook.ds100.org/).\n",
    "    - [Computational and Inferential Thinking](https://www.inferentialthinking.com).\n",
    "    - [pandastutor.com](https://pandastutor.com).\n",
    "    - As the quarter progresses, we'll add more resources to the [Resources tab](https://dsc80.com/resources) of the course website."
   ]
  },
  {
   "cell_type": "markdown",
   "id": "004f1d88",
   "metadata": {
    "slideshow": {
     "slide_type": "slide"
    }
   },
   "source": [
    "### Support 🫂\n",
    "\n",
    "It is no secret that this course requires **a lot** of work - becoming fluent with working with data is hard!\n",
    "\n",
    "- You will learn how to solve problems **independently** – documentation and the internet will be your friends.\n",
    "- Learning how to effectively check your work and debug is extremely useful.\n",
    "- Learning to stick with a problem (*tenacity*) is a very valuable skill; but don't be afraid to ask for help.\n",
    "\n",
    "Once you've tried to solve problems on your own, we're glad to help.\n",
    "\n",
    "- **Office hours** are offered both remotely and in-person. See the [Calendar 📆](https://dsc80.com/office_hours.html) for details.\n",
    "- **Ed** is your friend too. Make your conceptual questions public, and make your debugging questions private."
   ]
  },
  {
   "cell_type": "markdown",
   "id": "430da7ba",
   "metadata": {
    "slideshow": {
     "slide_type": "slide"
    }
   },
   "source": [
    "## Announcement\n",
    "\n",
    "- Special guest lecture by **Eric Colson**\n",
    "    - Former VP Of Data Science & Engineering at Netflix;\n",
    "    - Former Chief Algorithms Officer at Stitch Fix \n",
    "- **October 6** (normal Thursday lecture time and place)\n"
   ]
  },
  {
   "cell_type": "markdown",
   "id": "e3bb2a04",
   "metadata": {
    "slideshow": {
     "slide_type": "slide"
    }
   },
   "source": [
    "## The data science lifecycle 🚴"
   ]
  },
  {
   "cell_type": "markdown",
   "id": "afd51458",
   "metadata": {
    "slideshow": {
     "slide_type": "slide"
    }
   },
   "source": [
    "### The scientific method\n",
    "\n",
    "You learned about the scientific method in elementary school. "
   ]
  },
  {
   "cell_type": "markdown",
   "id": "621c38e0",
   "metadata": {
    "slideshow": {
     "slide_type": "fragment"
    }
   },
   "source": [
    "<center><img src=\"imgs/image_3.png\" width=500></center>"
   ]
  },
  {
   "cell_type": "markdown",
   "id": "56ee9fdd",
   "metadata": {
    "slideshow": {
     "slide_type": "fragment"
    }
   },
   "source": [
    "However, it hides a lot of complexity.\n",
    "- Where did the hypothesis come from?\n",
    "- What data are you modeling? Is the data sufficient?\n",
    "- Under which conditions are the conclusions valid?"
   ]
  },
  {
   "cell_type": "markdown",
   "id": "1a45f8c4",
   "metadata": {
    "slideshow": {
     "slide_type": "slide"
    }
   },
   "source": [
    "### The data science lifecycle\n",
    "\n",
    "<center><img src=\"imgs/DSLC.png\" width=\"40%\"></center>"
   ]
  },
  {
   "cell_type": "markdown",
   "id": "1bb7af57",
   "metadata": {
    "slideshow": {
     "slide_type": "fragment"
    }
   },
   "source": [
    "**All steps lead to more questions!**"
   ]
  },
  {
   "cell_type": "code",
   "execution_count": null,
   "id": "1b013a3d",
   "metadata": {},
   "outputs": [],
   "source": []
  },
  {
   "cell_type": "markdown",
   "id": "1c86e893",
   "metadata": {
    "slideshow": {
     "slide_type": "slide"
    }
   },
   "source": [
    "## Example: my first \"data science\" project\n",
    "\n",
    "<img src=\"./imgs/eeg.png\" width=60%>"
   ]
  },
  {
   "cell_type": "markdown",
   "id": "7bd138d9",
   "metadata": {
    "slideshow": {
     "slide_type": "slide"
    }
   },
   "source": [
    "## Example: San Diego employee salaries"
   ]
  },
  {
   "cell_type": "markdown",
   "id": "6f526a58",
   "metadata": {
    "slideshow": {
     "slide_type": "slide"
    }
   },
   "source": [
    "<center><img src=\"imgs/DSLC.png\" width=\"40%\"></center>"
   ]
  },
  {
   "cell_type": "markdown",
   "id": "fba80b0d",
   "metadata": {
    "slideshow": {
     "slide_type": "slide"
    }
   },
   "source": [
    "### Research Domain and Questions\n",
    "\n",
    "We have our domain – City of San Diego employee salaries. What are some questions we might want to ask? \n",
    "\n",
    "- Which jobs have the highest and lowest salaries?\n",
    "- Who works part-time? full-time?\n",
    "- Are salaries \"fair\"?\n",
    "- What is the predicted 2025 salary for the mayor of San Diego?\n",
    "- Can we build a \"profile\" of the average San Diego city employee?"
   ]
  },
  {
   "cell_type": "markdown",
   "id": "159b76c9",
   "metadata": {
    "slideshow": {
     "slide_type": "slide"
    }
   },
   "source": [
    "### Context\n",
    "\n",
    "Why is this dataset relevant?\n",
    "- Journalists might search for salary anomalies.\n",
    "- Auditors may want actionable advice on fair employment practices."
   ]
  },
  {
   "cell_type": "markdown",
   "id": "e8a33535",
   "metadata": {
    "slideshow": {
     "slide_type": "slide"
    }
   },
   "source": [
    "### Find and Clean Data\n",
    "\n",
    "<center><img src=\"imgs/DSLC.png\" width=\"40%\"></center>"
   ]
  },
  {
   "cell_type": "markdown",
   "id": "943e4c46",
   "metadata": {
    "slideshow": {
     "slide_type": "slide"
    }
   },
   "source": [
    "### Initial look at the data\n",
    "\n",
    "- [Transparent California](https://transparentcalifornia.com/salaries/san-diego/) publishes the salaries of all City of San Diego employees.\n",
    "- The latest available data is from 2020."
   ]
  },
  {
   "cell_type": "code",
   "execution_count": null,
   "id": "bccba4c8",
   "metadata": {},
   "outputs": [],
   "source": [
    "import util\n",
    "salary_path = util.safe_download('https://transcal.s3.amazonaws.com/public/export/san-diego-2020.csv')"
   ]
  },
  {
   "cell_type": "code",
   "execution_count": null,
   "id": "e2560d9f",
   "metadata": {
    "scrolled": false
   },
   "outputs": [],
   "source": [
    "salaries = pd.read_csv(salary_path)\n",
    "util.anonymize_names(salaries)\n",
    "salaries"
   ]
  },
  {
   "cell_type": "markdown",
   "id": "65f4061a",
   "metadata": {
    "slideshow": {
     "slide_type": "slide"
    }
   },
   "source": [
    "### Aside on privacy and ethics\n",
    "\n",
    "- Employee names correspond to **real** people.\n",
    "- Be careful when dealing with PII (personably identifiable information).\n",
    "    - Only work with the data that is needed for your analysis.\n",
    "    - Even when data is public, people have a reasonable right to privacy."
   ]
  },
  {
   "cell_type": "markdown",
   "id": "d348aca8",
   "metadata": {
    "slideshow": {
     "slide_type": "slide"
    }
   },
   "source": [
    "### Data cleaning\n",
    "\n",
    "- As we saw in the O'Reilly's survey results either, data cleaning is a **huge** component of real-world data science.\n",
    "    - You didn't get much exposure to it in DSC 10, but you will in DSC 80.\n",
    "- Let's look at **summary statistics** for each of our numeric columns.\n",
    "    - Do you notice anything strange?\n",
    "    - What are the implications on data reliability?"
   ]
  },
  {
   "cell_type": "code",
   "execution_count": null,
   "id": "68f12066",
   "metadata": {},
   "outputs": [],
   "source": [
    "# .T is for transpose()\n",
    "salaries.describe().T"
   ]
  },
  {
   "cell_type": "markdown",
   "id": "1f03faab",
   "metadata": {
    "slideshow": {
     "slide_type": "fragment"
    }
   },
   "source": [
    "- Someone had an `'Overtime Pay'` of -\\$293!\n",
    "- The `'Other Pay'` column contained numbers, why doesn't it appear here?\n",
    "- How many people have salaries of \\$0?\n",
    "- Why is there a `'Notes'` column that is missing for everybody?"
   ]
  },
  {
   "cell_type": "markdown",
   "id": "a3febbea",
   "metadata": {
    "slideshow": {
     "slide_type": "slide"
    }
   },
   "source": [
    "### Empirical distribution of salaries\n",
    "\n",
    "Let's plot the distribution of salaries."
   ]
  },
  {
   "cell_type": "code",
   "execution_count": null,
   "id": "eae8690c",
   "metadata": {},
   "outputs": [],
   "source": [
    "salaries['Total Pay'].plot(kind='hist', density=True, bins=50, ec='w', \n",
    "                           title='City of San Diego Employee Salaries');"
   ]
  },
  {
   "cell_type": "markdown",
   "id": "be4bb36b",
   "metadata": {
    "slideshow": {
     "slide_type": "slide"
    }
   },
   "source": [
    "### Discussion Question\n",
    "\n",
    "Which of the following best describe the distribution of San Diego employee salaries?\n",
    "\n",
    "- A. Right-skewed, unimodal\n",
    "- B. Right-skewed, bimodal\n",
    "- C. Left-skewed, unimodal\n",
    "- D. Left-skewed, bimodal"
   ]
  },
  {
   "cell_type": "markdown",
   "id": "56266d20",
   "metadata": {
    "slideshow": {
     "slide_type": "slide"
    }
   },
   "source": [
    "### Empirical distribution of salaries\n",
    "\n",
    "Let's draw the distribution of salaries separately for part-time and full-time employees."
   ]
  },
  {
   "cell_type": "code",
   "execution_count": null,
   "id": "eeb64e8e",
   "metadata": {
    "scrolled": false
   },
   "outputs": [],
   "source": [
    "bystatus = salaries.groupby('Status')\n",
    "bystatus['Total Pay'].plot(kind='kde', title='City of San Diego Employee Salaries, Part-Time vs. Full-Time')\n",
    "plt.legend(bystatus.groups);"
   ]
  },
  {
   "cell_type": "markdown",
   "id": "a133e2dd",
   "metadata": {
    "slideshow": {
     "slide_type": "slide"
    }
   },
   "source": [
    "### Question: Does gender influence pay?\n",
    "\n",
    "- Do employees of different genders have similar pay?\n",
    "- The salary dataset we downloaded does not contain employee gender, so we can't answer this question using just the data we have."
   ]
  },
  {
   "cell_type": "code",
   "execution_count": null,
   "id": "9765b3c5",
   "metadata": {},
   "outputs": [],
   "source": [
    "salaries.head()"
   ]
  },
  {
   "cell_type": "markdown",
   "id": "1d1ad579",
   "metadata": {},
   "source": [
    "- We **do**, however, have the first name of each employee."
   ]
  },
  {
   "cell_type": "markdown",
   "id": "da0b821d",
   "metadata": {
    "slideshow": {
     "slide_type": "slide"
    }
   },
   "source": [
    "### Social Security Administration baby names 👶\n",
    "\n",
    "- The US Social Security Administration (SSA) keeps track of the **first name**, **birth year**, and **assigned gender at birth** for all babies born in the US.\n",
    "- We can somehow combine the SSA's dataset with the `salaries` dataset to infer the gender of San Diego employees."
   ]
  },
  {
   "cell_type": "code",
   "execution_count": null,
   "id": "b0490b24",
   "metadata": {},
   "outputs": [],
   "source": [
    "names_path = util.safe_download('https://www.ssa.gov/oact/babynames/names.zip')"
   ]
  },
  {
   "cell_type": "code",
   "execution_count": null,
   "id": "f44fbdd9",
   "metadata": {},
   "outputs": [],
   "source": [
    "import pathlib\n",
    "\n",
    "dfs = []\n",
    "for path in pathlib.Path('data/names/').glob('*.txt'):\n",
    "    year = int(str(path)[14:18])\n",
    "    if year >= 1964:\n",
    "        df = pd.read_csv(path, names=['firstname', 'gender', 'count']).assign(year=year)\n",
    "        dfs.append(df)\n",
    "        \n",
    "names = pd.concat(dfs)\n",
    "names"
   ]
  },
  {
   "cell_type": "markdown",
   "id": "df13ce3e",
   "metadata": {
    "slideshow": {
     "slide_type": "slide"
    }
   },
   "source": [
    "> We began compiling the baby name list in 1997, with names dating back to 1880. At the time of a child’s birth, parents supply the name to us when applying for a child’s Social Security card, thus making Social Security America’s source for the most popular baby names. Please share this with your friends and family—and help us spread the word on social media. - [Social Security’s Top Baby Names for 2020\n",
    "](https://blog.ssa.gov/social-securitys-top-baby-names-for-2020/)"
   ]
  },
  {
   "cell_type": "markdown",
   "id": "5ad517c2",
   "metadata": {
    "slideshow": {
     "slide_type": "slide"
    }
   },
   "source": [
    "### Exploring `names`\n",
    "\n",
    "- The only values of `'gender'` in `names` are `'M'` and `'F'`.\n",
    "- Many names have non-zero counts for both `'M'` and `'F'`.\n",
    "- Most names occur only a few times per year, but a few names occur very often."
   ]
  },
  {
   "cell_type": "code",
   "execution_count": null,
   "id": "5f358063",
   "metadata": {},
   "outputs": [],
   "source": [
    "names.head()"
   ]
  },
  {
   "cell_type": "code",
   "execution_count": null,
   "id": "2d8ae348",
   "metadata": {},
   "outputs": [],
   "source": [
    "# Get the count of each unique value in the 'gender' column\n",
    "names['gender'].value_counts()"
   ]
  },
  {
   "cell_type": "code",
   "execution_count": null,
   "id": "08449221",
   "metadata": {
    "scrolled": false
   },
   "outputs": [],
   "source": [
    "# Look at a single name\n",
    "names[names['firstname'] == 'Billy']"
   ]
  },
  {
   "cell_type": "code",
   "execution_count": null,
   "id": "d0f7af69",
   "metadata": {},
   "outputs": [],
   "source": [
    "# Look at various summary statistics\n",
    "names.describe()"
   ]
  },
  {
   "cell_type": "markdown",
   "id": "bb4826de",
   "metadata": {
    "slideshow": {
     "slide_type": "slide"
    }
   },
   "source": [
    "### Data Modeling\n",
    "\n",
    "<center><img src=\"imgs/DSLC.png\" width=\"40%\"></center>"
   ]
  },
  {
   "cell_type": "markdown",
   "id": "9a560aeb",
   "metadata": {
    "slideshow": {
     "slide_type": "slide"
    }
   },
   "source": [
    "### Determining the most common gender for each name\n",
    "\n",
    "- Recall, our goal is to infer the gender of each San Diego city employee. To do this, we need a mapping of first names to genders."
   ]
  },
  {
   "cell_type": "markdown",
   "id": "f2140505",
   "metadata": {
    "slideshow": {
     "slide_type": "fragment"
    }
   },
   "source": [
    "- **A (very imperfect) model:** If someone has a name that is predominantly used by gender $g$, we'll infer their gender to be $g$."
   ]
  },
  {
   "cell_type": "markdown",
   "id": "61d26fbf",
   "metadata": {
    "slideshow": {
     "slide_type": "fragment"
    }
   },
   "source": [
    "- **Approach:** Create a DataFrame indexed by `'firstname'` that describes the total number of `'F'` and `'M'` babies in `names` for each unique `'firstname'`.\n",
    "    - If there are more female babies born with a given name than male babies, we will \"classify\" the name as female.\n",
    "    - Otherwise, we will classify the name as male."
   ]
  },
  {
   "cell_type": "markdown",
   "id": "dc928589",
   "metadata": {
    "slideshow": {
     "slide_type": "slide"
    }
   },
   "source": [
    "### Determining the most common gender for each name"
   ]
  },
  {
   "cell_type": "code",
   "execution_count": null,
   "id": "6bdc8ed5",
   "metadata": {},
   "outputs": [],
   "source": [
    "counts_by_gender = (\n",
    "    names\n",
    "    .groupby(['firstname', 'gender'])\n",
    "    .sum()\n",
    "    .reset_index()\n",
    "    .pivot('firstname', 'gender', 'count')\n",
    "    .fillna(0)\n",
    ")\n",
    "counts_by_gender"
   ]
  },
  {
   "cell_type": "code",
   "execution_count": null,
   "id": "8f380099",
   "metadata": {},
   "outputs": [],
   "source": [
    "counts_by_gender['F'] > counts_by_gender['M']"
   ]
  },
  {
   "cell_type": "code",
   "execution_count": null,
   "id": "4cd74b43",
   "metadata": {},
   "outputs": [],
   "source": [
    "genders = counts_by_gender.assign(gender=np.where(counts_by_gender['F'] > counts_by_gender['M'], 'F', 'M'))\n",
    "genders"
   ]
  },
  {
   "cell_type": "markdown",
   "id": "51c96464",
   "metadata": {
    "slideshow": {
     "slide_type": "slide"
    }
   },
   "source": [
    "### Adding a `'gender'` column to `salaries`\n",
    "\n",
    "This involves two steps:\n",
    "1. Extracting just the first name from `'Employee Name'`.\n",
    "2. **Merging** `salaries` and `genders`."
   ]
  },
  {
   "cell_type": "code",
   "execution_count": null,
   "id": "3465b2ef",
   "metadata": {},
   "outputs": [],
   "source": [
    "# Add firstname column\n",
    "salaries['firstname'] = salaries['Employee Name'].str.split().str[0]\n",
    "salaries"
   ]
  },
  {
   "cell_type": "code",
   "execution_count": null,
   "id": "3a3e67fc",
   "metadata": {},
   "outputs": [],
   "source": [
    "# Merge salaries and genders\n",
    "salaries_with_gender = salaries.merge(genders[['gender']], on='firstname', how='left')\n",
    "salaries_with_gender"
   ]
  },
  {
   "cell_type": "markdown",
   "id": "96a57185",
   "metadata": {
    "slideshow": {
     "slide_type": "slide"
    }
   },
   "source": [
    "### Predictions and Inference\n",
    "\n",
    "<center><img src=\"imgs/DSLC.png\" width=\"40%\"></center>"
   ]
  },
  {
   "cell_type": "markdown",
   "id": "cf521c7b",
   "metadata": {
    "slideshow": {
     "slide_type": "slide"
    }
   },
   "source": [
    "### Question: Does gender influence pay?\n",
    "\n",
    "This was our original question. Let's find out!"
   ]
  },
  {
   "cell_type": "code",
   "execution_count": null,
   "id": "8cbfb3eb",
   "metadata": {},
   "outputs": [],
   "source": [
    "pd.concat([\n",
    "    salaries_with_gender.groupby('gender')['Total Pay'].describe().T,\n",
    "    salaries_with_gender['Total Pay'].describe().rename('All')\n",
    "], axis=1)"
   ]
  },
  {
   "cell_type": "markdown",
   "id": "d7c83229",
   "metadata": {
    "slideshow": {
     "slide_type": "fragment"
    }
   },
   "source": [
    "- Unfortunately, there's a fairly large difference between the mean salaries of male employees and female employees.\n",
    "- A similar difference also exists for the median.\n",
    "- Can this difference be explained by random chance?"
   ]
  },
  {
   "cell_type": "markdown",
   "id": "c3ee9be4",
   "metadata": {
    "slideshow": {
     "slide_type": "slide"
    }
   },
   "source": [
    "### A hypothesis test"
   ]
  },
  {
   "cell_type": "markdown",
   "id": "2bf93c07",
   "metadata": {},
   "source": [
    "- **Null Hypothesis:** Gender is independent of salary, and any observed differences are due to random chance.\n",
    "- **Alternate Hypothesis:** Gender is not independent of salary. Female employees earn less than male employees."
   ]
  },
  {
   "cell_type": "code",
   "execution_count": null,
   "id": "971ba107",
   "metadata": {
    "slideshow": {
     "slide_type": "fragment"
    }
   },
   "outputs": [],
   "source": [
    "n_female = np.count_nonzero(salaries_with_gender['gender'] == 'F')\n",
    "n_female"
   ]
  },
  {
   "cell_type": "markdown",
   "id": "ca492014",
   "metadata": {
    "slideshow": {
     "slide_type": "fragment"
    }
   },
   "source": [
    "**Strategy:** \n",
    "- Randomly select 4075 employees from `salaries_with_gender` and compute their median salary.\n",
    "- Repeat this many times.\n",
    "- See where the observed median salary of female employees lies in this empirical distribution."
   ]
  },
  {
   "cell_type": "markdown",
   "id": "badb0bb4",
   "metadata": {
    "slideshow": {
     "slide_type": "slide"
    }
   },
   "source": [
    "### Running the hypothesis test"
   ]
  },
  {
   "cell_type": "code",
   "execution_count": null,
   "id": "702ad546",
   "metadata": {
    "scrolled": false
   },
   "outputs": [],
   "source": [
    "# Observed statistic\n",
    "female_median = salaries_with_gender.loc[salaries_with_gender['gender'] == 'F']['Total Pay'].median()\n",
    "\n",
    "# Simulate 1000 samples of size n_female from the population\n",
    "medians = np.array([])\n",
    "for _ in np.arange(1000):\n",
    "    median = salaries_with_gender.sample(n_female)['Total Pay'].median()\n",
    "    medians = np.append(medians, median)\n",
    "\n",
    "medians[:10]"
   ]
  },
  {
   "cell_type": "code",
   "execution_count": null,
   "id": "5c1fb2cb",
   "metadata": {},
   "outputs": [],
   "source": [
    "title='Median salary of randomly chosen groups from population'\n",
    "pd.Series(medians).plot(kind='hist', density=True, ec='w', title=title);\n",
    "plt.axvline(x=female_median, color='red')\n",
    "plt.legend(['Observed Median Salary of Female Employees', 'Median Salaries of Random Groups']);"
   ]
  },
  {
   "cell_type": "markdown",
   "id": "8de8de05",
   "metadata": {
    "slideshow": {
     "slide_type": "fragment"
    }
   },
   "source": [
    "- Our hypothesis test has a p-value of 0, so we reject the null.\n",
    "    - Under the assumption that gender is independent of salary, the chance of seeing a median salary this low is essentially 0."
   ]
  },
  {
   "cell_type": "markdown",
   "id": "4170226a",
   "metadata": {
    "slideshow": {
     "slide_type": "slide"
    }
   },
   "source": [
    "## Next time, in DSC 80...\n",
    "\n",
    "...a deeper dive into *pandas*."
   ]
  }
 ],
 "metadata": {
  "celltoolbar": "Slideshow",
  "kernelspec": {
   "display_name": "Python 3 (ipykernel)",
   "language": "python",
   "name": "python3"
  },
  "language_info": {
   "codemirror_mode": {
    "name": "ipython",
    "version": 3
   },
   "file_extension": ".py",
   "mimetype": "text/x-python",
   "name": "python",
   "nbconvert_exporter": "python",
   "pygments_lexer": "ipython3",
   "version": "3.9.6"
  },
  "rise": {
   "transition": "none"
  }
 },
 "nbformat": 4,
 "nbformat_minor": 5
}
