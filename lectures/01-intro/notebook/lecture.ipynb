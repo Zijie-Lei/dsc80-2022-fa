{
 "cells": [
  {
   "cell_type": "code",
   "execution_count": null,
   "id": "79a1263c",
   "metadata": {},
   "outputs": [],
   "source": [
    "import pandas as pd\n",
    "import numpy as np\n",
    "\n",
    "import matplotlib.pyplot as plt\n",
    "plt.rcParams['figure.figsize'] = (10, 5)\n"
   ]
  },
  {
   "cell_type": "markdown",
   "id": "61dfa21e",
   "metadata": {
    "slideshow": {
     "slide_type": "slide"
    }
   },
   "source": [
    "<center><h1>Welcome to DSC 80! 🎉</h1></center>"
   ]
  },
  {
   "cell_type": "markdown",
   "id": "07213ce0",
   "metadata": {
    "slideshow": {
     "slide_type": "slide"
    }
   },
   "source": [
    "## Agenda\n",
    "\n",
    "- Who am I?\n",
    "- What does a data scientist do?\n",
    "- What is this course about, and how will it run?\n",
    "- The data science lifecycle."
   ]
  },
  {
   "cell_type": "markdown",
   "id": "be426149",
   "metadata": {
    "slideshow": {
     "slide_type": "slide"
    }
   },
   "source": [
    "## Me\n",
    "\n",
    "- Dr. Justin Eldridge\n",
    "    - just \"Justin\" is good\n",
    "- Originally from Ohio.\n",
    "- Research background in machine learning theory\n",
    "    - https://eldridgejm.github.io"
   ]
  },
  {
   "cell_type": "markdown",
   "id": "0cb2438a",
   "metadata": {
    "slideshow": {
     "slide_type": "slide"
    }
   },
   "source": [
    "## Me\n",
    "\n",
    "- Outside of the classroom: making things, backpacking, dog fostering\n",
    "\n",
    "<div style=\"float: left\">\n",
    "    <div style=\"float: left; padding: 1em\">\n",
    "        <img style=\"width: 500px\" src=\"./imgs/kearsarge.jpg\">\n",
    "    </div>\n",
    "    <div  style=\"float: left; padding: 1em\">\n",
    "        <img style=\"width: 500px\" src=\"./imgs/chappo.jpg\">\n",
    "    </div>\n",
    "</div>"
   ]
  },
  {
   "cell_type": "markdown",
   "id": "decc0d25",
   "metadata": {
    "slideshow": {
     "slide_type": "slide"
    }
   },
   "source": [
    "## What is data science? 🤔"
   ]
  },
  {
   "cell_type": "markdown",
   "id": "bbf22e3a",
   "metadata": {
    "slideshow": {
     "slide_type": "slide"
    }
   },
   "source": [
    "### What is data science?\n",
    "\n",
    "<br>\n",
    "\n",
    "<center><img src='imgs/what-is-ds.png' width=800></center>\n",
    "\n",
    "<center>Everyone seems to have their own definition of what data science is.</center>"
   ]
  },
  {
   "cell_type": "markdown",
   "id": "5c10ac4a",
   "metadata": {
    "slideshow": {
     "slide_type": "slide"
    }
   },
   "source": [
    "### The DSC 10 definition\n",
    "\n",
    "In DSC 10, we told you that science is about **drawing useful conclusions from data using computation**.\n",
    "\n",
    "- **Exploration.**\n",
    "    - Identifying patterns in information.\n",
    "    - Uses visualizations.\n",
    "- **Prediction.**\n",
    "    - Making informed guesses.\n",
    "    - Uses machine learning and optimization.\n",
    "- **Inference.**\n",
    "    - Quantifying whether those predictions are reliable.\n",
    "    - Uses randomization.\n",
    "\n",
    "Let's look at some other definitions."
   ]
  },
  {
   "cell_type": "markdown",
   "id": "b7ef232f",
   "metadata": {
    "slideshow": {
     "slide_type": "slide"
    }
   },
   "source": [
    "### What is data science?\n",
    "\n",
    "<center><img src=\"imgs/image_0.png\"></center>\n",
    "\n",
    "In 2010, Drew Conway published his famous [Data Science Venn Diagram](http://drewconway.com/zia/2013/3/26/the-data-science-venn-diagram)."
   ]
  },
  {
   "cell_type": "markdown",
   "id": "13e68826",
   "metadata": {
    "slideshow": {
     "slide_type": "slide"
    }
   },
   "source": [
    "### What is data science?\n",
    "\n",
    "There isn't agreement on which \"Venn Diagram\" is correct!\n",
    "\n",
    "<center><img src=\"imgs/image_1.png\" width=500></center>\n",
    "\n",
    "- **Why not?** The field is new and rapidly developing.\n",
    "- Make sure you're solid on the fundamentals, then find a niche that you enjoy.\n",
    "- Read Kolassa, [Battle of the Data Science Venn Diagrams](http://www.prooffreader.com/2016/09/battle-of-data-science-venn-diagrams.html)."
   ]
  },
  {
   "cell_type": "markdown",
   "id": "e8dec5f9",
   "metadata": {
    "slideshow": {
     "slide_type": "slide"
    }
   },
   "source": [
    "### What does a _data scientist_ do?\n",
    "\n",
    "In 2016, O'Reilly administered a [Data Scientice Salary Survey](https://www.oreilly.com/radar/2016-data-science-salary-survey-results/). Part of the survey asked self-identified data scientists what tasks they do on a regular basis.\n",
    "\n",
    "<center><img src='imgs/oreilly.png' width=600></center>\n",
    "\n",
    "What do you notice?"
   ]
  },
  {
   "cell_type": "markdown",
   "id": "24399004",
   "metadata": {
    "slideshow": {
     "slide_type": "slide"
    }
   },
   "source": [
    "### What does a _data scientist_ do?\n",
    "\n",
    "My take: in DSC 80, and in the DSC major more broadly, we are equipping you to **ask and answer questions using data**.\n",
    "\n",
    "Let's look at some examples of data science in practice."
   ]
  },
  {
   "cell_type": "markdown",
   "id": "651e5fb7",
   "metadata": {
    "slideshow": {
     "slide_type": "slide"
    }
   },
   "source": [
    "### Analyzing Wordle trends\n",
    "\n",
    "<center><img src='imgs/wordle-moving-average.png'</center>\n",
    "    \n",
    "Moving average of the average number of guesses taken for each Wordle word, based on patterns shared on Twitter. ([source](https://observablehq.com/@rlesser/wordle-twitter-exploration))"
   ]
  },
  {
   "cell_type": "markdown",
   "id": "dad2e328",
   "metadata": {
    "slideshow": {
     "slide_type": "slide"
    }
   },
   "source": [
    "### Analyzing Wordle trends\n",
    "\n",
    "<center><img src='imgs/wordle-tweets.png'</center>\n",
    "    \n",
    "Number of Wordle patterns shared per day on Twitter. ([source](https://observablehq.com/@rlesser/wordle-twitter-exploration))"
   ]
  },
  {
   "cell_type": "markdown",
   "id": "71fad63a",
   "metadata": {
    "slideshow": {
     "slide_type": "slide"
    }
   },
   "source": [
    "### Forecasting COVID cases\n",
    "\n",
    "<center><img src='imgs/ucsd-forecast.png' width=80%></center>\n",
    "\n",
    "Results of the `UCSD_NEU-DeepGLEAM` COVID cases forecasting model for the upcoming week ([source](https://viz.covid19forecasthub.org))."
   ]
  },
  {
   "cell_type": "markdown",
   "id": "87cc405e",
   "metadata": {
    "slideshow": {
     "slide_type": "slide"
    }
   },
   "source": [
    "### Forecasting COVID cases\n",
    "\n",
    "> Evaluation of case forecasts showed that more reported cases than expected fell outside the forecast prediction intervals for extended periods of time. Given this low reliability, COVID-19 case forecasts will no longer be posted by the Centers for Disease Control and Prevention. - [CDC.gov](https://www.cdc.gov/coronavirus/2019-ncov/science/forecasting/forecasts-cases.html)"
   ]
  },
  {
   "cell_type": "markdown",
   "id": "6788502b",
   "metadata": {
    "slideshow": {
     "slide_type": "slide"
    }
   },
   "source": [
    "### Depixelizer\n",
    "\n",
    "A [\"Face Depixelizer\"](https://github.com/tg-bomze/Face-Depixelizer) released in 2020 takes pixelated images and generates images that are perceptually realistic and downscale correctly.\n",
    "\n",
    "<center>\n",
    "<img src='imgs/depixel.png' width=300>\n",
    "</center>"
   ]
  },
  {
   "cell_type": "markdown",
   "id": "a9e6e563",
   "metadata": {
    "slideshow": {
     "slide_type": "fragment"
    }
   },
   "source": [
    "What happened here? Why do you think this happened?\n",
    "\n",
    "<center>\n",
    "<img src='imgs/depixel2.png' width=600>\n",
    "</center>"
   ]
  },
  {
   "cell_type": "markdown",
   "id": "1a6a021f",
   "metadata": {
    "slideshow": {
     "slide_type": "slide"
    }
   },
   "source": [
    "### Data science involves _people_ 🧍\n",
    "\n",
    "The decisions that we make as data scientists have the potential to impact the livelihoods of other people.\n",
    "\n",
    "- COVID case forecasting.\n",
    "- Admissions and hiring.\n",
    "- Hyper-personalized ad recommendations.\n",
    "- Criminal sentencing."
   ]
  },
  {
   "cell_type": "markdown",
   "id": "3bb2dcbf",
   "metadata": {
    "slideshow": {
     "slide_type": "slide"
    }
   },
   "source": [
    "### Warning! ⚠️\n",
    "\n",
    "- Good data analysis is not:\n",
    "    - A simple application of a statistics formula.\n",
    "    - A simple application of statistical software.\n",
    "\n",
    "- There are many tools out there for data science, but they are merely tools. **They don’t do any of the important thinking – that's where you come in!**\n",
    "\n",
    "> _“The purpose of computing is insight, not numbers.”_ - R. Hamming. Numerical Methods for Scientists and Engineers (1962)."
   ]
  },
  {
   "cell_type": "markdown",
   "id": "50ed15ab",
   "metadata": {
    "slideshow": {
     "slide_type": "slide"
    }
   },
   "source": [
    "## Course content"
   ]
  },
  {
   "cell_type": "markdown",
   "id": "284996a1",
   "metadata": {
    "slideshow": {
     "slide_type": "slide"
    }
   },
   "source": [
    "### Course goals\n",
    "\n",
    "In this course, you will...\n",
    "\n",
    "* Practice translating potentially vague questions into quantitative questions about measurable observations.\n",
    "* Learn to reason about 'black-box' processes (e.g. complicated models).\n",
    "* Understand computational and statistical implications of working with data.\n",
    "* Learn to use real data tools (e.g. love the documentation!).\n",
    "* Get a taste of the \"life of a data scientist\"."
   ]
  },
  {
   "cell_type": "markdown",
   "id": "e7d48437",
   "metadata": {
    "slideshow": {
     "slide_type": "slide"
    }
   },
   "source": [
    "### Course outcomes\n",
    "\n",
    "After this course, you will...\n",
    "\n",
    "* Be prepared for internships and data science \"take home\" interviews!\n",
    "* Be ready to create your own portfolio of personal projects.\n",
    "* Have the background and maturity to succeed in the upper-division."
   ]
  },
  {
   "cell_type": "markdown",
   "id": "e2036f82",
   "metadata": {
    "slideshow": {
     "slide_type": "slide"
    }
   },
   "source": [
    "### Topics\n",
    "\n",
    "This course was desgined by a former data scientist at Amazon (Aaron Fraenkel). As such, you'll be learning skills that you **need** to know as a data scientist.\n",
    "\n",
    "- Week 1: DataFrames in `pandas`\n",
    "- Week 2: Messy Data and Hypothesis Testing\n",
    "- Week 3: Combining Data\n",
    "- Week 4: Permutation Testing and Missing Values\n",
    "- Week 5: Imputation, **Midterm Exam**\n",
    "- Week 6: Web Scraping and Regex\n",
    "- Week 7: Feature Engineering\n",
    "- Week 8: Modeling in `scikit-learn`\n",
    "- Week 9: Model Evaluation\n",
    "- Week 10: Review, **Final Exam**"
   ]
  },
  {
   "cell_type": "markdown",
   "id": "be4505d5",
   "metadata": {
    "slideshow": {
     "slide_type": "slide"
    }
   },
   "source": [
    "## Course logistics"
   ]
  },
  {
   "cell_type": "markdown",
   "id": "eed7451b",
   "metadata": {
    "slideshow": {
     "slide_type": "slide"
    }
   },
   "source": [
    "### Course website\n",
    "\n",
    "The course website is your one-stop-shop for all things related to the course.\n",
    "\n",
    "<br>\n",
    "\n",
    "<center><h3><a href=\"https://dsc80.com\">dsc80.com</a></h3></center>\n",
    "\n",
    "<br>\n",
    "\n",
    "Make sure to **read the [syllabus](https://dsc80.com/syllabus)**!"
   ]
  },
  {
   "cell_type": "markdown",
   "id": "a4992e7c",
   "metadata": {
    "slideshow": {
     "slide_type": "slide"
    }
   },
   "source": [
    "### Getting set up\n",
    "\n",
    "- **Ed**: Q&A forum. Must be active here, since this is where all announcements will be made.\n",
    "- **Gradescope**: Where you will submit all assignments for autograding, and where all of your grades will live.\n",
    "- **Canvas**: no."
   ]
  },
  {
   "cell_type": "markdown",
   "id": "dcd8f31d",
   "metadata": {
    "slideshow": {
     "slide_type": "slide"
    }
   },
   "source": [
    "### Accessing course content on GitHub\n",
    "\n",
    "You will access all course content by pulling the course GitHub repository:\n",
    "\n",
    "<br>\n",
    "\n",
    "<center><b><a href=https://github.com/dsc-courses/dsc80-2022-fa>github.com/dsc-courses/dsc80-2022-fa</a></b></center>\n",
    "\n",
    "<br>\n",
    "\n",
    "We will post HTML versions of lecture notebooks on the course website, but otherwise you must **pull** from this repository to access all course materials (including blank copies of assignments)."
   ]
  },
  {
   "cell_type": "markdown",
   "id": "4f4ae6a0",
   "metadata": {
    "slideshow": {
     "slide_type": "slide"
    }
   },
   "source": [
    "### Environment setup\n",
    "\n",
    "- You have two choices:\n",
    "    - Set up your own Python environment (**strongly recommended**).\n",
    "    - Use DataHub.\n",
    "- Either way, follow the instructions on the [Tech Support](https://dsc80.com/tech_support.html) page of the course website.\n",
    "- Once you set up your environment, you will pull the course repo every time a new assignment comes out.\n",
    "- **Note:** You will submit your work to Gradescope directly, without using Git.\n",
    "- Will post a demo video with Lab 1."
   ]
  },
  {
   "cell_type": "markdown",
   "id": "46ccd217",
   "metadata": {
    "slideshow": {
     "slide_type": "slide"
    }
   },
   "source": [
    "### Assignments\n",
    "\n",
    "In this course, you will learn by doing!\n",
    "\n",
    "- **Labs (25%):** 9 total. Due weekly on Mondays, starting next week.\n",
    "- **Projects (30%)**: 5 total. Usually due on Thursdays, and usually have a \"checkpoint.\"\n",
    "- **Discussions (3% EC)**: ~8 total. Optional, for extra credit.\n",
    "\n",
    "In DSC 80, assignments will usually consist of both a Jupyter Notebook and a `.py` file. You will write your code in the `.py` file; the Jupyter Notebook will contain problem descriptions and test cases. Lab 1 will explain the workflow."
   ]
  },
  {
   "cell_type": "markdown",
   "id": "0db414f6",
   "metadata": {
    "slideshow": {
     "slide_type": "slide"
    }
   },
   "source": [
    "### Exams\n",
    "\n",
    "- **Midterm Exam (15%):** in-person, during regular lecture time.\n",
    "- **Final Exam (25%):** in-person."
   ]
  },
  {
   "cell_type": "markdown",
   "id": "9cb9e7eb",
   "metadata": {
    "slideshow": {
     "slide_type": "slide"
    }
   },
   "source": [
    "### Resources\n",
    "\n",
    "- Your main resource will be lecture notebooks.\n",
    "- Most lectures also have supplemental readings that come from our course notes, [notes.dsc80.com](https://notes.dsc80.com).\n",
    "- Other resources:\n",
    "    - Wes McKinney. \"Python for Data Analysis\".\n",
    "    - [DSC 10 Course Notes](https://notes.dsc10.com) – great refresher on `babypandas`.\n",
    "    - [Principles and Techniques of Data Science](https://www.textbook.ds100.org/).\n",
    "    - [Computational and Inferential Thinking](https://www.inferentialthinking.com).\n",
    "    - [pandastutor.com](https://pandastutor.com).\n",
    "    - As the quarter progresses, we'll add more resources to the [Resources tab](https://dsc80.com/resources) of the course website."
   ]
  },
  {
   "cell_type": "markdown",
   "id": "5910efc4",
   "metadata": {
    "slideshow": {
     "slide_type": "slide"
    }
   },
   "source": [
    "### Support 🫂\n",
    "\n",
    "It is no secret that this course requires **a lot** of work - becoming fluent with working with data is hard!\n",
    "\n",
    "- You will learn how to solve problems **independently** – documentation and the internet will be your friends.\n",
    "- Learning how to effectively check your work and debug is extremely useful.\n",
    "\n",
    "Once you've tried to solve problems on your own, we're glad to help.\n",
    "\n",
    "- **Office hours** are offered both remotely and in-person. See the [Calendar 📆](https://dsc80.com/office_hours.html) for details.\n",
    "- **Ed** is your friend too. Make your conceptual questions public, and make your debugging questions private."
   ]
  },
  {
   "cell_type": "markdown",
   "id": "becc458a",
   "metadata": {
    "slideshow": {
     "slide_type": "slide"
    }
   },
   "source": [
    "## The data science lifecycle 🚴"
   ]
  },
  {
   "cell_type": "markdown",
   "id": "c0d03ee4",
   "metadata": {
    "slideshow": {
     "slide_type": "slide"
    }
   },
   "source": [
    "### The scientific method\n",
    "\n",
    "You learned about the scientific method in elementary school. "
   ]
  },
  {
   "cell_type": "markdown",
   "id": "45f1b91a",
   "metadata": {
    "slideshow": {
     "slide_type": "fragment"
    }
   },
   "source": [
    "<center><img src=\"imgs/image_3.png\" width=500></center>"
   ]
  },
  {
   "cell_type": "markdown",
   "id": "668872d6",
   "metadata": {
    "slideshow": {
     "slide_type": "fragment"
    }
   },
   "source": [
    "However, it hides a lot of complexity.\n",
    "- Where did the hypothesis come from?\n",
    "- What data are you modeling? Is the data sufficient?\n",
    "- Under which conditions are the conclusions valid?"
   ]
  },
  {
   "cell_type": "markdown",
   "id": "f2313e72",
   "metadata": {
    "slideshow": {
     "slide_type": "slide"
    }
   },
   "source": [
    "### The data science lifecycle\n",
    "\n",
    "<center><img src=\"imgs/DSLC.png\" width=\"40%\"></center>"
   ]
  },
  {
   "cell_type": "markdown",
   "id": "38864216",
   "metadata": {
    "slideshow": {
     "slide_type": "fragment"
    }
   },
   "source": [
    "**All steps lead to more questions!**"
   ]
  },
  {
   "cell_type": "markdown",
   "id": "1c86e893",
   "metadata": {
    "slideshow": {
     "slide_type": "slide"
    }
   },
   "source": [
    "## Example: my first \"data science\" project\n",
    "\n",
    "<img src=\"./imgs/eeg.png\" width=60%>"
   ]
  },
  {
   "cell_type": "markdown",
   "id": "7bd138d9",
   "metadata": {
    "slideshow": {
     "slide_type": "slide"
    }
   },
   "source": [
    "## Example: San Diego employee salaries"
   ]
  },
  {
   "cell_type": "markdown",
   "id": "6f526a58",
   "metadata": {
    "slideshow": {
     "slide_type": "slide"
    }
   },
   "source": [
    "<center><img src=\"imgs/DSLC.png\" width=\"40%\"></center>"
   ]
  },
  {
   "cell_type": "markdown",
   "id": "fba80b0d",
   "metadata": {
    "slideshow": {
     "slide_type": "slide"
    }
   },
   "source": [
    "### Research Domain and Questions\n",
    "\n",
    "We have our domain – City of San Diego employee salaries. What are some questions we might want to ask? \n",
    "\n",
    "- Which jobs have the highest and lowest salaries?\n",
    "- Who works part-time? full-time?\n",
    "- Are salaries \"fair\"?\n",
    "- What is the predicted 2025 salary for the mayor of San Diego?\n",
    "- Can we build a \"profile\" of the average San Diego city employee?"
   ]
  },
  {
   "cell_type": "markdown",
   "id": "159b76c9",
   "metadata": {
    "slideshow": {
     "slide_type": "slide"
    }
   },
   "source": [
    "### Context\n",
    "\n",
    "Why is this dataset relevant?\n",
    "- Journalists might search for salary anomalies.\n",
    "- Auditors may want actionable advice on fair employment practices."
   ]
  },
  {
   "cell_type": "markdown",
   "id": "e8a33535",
   "metadata": {
    "slideshow": {
     "slide_type": "slide"
    }
   },
   "source": [
    "### Find and Clean Data\n",
    "\n",
    "<center><img src=\"imgs/DSLC.png\" width=\"40%\"></center>"
   ]
  },
  {
   "cell_type": "markdown",
   "id": "943e4c46",
   "metadata": {
    "slideshow": {
     "slide_type": "slide"
    }
   },
   "source": [
    "### Initial look at the data\n",
    "\n",
    "- [Transparent California](https://transparentcalifornia.com/salaries/san-diego/) publishes the salaries of all City of San Diego employees.\n",
    "- The latest available data is from 2020."
   ]
  },
  {
   "cell_type": "code",
   "execution_count": 11,
   "id": "bccba4c8",
   "metadata": {},
   "outputs": [],
   "source": [
    "salary_path = util.safe_download('https://transcal.s3.amazonaws.com/public/export/san-diego-2020.csv')"
   ]
  },
  {
   "cell_type": "code",
   "execution_count": 12,
   "id": "e2560d9f",
   "metadata": {
    "scrolled": false
   },
   "outputs": [
    {
     "data": {
      "text/html": [
       "<div>\n",
       "<style scoped>\n",
       "    .dataframe tbody tr th:only-of-type {\n",
       "        vertical-align: middle;\n",
       "    }\n",
       "\n",
       "    .dataframe tbody tr th {\n",
       "        vertical-align: top;\n",
       "    }\n",
       "\n",
       "    .dataframe thead th {\n",
       "        text-align: right;\n",
       "    }\n",
       "</style>\n",
       "<table border=\"1\" class=\"dataframe\">\n",
       "  <thead>\n",
       "    <tr style=\"text-align: right;\">\n",
       "      <th></th>\n",
       "      <th>Employee Name</th>\n",
       "      <th>Job Title</th>\n",
       "      <th>Base Pay</th>\n",
       "      <th>Overtime Pay</th>\n",
       "      <th>Other Pay</th>\n",
       "      <th>Benefits</th>\n",
       "      <th>Total Pay</th>\n",
       "      <th>Total Pay &amp; Benefits</th>\n",
       "      <th>Year</th>\n",
       "      <th>Notes</th>\n",
       "      <th>Agency</th>\n",
       "      <th>Status</th>\n",
       "    </tr>\n",
       "  </thead>\n",
       "  <tbody>\n",
       "    <tr>\n",
       "      <th>0</th>\n",
       "      <td>Michael Xxxx</td>\n",
       "      <td>Police Officer</td>\n",
       "      <td>117691.0</td>\n",
       "      <td>187290.0</td>\n",
       "      <td>13331.00</td>\n",
       "      <td>36380.0</td>\n",
       "      <td>318312.0</td>\n",
       "      <td>354692.0</td>\n",
       "      <td>2020</td>\n",
       "      <td>NaN</td>\n",
       "      <td>San Diego</td>\n",
       "      <td>FT</td>\n",
       "    </tr>\n",
       "    <tr>\n",
       "      <th>1</th>\n",
       "      <td>Gary Xxxx</td>\n",
       "      <td>Police Officer</td>\n",
       "      <td>117691.0</td>\n",
       "      <td>160062.0</td>\n",
       "      <td>42946.00</td>\n",
       "      <td>31795.0</td>\n",
       "      <td>320699.0</td>\n",
       "      <td>352494.0</td>\n",
       "      <td>2020</td>\n",
       "      <td>NaN</td>\n",
       "      <td>San Diego</td>\n",
       "      <td>FT</td>\n",
       "    </tr>\n",
       "    <tr>\n",
       "      <th>2</th>\n",
       "      <td>Eric Xxxx</td>\n",
       "      <td>Fire Engineer</td>\n",
       "      <td>35698.0</td>\n",
       "      <td>204462.0</td>\n",
       "      <td>69121.00</td>\n",
       "      <td>38362.0</td>\n",
       "      <td>309281.0</td>\n",
       "      <td>347643.0</td>\n",
       "      <td>2020</td>\n",
       "      <td>NaN</td>\n",
       "      <td>San Diego</td>\n",
       "      <td>PT</td>\n",
       "    </tr>\n",
       "    <tr>\n",
       "      <th>3</th>\n",
       "      <td>Gregg Xxxx</td>\n",
       "      <td>Retirement Administrator</td>\n",
       "      <td>305000.0</td>\n",
       "      <td>0.0</td>\n",
       "      <td>12814.00</td>\n",
       "      <td>24792.0</td>\n",
       "      <td>317814.0</td>\n",
       "      <td>342606.0</td>\n",
       "      <td>2020</td>\n",
       "      <td>NaN</td>\n",
       "      <td>San Diego</td>\n",
       "      <td>FT</td>\n",
       "    </tr>\n",
       "    <tr>\n",
       "      <th>4</th>\n",
       "      <td>Joseph Xxxx</td>\n",
       "      <td>Fire Battalion Chief</td>\n",
       "      <td>94451.0</td>\n",
       "      <td>157778.0</td>\n",
       "      <td>48151.00</td>\n",
       "      <td>42096.0</td>\n",
       "      <td>300380.0</td>\n",
       "      <td>342476.0</td>\n",
       "      <td>2020</td>\n",
       "      <td>NaN</td>\n",
       "      <td>San Diego</td>\n",
       "      <td>FT</td>\n",
       "    </tr>\n",
       "    <tr>\n",
       "      <th>...</th>\n",
       "      <td>...</td>\n",
       "      <td>...</td>\n",
       "      <td>...</td>\n",
       "      <td>...</td>\n",
       "      <td>...</td>\n",
       "      <td>...</td>\n",
       "      <td>...</td>\n",
       "      <td>...</td>\n",
       "      <td>...</td>\n",
       "      <td>...</td>\n",
       "      <td>...</td>\n",
       "      <td>...</td>\n",
       "    </tr>\n",
       "    <tr>\n",
       "      <th>12600</th>\n",
       "      <td>Elena Xxxx</td>\n",
       "      <td>Asst Eng-Civil</td>\n",
       "      <td>0.0</td>\n",
       "      <td>2.0</td>\n",
       "      <td>0.00</td>\n",
       "      <td>0.0</td>\n",
       "      <td>2.0</td>\n",
       "      <td>2.0</td>\n",
       "      <td>2020</td>\n",
       "      <td>NaN</td>\n",
       "      <td>San Diego</td>\n",
       "      <td>PT</td>\n",
       "    </tr>\n",
       "    <tr>\n",
       "      <th>12601</th>\n",
       "      <td>Gary Xxxx</td>\n",
       "      <td>Police Officer</td>\n",
       "      <td>0.0</td>\n",
       "      <td>2.0</td>\n",
       "      <td>0.00</td>\n",
       "      <td>0.0</td>\n",
       "      <td>2.0</td>\n",
       "      <td>2.0</td>\n",
       "      <td>2020</td>\n",
       "      <td>NaN</td>\n",
       "      <td>San Diego</td>\n",
       "      <td>PT</td>\n",
       "    </tr>\n",
       "    <tr>\n",
       "      <th>12602</th>\n",
       "      <td>Sara Xxxx</td>\n",
       "      <td>Asst Planner</td>\n",
       "      <td>0.0</td>\n",
       "      <td>1.0</td>\n",
       "      <td>0.00</td>\n",
       "      <td>0.0</td>\n",
       "      <td>1.0</td>\n",
       "      <td>1.0</td>\n",
       "      <td>2020</td>\n",
       "      <td>NaN</td>\n",
       "      <td>San Diego</td>\n",
       "      <td>PT</td>\n",
       "    </tr>\n",
       "    <tr>\n",
       "      <th>12603</th>\n",
       "      <td>Kevin Xxxx</td>\n",
       "      <td>Project Ofcr 1</td>\n",
       "      <td>0.0</td>\n",
       "      <td>1.0</td>\n",
       "      <td>0.00</td>\n",
       "      <td>0.0</td>\n",
       "      <td>1.0</td>\n",
       "      <td>1.0</td>\n",
       "      <td>2020</td>\n",
       "      <td>NaN</td>\n",
       "      <td>San Diego</td>\n",
       "      <td>PT</td>\n",
       "    </tr>\n",
       "    <tr>\n",
       "      <th>12604</th>\n",
       "      <td>Deedrick Xxxx</td>\n",
       "      <td>Utility Worker 2</td>\n",
       "      <td>0.0</td>\n",
       "      <td>0.0</td>\n",
       "      <td>1.00</td>\n",
       "      <td>0.0</td>\n",
       "      <td>1.0</td>\n",
       "      <td>1.0</td>\n",
       "      <td>2020</td>\n",
       "      <td>NaN</td>\n",
       "      <td>San Diego</td>\n",
       "      <td>PT</td>\n",
       "    </tr>\n",
       "  </tbody>\n",
       "</table>\n",
       "<p>12605 rows × 12 columns</p>\n",
       "</div>"
      ],
      "text/plain": [
       "       Employee Name                 Job Title  Base Pay  Overtime Pay  \\\n",
       "0       Michael Xxxx            Police Officer  117691.0      187290.0   \n",
       "1          Gary Xxxx            Police Officer  117691.0      160062.0   \n",
       "2          Eric Xxxx             Fire Engineer   35698.0      204462.0   \n",
       "3         Gregg Xxxx  Retirement Administrator  305000.0           0.0   \n",
       "4        Joseph Xxxx      Fire Battalion Chief   94451.0      157778.0   \n",
       "...              ...                       ...       ...           ...   \n",
       "12600     Elena Xxxx            Asst Eng-Civil       0.0           2.0   \n",
       "12601      Gary Xxxx            Police Officer       0.0           2.0   \n",
       "12602      Sara Xxxx              Asst Planner       0.0           1.0   \n",
       "12603     Kevin Xxxx            Project Ofcr 1       0.0           1.0   \n",
       "12604  Deedrick Xxxx          Utility Worker 2       0.0           0.0   \n",
       "\n",
       "      Other Pay  Benefits  Total Pay  Total Pay & Benefits  Year  Notes  \\\n",
       "0      13331.00   36380.0   318312.0              354692.0  2020    NaN   \n",
       "1      42946.00   31795.0   320699.0              352494.0  2020    NaN   \n",
       "2      69121.00   38362.0   309281.0              347643.0  2020    NaN   \n",
       "3      12814.00   24792.0   317814.0              342606.0  2020    NaN   \n",
       "4      48151.00   42096.0   300380.0              342476.0  2020    NaN   \n",
       "...         ...       ...        ...                   ...   ...    ...   \n",
       "12600      0.00       0.0        2.0                   2.0  2020    NaN   \n",
       "12601      0.00       0.0        2.0                   2.0  2020    NaN   \n",
       "12602      0.00       0.0        1.0                   1.0  2020    NaN   \n",
       "12603      0.00       0.0        1.0                   1.0  2020    NaN   \n",
       "12604      1.00       0.0        1.0                   1.0  2020    NaN   \n",
       "\n",
       "          Agency Status  \n",
       "0      San Diego     FT  \n",
       "1      San Diego     FT  \n",
       "2      San Diego     PT  \n",
       "3      San Diego     FT  \n",
       "4      San Diego     FT  \n",
       "...          ...    ...  \n",
       "12600  San Diego     PT  \n",
       "12601  San Diego     PT  \n",
       "12602  San Diego     PT  \n",
       "12603  San Diego     PT  \n",
       "12604  San Diego     PT  \n",
       "\n",
       "[12605 rows x 12 columns]"
      ]
     },
     "execution_count": 12,
     "metadata": {},
     "output_type": "execute_result"
    }
   ],
   "source": [
    "salaries = pd.read_csv(salary_path)\n",
    "util.anonymize_names(salaries)\n",
    "salaries"
   ]
  },
  {
   "cell_type": "markdown",
   "id": "65f4061a",
   "metadata": {
    "slideshow": {
     "slide_type": "slide"
    }
   },
   "source": [
    "### Aside on privacy and ethics\n",
    "\n",
    "- Employee names correspond to **real** people.\n",
    "- Be careful when dealing with PII (personably identifiable information).\n",
    "    - Only work with the data that is needed for your analysis.\n",
    "    - Even when data is public, people have a reasonable right to privacy."
   ]
  },
  {
   "cell_type": "markdown",
   "id": "d348aca8",
   "metadata": {
    "slideshow": {
     "slide_type": "slide"
    }
   },
   "source": [
    "### Data cleaning\n",
    "\n",
    "- As we saw in the O'Reilly's survey results either, data cleaning is a **huge** component of real-world data science.\n",
    "    - You didn't get much exposure to it in DSC 10, but you will in DSC 80.\n",
    "- Let's look at **summary statistics** for each of our numeric columns.\n",
    "    - Do you notice anything strange?\n",
    "    - What are the implications on data reliability?"
   ]
  },
  {
   "cell_type": "code",
   "execution_count": 13,
   "id": "68f12066",
   "metadata": {},
   "outputs": [
    {
     "data": {
      "text/html": [
       "<div>\n",
       "<style scoped>\n",
       "    .dataframe tbody tr th:only-of-type {\n",
       "        vertical-align: middle;\n",
       "    }\n",
       "\n",
       "    .dataframe tbody tr th {\n",
       "        vertical-align: top;\n",
       "    }\n",
       "\n",
       "    .dataframe thead th {\n",
       "        text-align: right;\n",
       "    }\n",
       "</style>\n",
       "<table border=\"1\" class=\"dataframe\">\n",
       "  <thead>\n",
       "    <tr style=\"text-align: right;\">\n",
       "      <th></th>\n",
       "      <th>count</th>\n",
       "      <th>mean</th>\n",
       "      <th>std</th>\n",
       "      <th>min</th>\n",
       "      <th>25%</th>\n",
       "      <th>50%</th>\n",
       "      <th>75%</th>\n",
       "      <th>max</th>\n",
       "    </tr>\n",
       "  </thead>\n",
       "  <tbody>\n",
       "    <tr>\n",
       "      <th>Base Pay</th>\n",
       "      <td>12605.0</td>\n",
       "      <td>56066.707180</td>\n",
       "      <td>35773.864476</td>\n",
       "      <td>0.0</td>\n",
       "      <td>32714.0</td>\n",
       "      <td>54725.0</td>\n",
       "      <td>77512.0</td>\n",
       "      <td>305000.0</td>\n",
       "    </tr>\n",
       "    <tr>\n",
       "      <th>Overtime Pay</th>\n",
       "      <td>12605.0</td>\n",
       "      <td>8789.100198</td>\n",
       "      <td>18507.729611</td>\n",
       "      <td>-293.0</td>\n",
       "      <td>0.0</td>\n",
       "      <td>588.0</td>\n",
       "      <td>9174.0</td>\n",
       "      <td>204462.0</td>\n",
       "    </tr>\n",
       "    <tr>\n",
       "      <th>Benefits</th>\n",
       "      <td>12605.0</td>\n",
       "      <td>15456.868068</td>\n",
       "      <td>11183.968318</td>\n",
       "      <td>-39.0</td>\n",
       "      <td>6425.0</td>\n",
       "      <td>14549.0</td>\n",
       "      <td>22745.0</td>\n",
       "      <td>86066.0</td>\n",
       "    </tr>\n",
       "    <tr>\n",
       "      <th>Total Pay</th>\n",
       "      <td>12605.0</td>\n",
       "      <td>75181.321618</td>\n",
       "      <td>49634.174460</td>\n",
       "      <td>0.0</td>\n",
       "      <td>41177.0</td>\n",
       "      <td>71354.0</td>\n",
       "      <td>106903.0</td>\n",
       "      <td>320699.0</td>\n",
       "    </tr>\n",
       "    <tr>\n",
       "      <th>Total Pay &amp; Benefits</th>\n",
       "      <td>12605.0</td>\n",
       "      <td>90638.189687</td>\n",
       "      <td>58833.565854</td>\n",
       "      <td>1.0</td>\n",
       "      <td>52478.0</td>\n",
       "      <td>86226.0</td>\n",
       "      <td>128147.0</td>\n",
       "      <td>354692.0</td>\n",
       "    </tr>\n",
       "    <tr>\n",
       "      <th>Year</th>\n",
       "      <td>12605.0</td>\n",
       "      <td>2020.000000</td>\n",
       "      <td>0.000000</td>\n",
       "      <td>2020.0</td>\n",
       "      <td>2020.0</td>\n",
       "      <td>2020.0</td>\n",
       "      <td>2020.0</td>\n",
       "      <td>2020.0</td>\n",
       "    </tr>\n",
       "    <tr>\n",
       "      <th>Notes</th>\n",
       "      <td>0.0</td>\n",
       "      <td>NaN</td>\n",
       "      <td>NaN</td>\n",
       "      <td>NaN</td>\n",
       "      <td>NaN</td>\n",
       "      <td>NaN</td>\n",
       "      <td>NaN</td>\n",
       "      <td>NaN</td>\n",
       "    </tr>\n",
       "  </tbody>\n",
       "</table>\n",
       "</div>"
      ],
      "text/plain": [
       "                        count          mean           std     min      25%  \\\n",
       "Base Pay              12605.0  56066.707180  35773.864476     0.0  32714.0   \n",
       "Overtime Pay          12605.0   8789.100198  18507.729611  -293.0      0.0   \n",
       "Benefits              12605.0  15456.868068  11183.968318   -39.0   6425.0   \n",
       "Total Pay             12605.0  75181.321618  49634.174460     0.0  41177.0   \n",
       "Total Pay & Benefits  12605.0  90638.189687  58833.565854     1.0  52478.0   \n",
       "Year                  12605.0   2020.000000      0.000000  2020.0   2020.0   \n",
       "Notes                     0.0           NaN           NaN     NaN      NaN   \n",
       "\n",
       "                          50%       75%       max  \n",
       "Base Pay              54725.0   77512.0  305000.0  \n",
       "Overtime Pay            588.0    9174.0  204462.0  \n",
       "Benefits              14549.0   22745.0   86066.0  \n",
       "Total Pay             71354.0  106903.0  320699.0  \n",
       "Total Pay & Benefits  86226.0  128147.0  354692.0  \n",
       "Year                   2020.0    2020.0    2020.0  \n",
       "Notes                     NaN       NaN       NaN  "
      ]
     },
     "execution_count": 13,
     "metadata": {},
     "output_type": "execute_result"
    }
   ],
   "source": [
    "# .T is for transpose()\n",
    "salaries.describe().T"
   ]
  },
  {
   "cell_type": "markdown",
   "id": "1f03faab",
   "metadata": {
    "slideshow": {
     "slide_type": "fragment"
    }
   },
   "source": [
    "- Someone had an `'Overtime Pay'` of -\\$293!\n",
    "- The `'Other Pay'` column contained numbers, why doesn't it appear here?\n",
    "- How many people have salaries of \\$0?\n",
    "- Why is there a `'Notes'` column that is missing for everybody?"
   ]
  },
  {
   "cell_type": "markdown",
   "id": "a3febbea",
   "metadata": {
    "slideshow": {
     "slide_type": "slide"
    }
   },
   "source": [
    "### Empirical distribution of salaries\n",
    "\n",
    "Let's plot the distribution of salaries."
   ]
  },
  {
   "cell_type": "code",
   "execution_count": 14,
   "id": "eae8690c",
   "metadata": {},
   "outputs": [
    {
     "data": {
      "image/png": "[encoded data removed]",
      "text/plain": [
       "<Figure size 432x288 with 1 Axes>"
      ]
     },
     "metadata": {
      "needs_background": "light"
     },
     "output_type": "display_data"
    }
   ],
   "source": [
    "salaries['Total Pay'].plot(kind='hist', density=True, bins=50, ec='w', \n",
    "                           title='City of San Diego Employee Salaries');"
   ]
  },
  {
   "cell_type": "markdown",
   "id": "be4bb36b",
   "metadata": {
    "slideshow": {
     "slide_type": "slide"
    }
   },
   "source": [
    "### Discussion Question\n",
    "\n",
    "Which of the following best describe the distribution of San Diego employee salaries?\n",
    "\n",
    "- A. Right-skewed, unimodal\n",
    "- B. Right-skewed, bimodal\n",
    "- C. Left-skewed, unimodal\n",
    "- D. Left-skewed, bimodal"
   ]
  },
  {
   "cell_type": "markdown",
   "id": "56266d20",
   "metadata": {
    "slideshow": {
     "slide_type": "slide"
    }
   },
   "source": [
    "### Empirical distribution of salaries\n",
    "\n",
    "Let's draw the distribution of salaries separately for part-time and full-time employees."
   ]
  },
  {
   "cell_type": "code",
   "execution_count": 15,
   "id": "eeb64e8e",
   "metadata": {
    "scrolled": false
   },
   "outputs": [
    {
     "data": {
      "image/png": "[encoded data removed]",
      "text/plain": [
       "<Figure size 432x288 with 1 Axes>"
      ]
     },
     "metadata": {
      "needs_background": "light"
     },
     "output_type": "display_data"
    }
   ],
   "source": [
    "bystatus = salaries.groupby('Status')\n",
    "bystatus['Total Pay'].plot(kind='kde', title='City of San Diego Employee Salaries, Part-Time vs. Full-Time')\n",
    "plt.legend(bystatus.groups);"
   ]
  },
  {
   "cell_type": "markdown",
   "id": "a133e2dd",
   "metadata": {
    "slideshow": {
     "slide_type": "slide"
    }
   },
   "source": [
    "### Question: Does gender influence pay?\n",
    "\n",
    "- Do employees of different genders have similar pay?\n",
    "- The salary dataset we downloaded does not contain employee gender, so we can't answer this question using just the data we have."
   ]
  },
  {
   "cell_type": "code",
   "execution_count": 16,
   "id": "9765b3c5",
   "metadata": {},
   "outputs": [
    {
     "data": {
      "text/html": [
       "<div>\n",
       "<style scoped>\n",
       "    .dataframe tbody tr th:only-of-type {\n",
       "        vertical-align: middle;\n",
       "    }\n",
       "\n",
       "    .dataframe tbody tr th {\n",
       "        vertical-align: top;\n",
       "    }\n",
       "\n",
       "    .dataframe thead th {\n",
       "        text-align: right;\n",
       "    }\n",
       "</style>\n",
       "<table border=\"1\" class=\"dataframe\">\n",
       "  <thead>\n",
       "    <tr style=\"text-align: right;\">\n",
       "      <th></th>\n",
       "      <th>Employee Name</th>\n",
       "      <th>Job Title</th>\n",
       "      <th>Base Pay</th>\n",
       "      <th>Overtime Pay</th>\n",
       "      <th>Other Pay</th>\n",
       "      <th>Benefits</th>\n",
       "      <th>Total Pay</th>\n",
       "      <th>Total Pay &amp; Benefits</th>\n",
       "      <th>Year</th>\n",
       "      <th>Notes</th>\n",
       "      <th>Agency</th>\n",
       "      <th>Status</th>\n",
       "    </tr>\n",
       "  </thead>\n",
       "  <tbody>\n",
       "    <tr>\n",
       "      <th>0</th>\n",
       "      <td>Michael Xxxx</td>\n",
       "      <td>Police Officer</td>\n",
       "      <td>117691.0</td>\n",
       "      <td>187290.0</td>\n",
       "      <td>13331.00</td>\n",
       "      <td>36380.0</td>\n",
       "      <td>318312.0</td>\n",
       "      <td>354692.0</td>\n",
       "      <td>2020</td>\n",
       "      <td>NaN</td>\n",
       "      <td>San Diego</td>\n",
       "      <td>FT</td>\n",
       "    </tr>\n",
       "    <tr>\n",
       "      <th>1</th>\n",
       "      <td>Gary Xxxx</td>\n",
       "      <td>Police Officer</td>\n",
       "      <td>117691.0</td>\n",
       "      <td>160062.0</td>\n",
       "      <td>42946.00</td>\n",
       "      <td>31795.0</td>\n",
       "      <td>320699.0</td>\n",
       "      <td>352494.0</td>\n",
       "      <td>2020</td>\n",
       "      <td>NaN</td>\n",
       "      <td>San Diego</td>\n",
       "      <td>FT</td>\n",
       "    </tr>\n",
       "    <tr>\n",
       "      <th>2</th>\n",
       "      <td>Eric Xxxx</td>\n",
       "      <td>Fire Engineer</td>\n",
       "      <td>35698.0</td>\n",
       "      <td>204462.0</td>\n",
       "      <td>69121.00</td>\n",
       "      <td>38362.0</td>\n",
       "      <td>309281.0</td>\n",
       "      <td>347643.0</td>\n",
       "      <td>2020</td>\n",
       "      <td>NaN</td>\n",
       "      <td>San Diego</td>\n",
       "      <td>PT</td>\n",
       "    </tr>\n",
       "    <tr>\n",
       "      <th>3</th>\n",
       "      <td>Gregg Xxxx</td>\n",
       "      <td>Retirement Administrator</td>\n",
       "      <td>305000.0</td>\n",
       "      <td>0.0</td>\n",
       "      <td>12814.00</td>\n",
       "      <td>24792.0</td>\n",
       "      <td>317814.0</td>\n",
       "      <td>342606.0</td>\n",
       "      <td>2020</td>\n",
       "      <td>NaN</td>\n",
       "      <td>San Diego</td>\n",
       "      <td>FT</td>\n",
       "    </tr>\n",
       "    <tr>\n",
       "      <th>4</th>\n",
       "      <td>Joseph Xxxx</td>\n",
       "      <td>Fire Battalion Chief</td>\n",
       "      <td>94451.0</td>\n",
       "      <td>157778.0</td>\n",
       "      <td>48151.00</td>\n",
       "      <td>42096.0</td>\n",
       "      <td>300380.0</td>\n",
       "      <td>342476.0</td>\n",
       "      <td>2020</td>\n",
       "      <td>NaN</td>\n",
       "      <td>San Diego</td>\n",
       "      <td>FT</td>\n",
       "    </tr>\n",
       "  </tbody>\n",
       "</table>\n",
       "</div>"
      ],
      "text/plain": [
       "  Employee Name                 Job Title  Base Pay  Overtime Pay Other Pay  \\\n",
       "0  Michael Xxxx            Police Officer  117691.0      187290.0  13331.00   \n",
       "1     Gary Xxxx            Police Officer  117691.0      160062.0  42946.00   \n",
       "2     Eric Xxxx             Fire Engineer   35698.0      204462.0  69121.00   \n",
       "3    Gregg Xxxx  Retirement Administrator  305000.0           0.0  12814.00   \n",
       "4   Joseph Xxxx      Fire Battalion Chief   94451.0      157778.0  48151.00   \n",
       "\n",
       "   Benefits  Total Pay  Total Pay & Benefits  Year  Notes     Agency Status  \n",
       "0   36380.0   318312.0              354692.0  2020    NaN  San Diego     FT  \n",
       "1   31795.0   320699.0              352494.0  2020    NaN  San Diego     FT  \n",
       "2   38362.0   309281.0              347643.0  2020    NaN  San Diego     PT  \n",
       "3   24792.0   317814.0              342606.0  2020    NaN  San Diego     FT  \n",
       "4   42096.0   300380.0              342476.0  2020    NaN  San Diego     FT  "
      ]
     },
     "execution_count": 16,
     "metadata": {},
     "output_type": "execute_result"
    }
   ],
   "source": [
    "salaries.head()"
   ]
  },
  {
   "cell_type": "markdown",
   "id": "1d1ad579",
   "metadata": {},
   "source": [
    "- We **do**, however, have the first name of each employee."
   ]
  },
  {
   "cell_type": "markdown",
   "id": "da0b821d",
   "metadata": {
    "slideshow": {
     "slide_type": "slide"
    }
   },
   "source": [
    "### Social Security Administration baby names 👶\n",
    "\n",
    "- The US Social Security Administration (SSA) keeps track of the **first name**, **birth year**, and **assigned gender at birth** for all babies born in the US.\n",
    "- We can somehow combine the SSA's dataset with the `salaries` dataset to infer the gender of San Diego employees."
   ]
  },
  {
   "cell_type": "code",
   "execution_count": 17,
   "id": "b0490b24",
   "metadata": {},
   "outputs": [],
   "source": [
    "names_path = util.safe_download('https://www.ssa.gov/oact/babynames/names.zip')"
   ]
  },
  {
   "cell_type": "code",
   "execution_count": 18,
   "id": "f44fbdd9",
   "metadata": {},
   "outputs": [
    {
     "data": {
      "text/html": [
       "<div>\n",
       "<style scoped>\n",
       "    .dataframe tbody tr th:only-of-type {\n",
       "        vertical-align: middle;\n",
       "    }\n",
       "\n",
       "    .dataframe tbody tr th {\n",
       "        vertical-align: top;\n",
       "    }\n",
       "\n",
       "    .dataframe thead th {\n",
       "        text-align: right;\n",
       "    }\n",
       "</style>\n",
       "<table border=\"1\" class=\"dataframe\">\n",
       "  <thead>\n",
       "    <tr style=\"text-align: right;\">\n",
       "      <th></th>\n",
       "      <th>firstname</th>\n",
       "      <th>gender</th>\n",
       "      <th>count</th>\n",
       "      <th>year</th>\n",
       "    </tr>\n",
       "  </thead>\n",
       "  <tbody>\n",
       "    <tr>\n",
       "      <th>0</th>\n",
       "      <td>Emily</td>\n",
       "      <td>F</td>\n",
       "      <td>25957</td>\n",
       "      <td>2000</td>\n",
       "    </tr>\n",
       "    <tr>\n",
       "      <th>1</th>\n",
       "      <td>Hannah</td>\n",
       "      <td>F</td>\n",
       "      <td>23085</td>\n",
       "      <td>2000</td>\n",
       "    </tr>\n",
       "    <tr>\n",
       "      <th>2</th>\n",
       "      <td>Madison</td>\n",
       "      <td>F</td>\n",
       "      <td>19968</td>\n",
       "      <td>2000</td>\n",
       "    </tr>\n",
       "    <tr>\n",
       "      <th>3</th>\n",
       "      <td>Ashley</td>\n",
       "      <td>F</td>\n",
       "      <td>17997</td>\n",
       "      <td>2000</td>\n",
       "    </tr>\n",
       "    <tr>\n",
       "      <th>4</th>\n",
       "      <td>Sarah</td>\n",
       "      <td>F</td>\n",
       "      <td>17708</td>\n",
       "      <td>2000</td>\n",
       "    </tr>\n",
       "    <tr>\n",
       "      <th>...</th>\n",
       "      <td>...</td>\n",
       "      <td>...</td>\n",
       "      <td>...</td>\n",
       "      <td>...</td>\n",
       "    </tr>\n",
       "    <tr>\n",
       "      <th>32068</th>\n",
       "      <td>Zyheem</td>\n",
       "      <td>M</td>\n",
       "      <td>5</td>\n",
       "      <td>2019</td>\n",
       "    </tr>\n",
       "    <tr>\n",
       "      <th>32069</th>\n",
       "      <td>Zykel</td>\n",
       "      <td>M</td>\n",
       "      <td>5</td>\n",
       "      <td>2019</td>\n",
       "    </tr>\n",
       "    <tr>\n",
       "      <th>32070</th>\n",
       "      <td>Zyking</td>\n",
       "      <td>M</td>\n",
       "      <td>5</td>\n",
       "      <td>2019</td>\n",
       "    </tr>\n",
       "    <tr>\n",
       "      <th>32071</th>\n",
       "      <td>Zyn</td>\n",
       "      <td>M</td>\n",
       "      <td>5</td>\n",
       "      <td>2019</td>\n",
       "    </tr>\n",
       "    <tr>\n",
       "      <th>32072</th>\n",
       "      <td>Zyran</td>\n",
       "      <td>M</td>\n",
       "      <td>5</td>\n",
       "      <td>2019</td>\n",
       "    </tr>\n",
       "  </tbody>\n",
       "</table>\n",
       "<p>1431652 rows × 4 columns</p>\n",
       "</div>"
      ],
      "text/plain": [
       "      firstname gender  count  year\n",
       "0         Emily      F  25957  2000\n",
       "1        Hannah      F  23085  2000\n",
       "2       Madison      F  19968  2000\n",
       "3        Ashley      F  17997  2000\n",
       "4         Sarah      F  17708  2000\n",
       "...         ...    ...    ...   ...\n",
       "32068    Zyheem      M      5  2019\n",
       "32069     Zykel      M      5  2019\n",
       "32070    Zyking      M      5  2019\n",
       "32071       Zyn      M      5  2019\n",
       "32072     Zyran      M      5  2019\n",
       "\n",
       "[1431652 rows x 4 columns]"
      ]
     },
     "execution_count": 18,
     "metadata": {},
     "output_type": "execute_result"
    }
   ],
   "source": [
    "import pathlib\n",
    "\n",
    "dfs = []\n",
    "for path in pathlib.Path('data/names/').glob('*.txt'):\n",
    "    year = int(str(path)[14:18])\n",
    "    if year >= 1964:\n",
    "        df = pd.read_csv(path, names=['firstname', 'gender', 'count']).assign(year=year)\n",
    "        dfs.append(df)\n",
    "        \n",
    "names = pd.concat(dfs)\n",
    "names"
   ]
  },
  {
   "cell_type": "markdown",
   "id": "df13ce3e",
   "metadata": {
    "slideshow": {
     "slide_type": "slide"
    }
   },
   "source": [
    "> We began compiling the baby name list in 1997, with names dating back to 1880. At the time of a child’s birth, parents supply the name to us when applying for a child’s Social Security card, thus making Social Security America’s source for the most popular baby names. Please share this with your friends and family—and help us spread the word on social media. - [Social Security’s Top Baby Names for 2020\n",
    "](https://blog.ssa.gov/social-securitys-top-baby-names-for-2020/)"
   ]
  },
  {
   "cell_type": "markdown",
   "id": "5ad517c2",
   "metadata": {
    "slideshow": {
     "slide_type": "slide"
    }
   },
   "source": [
    "### Exploring `names`\n",
    "\n",
    "- The only values of `'gender'` in `names` are `'M'` and `'F'`.\n",
    "- Many names have non-zero counts for both `'M'` and `'F'`.\n",
    "- Most names occur only a few times per year, but a few names occur very often."
   ]
  },
  {
   "cell_type": "code",
   "execution_count": 19,
   "id": "5f358063",
   "metadata": {},
   "outputs": [
    {
     "data": {
      "text/html": [
       "<div>\n",
       "<style scoped>\n",
       "    .dataframe tbody tr th:only-of-type {\n",
       "        vertical-align: middle;\n",
       "    }\n",
       "\n",
       "    .dataframe tbody tr th {\n",
       "        vertical-align: top;\n",
       "    }\n",
       "\n",
       "    .dataframe thead th {\n",
       "        text-align: right;\n",
       "    }\n",
       "</style>\n",
       "<table border=\"1\" class=\"dataframe\">\n",
       "  <thead>\n",
       "    <tr style=\"text-align: right;\">\n",
       "      <th></th>\n",
       "      <th>firstname</th>\n",
       "      <th>gender</th>\n",
       "      <th>count</th>\n",
       "      <th>year</th>\n",
       "    </tr>\n",
       "  </thead>\n",
       "  <tbody>\n",
       "    <tr>\n",
       "      <th>0</th>\n",
       "      <td>Emily</td>\n",
       "      <td>F</td>\n",
       "      <td>25957</td>\n",
       "      <td>2000</td>\n",
       "    </tr>\n",
       "    <tr>\n",
       "      <th>1</th>\n",
       "      <td>Hannah</td>\n",
       "      <td>F</td>\n",
       "      <td>23085</td>\n",
       "      <td>2000</td>\n",
       "    </tr>\n",
       "    <tr>\n",
       "      <th>2</th>\n",
       "      <td>Madison</td>\n",
       "      <td>F</td>\n",
       "      <td>19968</td>\n",
       "      <td>2000</td>\n",
       "    </tr>\n",
       "    <tr>\n",
       "      <th>3</th>\n",
       "      <td>Ashley</td>\n",
       "      <td>F</td>\n",
       "      <td>17997</td>\n",
       "      <td>2000</td>\n",
       "    </tr>\n",
       "    <tr>\n",
       "      <th>4</th>\n",
       "      <td>Sarah</td>\n",
       "      <td>F</td>\n",
       "      <td>17708</td>\n",
       "      <td>2000</td>\n",
       "    </tr>\n",
       "  </tbody>\n",
       "</table>\n",
       "</div>"
      ],
      "text/plain": [
       "  firstname gender  count  year\n",
       "0     Emily      F  25957  2000\n",
       "1    Hannah      F  23085  2000\n",
       "2   Madison      F  19968  2000\n",
       "3    Ashley      F  17997  2000\n",
       "4     Sarah      F  17708  2000"
      ]
     },
     "execution_count": 19,
     "metadata": {},
     "output_type": "execute_result"
    }
   ],
   "source": [
    "names.head()"
   ]
  },
  {
   "cell_type": "code",
   "execution_count": 20,
   "id": "2d8ae348",
   "metadata": {},
   "outputs": [
    {
     "data": {
      "text/plain": [
       "F    856185\n",
       "M    575467\n",
       "Name: gender, dtype: int64"
      ]
     },
     "execution_count": 20,
     "metadata": {},
     "output_type": "execute_result"
    }
   ],
   "source": [
    "# Get the count of each unique value in the 'gender' column\n",
    "names['gender'].value_counts()"
   ]
  },
  {
   "cell_type": "code",
   "execution_count": 21,
   "id": "08449221",
   "metadata": {
    "scrolled": false
   },
   "outputs": [
    {
     "data": {
      "text/html": [
       "<div>\n",
       "<style scoped>\n",
       "    .dataframe tbody tr th:only-of-type {\n",
       "        vertical-align: middle;\n",
       "    }\n",
       "\n",
       "    .dataframe tbody tr th {\n",
       "        vertical-align: top;\n",
       "    }\n",
       "\n",
       "    .dataframe thead th {\n",
       "        text-align: right;\n",
       "    }\n",
       "</style>\n",
       "<table border=\"1\" class=\"dataframe\">\n",
       "  <thead>\n",
       "    <tr style=\"text-align: right;\">\n",
       "      <th></th>\n",
       "      <th>firstname</th>\n",
       "      <th>gender</th>\n",
       "      <th>count</th>\n",
       "      <th>year</th>\n",
       "    </tr>\n",
       "  </thead>\n",
       "  <tbody>\n",
       "    <tr>\n",
       "      <th>10876</th>\n",
       "      <td>Billy</td>\n",
       "      <td>F</td>\n",
       "      <td>8</td>\n",
       "      <td>2000</td>\n",
       "    </tr>\n",
       "    <tr>\n",
       "      <th>18042</th>\n",
       "      <td>Billy</td>\n",
       "      <td>M</td>\n",
       "      <td>670</td>\n",
       "      <td>2000</td>\n",
       "    </tr>\n",
       "    <tr>\n",
       "      <th>14856</th>\n",
       "      <td>Billy</td>\n",
       "      <td>F</td>\n",
       "      <td>6</td>\n",
       "      <td>2014</td>\n",
       "    </tr>\n",
       "    <tr>\n",
       "      <th>20012</th>\n",
       "      <td>Billy</td>\n",
       "      <td>M</td>\n",
       "      <td>288</td>\n",
       "      <td>2014</td>\n",
       "    </tr>\n",
       "    <tr>\n",
       "      <th>19917</th>\n",
       "      <td>Billy</td>\n",
       "      <td>M</td>\n",
       "      <td>281</td>\n",
       "      <td>2015</td>\n",
       "    </tr>\n",
       "    <tr>\n",
       "      <th>...</th>\n",
       "      <td>...</td>\n",
       "      <td>...</td>\n",
       "      <td>...</td>\n",
       "      <td>...</td>\n",
       "    </tr>\n",
       "    <tr>\n",
       "      <th>18451</th>\n",
       "      <td>Billy</td>\n",
       "      <td>M</td>\n",
       "      <td>209</td>\n",
       "      <td>2020</td>\n",
       "    </tr>\n",
       "    <tr>\n",
       "      <th>21035</th>\n",
       "      <td>Billy</td>\n",
       "      <td>M</td>\n",
       "      <td>458</td>\n",
       "      <td>2008</td>\n",
       "    </tr>\n",
       "    <tr>\n",
       "      <th>14051</th>\n",
       "      <td>Billy</td>\n",
       "      <td>F</td>\n",
       "      <td>6</td>\n",
       "      <td>2018</td>\n",
       "    </tr>\n",
       "    <tr>\n",
       "      <th>18959</th>\n",
       "      <td>Billy</td>\n",
       "      <td>M</td>\n",
       "      <td>262</td>\n",
       "      <td>2018</td>\n",
       "    </tr>\n",
       "    <tr>\n",
       "      <th>18861</th>\n",
       "      <td>Billy</td>\n",
       "      <td>M</td>\n",
       "      <td>245</td>\n",
       "      <td>2019</td>\n",
       "    </tr>\n",
       "  </tbody>\n",
       "</table>\n",
       "<p>106 rows × 4 columns</p>\n",
       "</div>"
      ],
      "text/plain": [
       "      firstname gender  count  year\n",
       "10876     Billy      F      8  2000\n",
       "18042     Billy      M    670  2000\n",
       "14856     Billy      F      6  2014\n",
       "20012     Billy      M    288  2014\n",
       "19917     Billy      M    281  2015\n",
       "...         ...    ...    ...   ...\n",
       "18451     Billy      M    209  2020\n",
       "21035     Billy      M    458  2008\n",
       "14051     Billy      F      6  2018\n",
       "18959     Billy      M    262  2018\n",
       "18861     Billy      M    245  2019\n",
       "\n",
       "[106 rows x 4 columns]"
      ]
     },
     "execution_count": 21,
     "metadata": {},
     "output_type": "execute_result"
    }
   ],
   "source": [
    "# Look at a single name\n",
    "names[names['firstname'] == 'Billy']"
   ]
  },
  {
   "cell_type": "code",
   "execution_count": 22,
   "id": "d0f7af69",
   "metadata": {},
   "outputs": [
    {
     "data": {
      "text/html": [
       "<div>\n",
       "<style scoped>\n",
       "    .dataframe tbody tr th:only-of-type {\n",
       "        vertical-align: middle;\n",
       "    }\n",
       "\n",
       "    .dataframe tbody tr th {\n",
       "        vertical-align: top;\n",
       "    }\n",
       "\n",
       "    .dataframe thead th {\n",
       "        text-align: right;\n",
       "    }\n",
       "</style>\n",
       "<table border=\"1\" class=\"dataframe\">\n",
       "  <thead>\n",
       "    <tr style=\"text-align: right;\">\n",
       "      <th></th>\n",
       "      <th>count</th>\n",
       "      <th>year</th>\n",
       "    </tr>\n",
       "  </thead>\n",
       "  <tbody>\n",
       "    <tr>\n",
       "      <th>count</th>\n",
       "      <td>1.431652e+06</td>\n",
       "      <td>1.431652e+06</td>\n",
       "    </tr>\n",
       "    <tr>\n",
       "      <th>mean</th>\n",
       "      <td>1.450716e+02</td>\n",
       "      <td>1.997397e+03</td>\n",
       "    </tr>\n",
       "    <tr>\n",
       "      <th>std</th>\n",
       "      <td>1.184156e+03</td>\n",
       "      <td>1.566252e+01</td>\n",
       "    </tr>\n",
       "    <tr>\n",
       "      <th>min</th>\n",
       "      <td>5.000000e+00</td>\n",
       "      <td>1.964000e+03</td>\n",
       "    </tr>\n",
       "    <tr>\n",
       "      <th>25%</th>\n",
       "      <td>7.000000e+00</td>\n",
       "      <td>1.985000e+03</td>\n",
       "    </tr>\n",
       "    <tr>\n",
       "      <th>50%</th>\n",
       "      <td>1.100000e+01</td>\n",
       "      <td>2.000000e+03</td>\n",
       "    </tr>\n",
       "    <tr>\n",
       "      <th>75%</th>\n",
       "      <td>3.000000e+01</td>\n",
       "      <td>2.011000e+03</td>\n",
       "    </tr>\n",
       "    <tr>\n",
       "      <th>max</th>\n",
       "      <td>8.528800e+04</td>\n",
       "      <td>2.021000e+03</td>\n",
       "    </tr>\n",
       "  </tbody>\n",
       "</table>\n",
       "</div>"
      ],
      "text/plain": [
       "              count          year\n",
       "count  1.431652e+06  1.431652e+06\n",
       "mean   1.450716e+02  1.997397e+03\n",
       "std    1.184156e+03  1.566252e+01\n",
       "min    5.000000e+00  1.964000e+03\n",
       "25%    7.000000e+00  1.985000e+03\n",
       "50%    1.100000e+01  2.000000e+03\n",
       "75%    3.000000e+01  2.011000e+03\n",
       "max    8.528800e+04  2.021000e+03"
      ]
     },
     "execution_count": 22,
     "metadata": {},
     "output_type": "execute_result"
    }
   ],
   "source": [
    "# Look at various summary statistics\n",
    "names.describe()"
   ]
  },
  {
   "cell_type": "markdown",
   "id": "bb4826de",
   "metadata": {
    "slideshow": {
     "slide_type": "slide"
    }
   },
   "source": [
    "### Data Modeling\n",
    "\n",
    "<center><img src=\"imgs/DSLC.png\" width=\"40%\"></center>"
   ]
  },
  {
   "cell_type": "markdown",
   "id": "9a560aeb",
   "metadata": {
    "slideshow": {
     "slide_type": "slide"
    }
   },
   "source": [
    "### Determining the most common gender for each name\n",
    "\n",
    "- Recall, our goal is to infer the gender of each San Diego city employee. To do this, we need a mapping of first names to genders."
   ]
  },
  {
   "cell_type": "markdown",
   "id": "f2140505",
   "metadata": {
    "slideshow": {
     "slide_type": "fragment"
    }
   },
   "source": [
    "- **A (very imperfect) model:** If someone has a name that is predominantly used by gender $g$, we'll infer their gender to be $g$."
   ]
  },
  {
   "cell_type": "markdown",
   "id": "61d26fbf",
   "metadata": {
    "slideshow": {
     "slide_type": "fragment"
    }
   },
   "source": [
    "- **Approach:** Create a DataFrame indexed by `'firstname'` that describes the total number of `'F'` and `'M'` babies in `names` for each unique `'firstname'`.\n",
    "    - If there are more female babies born with a given name than male babies, we will \"classify\" the name as female.\n",
    "    - Otherwise, we will classify the name as male."
   ]
  },
  {
   "cell_type": "markdown",
   "id": "dc928589",
   "metadata": {
    "slideshow": {
     "slide_type": "slide"
    }
   },
   "source": [
    "### Determining the most common gender for each name"
   ]
  },
  {
   "cell_type": "code",
   "execution_count": 23,
   "id": "6bdc8ed5",
   "metadata": {},
   "outputs": [
    {
     "data": {
      "text/html": [
       "<div>\n",
       "<style scoped>\n",
       "    .dataframe tbody tr th:only-of-type {\n",
       "        vertical-align: middle;\n",
       "    }\n",
       "\n",
       "    .dataframe tbody tr th {\n",
       "        vertical-align: top;\n",
       "    }\n",
       "\n",
       "    .dataframe thead th {\n",
       "        text-align: right;\n",
       "    }\n",
       "</style>\n",
       "<table border=\"1\" class=\"dataframe\">\n",
       "  <thead>\n",
       "    <tr style=\"text-align: right;\">\n",
       "      <th>gender</th>\n",
       "      <th>F</th>\n",
       "      <th>M</th>\n",
       "    </tr>\n",
       "    <tr>\n",
       "      <th>firstname</th>\n",
       "      <th></th>\n",
       "      <th></th>\n",
       "    </tr>\n",
       "  </thead>\n",
       "  <tbody>\n",
       "    <tr>\n",
       "      <th>Aaban</th>\n",
       "      <td>0.0</td>\n",
       "      <td>120.0</td>\n",
       "    </tr>\n",
       "    <tr>\n",
       "      <th>Aabha</th>\n",
       "      <td>51.0</td>\n",
       "      <td>0.0</td>\n",
       "    </tr>\n",
       "    <tr>\n",
       "      <th>Aabid</th>\n",
       "      <td>0.0</td>\n",
       "      <td>16.0</td>\n",
       "    </tr>\n",
       "    <tr>\n",
       "      <th>Aabidah</th>\n",
       "      <td>5.0</td>\n",
       "      <td>0.0</td>\n",
       "    </tr>\n",
       "    <tr>\n",
       "      <th>Aabir</th>\n",
       "      <td>0.0</td>\n",
       "      <td>10.0</td>\n",
       "    </tr>\n",
       "    <tr>\n",
       "      <th>...</th>\n",
       "      <td>...</td>\n",
       "      <td>...</td>\n",
       "    </tr>\n",
       "    <tr>\n",
       "      <th>Zyvion</th>\n",
       "      <td>0.0</td>\n",
       "      <td>5.0</td>\n",
       "    </tr>\n",
       "    <tr>\n",
       "      <th>Zyvon</th>\n",
       "      <td>0.0</td>\n",
       "      <td>7.0</td>\n",
       "    </tr>\n",
       "    <tr>\n",
       "      <th>Zyyanna</th>\n",
       "      <td>6.0</td>\n",
       "      <td>0.0</td>\n",
       "    </tr>\n",
       "    <tr>\n",
       "      <th>Zyyon</th>\n",
       "      <td>0.0</td>\n",
       "      <td>6.0</td>\n",
       "    </tr>\n",
       "    <tr>\n",
       "      <th>Zzyzx</th>\n",
       "      <td>0.0</td>\n",
       "      <td>10.0</td>\n",
       "    </tr>\n",
       "  </tbody>\n",
       "</table>\n",
       "<p>92364 rows × 2 columns</p>\n",
       "</div>"
      ],
      "text/plain": [
       "gender        F      M\n",
       "firstname             \n",
       "Aaban       0.0  120.0\n",
       "Aabha      51.0    0.0\n",
       "Aabid       0.0   16.0\n",
       "Aabidah     5.0    0.0\n",
       "Aabir       0.0   10.0\n",
       "...         ...    ...\n",
       "Zyvion      0.0    5.0\n",
       "Zyvon       0.0    7.0\n",
       "Zyyanna     6.0    0.0\n",
       "Zyyon       0.0    6.0\n",
       "Zzyzx       0.0   10.0\n",
       "\n",
       "[92364 rows x 2 columns]"
      ]
     },
     "execution_count": 23,
     "metadata": {},
     "output_type": "execute_result"
    }
   ],
   "source": [
    "counts_by_gender = (\n",
    "    names\n",
    "    .groupby(['firstname', 'gender'])\n",
    "    .sum()\n",
    "    .reset_index()\n",
    "    .pivot('firstname', 'gender', 'count')\n",
    "    .fillna(0)\n",
    ")\n",
    "counts_by_gender"
   ]
  },
  {
   "cell_type": "code",
   "execution_count": 24,
   "id": "8f380099",
   "metadata": {},
   "outputs": [
    {
     "data": {
      "text/plain": [
       "firstname\n",
       "Aaban      False\n",
       "Aabha       True\n",
       "Aabid      False\n",
       "Aabidah     True\n",
       "Aabir      False\n",
       "           ...  \n",
       "Zyvion     False\n",
       "Zyvon      False\n",
       "Zyyanna     True\n",
       "Zyyon      False\n",
       "Zzyzx      False\n",
       "Length: 92364, dtype: bool"
      ]
     },
     "execution_count": 24,
     "metadata": {},
     "output_type": "execute_result"
    }
   ],
   "source": [
    "counts_by_gender['F'] > counts_by_gender['M']"
   ]
  },
  {
   "cell_type": "code",
   "execution_count": 27,
   "id": "4cd74b43",
   "metadata": {},
   "outputs": [
    {
     "data": {
      "text/html": [
       "<div>\n",
       "<style scoped>\n",
       "    .dataframe tbody tr th:only-of-type {\n",
       "        vertical-align: middle;\n",
       "    }\n",
       "\n",
       "    .dataframe tbody tr th {\n",
       "        vertical-align: top;\n",
       "    }\n",
       "\n",
       "    .dataframe thead th {\n",
       "        text-align: right;\n",
       "    }\n",
       "</style>\n",
       "<table border=\"1\" class=\"dataframe\">\n",
       "  <thead>\n",
       "    <tr style=\"text-align: right;\">\n",
       "      <th>gender</th>\n",
       "      <th>F</th>\n",
       "      <th>M</th>\n",
       "      <th>gender</th>\n",
       "    </tr>\n",
       "    <tr>\n",
       "      <th>firstname</th>\n",
       "      <th></th>\n",
       "      <th></th>\n",
       "      <th></th>\n",
       "    </tr>\n",
       "  </thead>\n",
       "  <tbody>\n",
       "    <tr>\n",
       "      <th>Aaban</th>\n",
       "      <td>0.0</td>\n",
       "      <td>120.0</td>\n",
       "      <td>M</td>\n",
       "    </tr>\n",
       "    <tr>\n",
       "      <th>Aabha</th>\n",
       "      <td>51.0</td>\n",
       "      <td>0.0</td>\n",
       "      <td>F</td>\n",
       "    </tr>\n",
       "    <tr>\n",
       "      <th>Aabid</th>\n",
       "      <td>0.0</td>\n",
       "      <td>16.0</td>\n",
       "      <td>M</td>\n",
       "    </tr>\n",
       "    <tr>\n",
       "      <th>Aabidah</th>\n",
       "      <td>5.0</td>\n",
       "      <td>0.0</td>\n",
       "      <td>F</td>\n",
       "    </tr>\n",
       "    <tr>\n",
       "      <th>Aabir</th>\n",
       "      <td>0.0</td>\n",
       "      <td>10.0</td>\n",
       "      <td>M</td>\n",
       "    </tr>\n",
       "    <tr>\n",
       "      <th>...</th>\n",
       "      <td>...</td>\n",
       "      <td>...</td>\n",
       "      <td>...</td>\n",
       "    </tr>\n",
       "    <tr>\n",
       "      <th>Zyvion</th>\n",
       "      <td>0.0</td>\n",
       "      <td>5.0</td>\n",
       "      <td>M</td>\n",
       "    </tr>\n",
       "    <tr>\n",
       "      <th>Zyvon</th>\n",
       "      <td>0.0</td>\n",
       "      <td>7.0</td>\n",
       "      <td>M</td>\n",
       "    </tr>\n",
       "    <tr>\n",
       "      <th>Zyyanna</th>\n",
       "      <td>6.0</td>\n",
       "      <td>0.0</td>\n",
       "      <td>F</td>\n",
       "    </tr>\n",
       "    <tr>\n",
       "      <th>Zyyon</th>\n",
       "      <td>0.0</td>\n",
       "      <td>6.0</td>\n",
       "      <td>M</td>\n",
       "    </tr>\n",
       "    <tr>\n",
       "      <th>Zzyzx</th>\n",
       "      <td>0.0</td>\n",
       "      <td>10.0</td>\n",
       "      <td>M</td>\n",
       "    </tr>\n",
       "  </tbody>\n",
       "</table>\n",
       "<p>92364 rows × 3 columns</p>\n",
       "</div>"
      ],
      "text/plain": [
       "gender        F      M gender\n",
       "firstname                    \n",
       "Aaban       0.0  120.0      M\n",
       "Aabha      51.0    0.0      F\n",
       "Aabid       0.0   16.0      M\n",
       "Aabidah     5.0    0.0      F\n",
       "Aabir       0.0   10.0      M\n",
       "...         ...    ...    ...\n",
       "Zyvion      0.0    5.0      M\n",
       "Zyvon       0.0    7.0      M\n",
       "Zyyanna     6.0    0.0      F\n",
       "Zyyon       0.0    6.0      M\n",
       "Zzyzx       0.0   10.0      M\n",
       "\n",
       "[92364 rows x 3 columns]"
      ]
     },
     "execution_count": 27,
     "metadata": {},
     "output_type": "execute_result"
    }
   ],
   "source": [
    "genders = counts_by_gender.assign(gender=np.where(counts_by_gender['F'] > counts_by_gender['M'], 'F', 'M'))\n",
    "genders"
   ]
  },
  {
   "cell_type": "markdown",
   "id": "51c96464",
   "metadata": {
    "slideshow": {
     "slide_type": "slide"
    }
   },
   "source": [
    "### Adding a `'gender'` column to `salaries`\n",
    "\n",
    "This involves two steps:\n",
    "1. Extracting just the first name from `'Employee Name'`.\n",
    "2. **Merging** `salaries` and `genders`."
   ]
  },
  {
   "cell_type": "code",
   "execution_count": 28,
   "id": "3465b2ef",
   "metadata": {},
   "outputs": [
    {
     "data": {
      "text/html": [
       "<div>\n",
       "<style scoped>\n",
       "    .dataframe tbody tr th:only-of-type {\n",
       "        vertical-align: middle;\n",
       "    }\n",
       "\n",
       "    .dataframe tbody tr th {\n",
       "        vertical-align: top;\n",
       "    }\n",
       "\n",
       "    .dataframe thead th {\n",
       "        text-align: right;\n",
       "    }\n",
       "</style>\n",
       "<table border=\"1\" class=\"dataframe\">\n",
       "  <thead>\n",
       "    <tr style=\"text-align: right;\">\n",
       "      <th></th>\n",
       "      <th>Employee Name</th>\n",
       "      <th>Job Title</th>\n",
       "      <th>Base Pay</th>\n",
       "      <th>Overtime Pay</th>\n",
       "      <th>Other Pay</th>\n",
       "      <th>Benefits</th>\n",
       "      <th>Total Pay</th>\n",
       "      <th>Total Pay &amp; Benefits</th>\n",
       "      <th>Year</th>\n",
       "      <th>Notes</th>\n",
       "      <th>Agency</th>\n",
       "      <th>Status</th>\n",
       "      <th>firstname</th>\n",
       "    </tr>\n",
       "  </thead>\n",
       "  <tbody>\n",
       "    <tr>\n",
       "      <th>0</th>\n",
       "      <td>Michael Xxxx</td>\n",
       "      <td>Police Officer</td>\n",
       "      <td>117691.0</td>\n",
       "      <td>187290.0</td>\n",
       "      <td>13331.00</td>\n",
       "      <td>36380.0</td>\n",
       "      <td>318312.0</td>\n",
       "      <td>354692.0</td>\n",
       "      <td>2020</td>\n",
       "      <td>NaN</td>\n",
       "      <td>San Diego</td>\n",
       "      <td>FT</td>\n",
       "      <td>Michael</td>\n",
       "    </tr>\n",
       "    <tr>\n",
       "      <th>1</th>\n",
       "      <td>Gary Xxxx</td>\n",
       "      <td>Police Officer</td>\n",
       "      <td>117691.0</td>\n",
       "      <td>160062.0</td>\n",
       "      <td>42946.00</td>\n",
       "      <td>31795.0</td>\n",
       "      <td>320699.0</td>\n",
       "      <td>352494.0</td>\n",
       "      <td>2020</td>\n",
       "      <td>NaN</td>\n",
       "      <td>San Diego</td>\n",
       "      <td>FT</td>\n",
       "      <td>Gary</td>\n",
       "    </tr>\n",
       "    <tr>\n",
       "      <th>2</th>\n",
       "      <td>Eric Xxxx</td>\n",
       "      <td>Fire Engineer</td>\n",
       "      <td>35698.0</td>\n",
       "      <td>204462.0</td>\n",
       "      <td>69121.00</td>\n",
       "      <td>38362.0</td>\n",
       "      <td>309281.0</td>\n",
       "      <td>347643.0</td>\n",
       "      <td>2020</td>\n",
       "      <td>NaN</td>\n",
       "      <td>San Diego</td>\n",
       "      <td>PT</td>\n",
       "      <td>Eric</td>\n",
       "    </tr>\n",
       "    <tr>\n",
       "      <th>3</th>\n",
       "      <td>Gregg Xxxx</td>\n",
       "      <td>Retirement Administrator</td>\n",
       "      <td>305000.0</td>\n",
       "      <td>0.0</td>\n",
       "      <td>12814.00</td>\n",
       "      <td>24792.0</td>\n",
       "      <td>317814.0</td>\n",
       "      <td>342606.0</td>\n",
       "      <td>2020</td>\n",
       "      <td>NaN</td>\n",
       "      <td>San Diego</td>\n",
       "      <td>FT</td>\n",
       "      <td>Gregg</td>\n",
       "    </tr>\n",
       "    <tr>\n",
       "      <th>4</th>\n",
       "      <td>Joseph Xxxx</td>\n",
       "      <td>Fire Battalion Chief</td>\n",
       "      <td>94451.0</td>\n",
       "      <td>157778.0</td>\n",
       "      <td>48151.00</td>\n",
       "      <td>42096.0</td>\n",
       "      <td>300380.0</td>\n",
       "      <td>342476.0</td>\n",
       "      <td>2020</td>\n",
       "      <td>NaN</td>\n",
       "      <td>San Diego</td>\n",
       "      <td>FT</td>\n",
       "      <td>Joseph</td>\n",
       "    </tr>\n",
       "    <tr>\n",
       "      <th>...</th>\n",
       "      <td>...</td>\n",
       "      <td>...</td>\n",
       "      <td>...</td>\n",
       "      <td>...</td>\n",
       "      <td>...</td>\n",
       "      <td>...</td>\n",
       "      <td>...</td>\n",
       "      <td>...</td>\n",
       "      <td>...</td>\n",
       "      <td>...</td>\n",
       "      <td>...</td>\n",
       "      <td>...</td>\n",
       "      <td>...</td>\n",
       "    </tr>\n",
       "    <tr>\n",
       "      <th>12600</th>\n",
       "      <td>Elena Xxxx</td>\n",
       "      <td>Asst Eng-Civil</td>\n",
       "      <td>0.0</td>\n",
       "      <td>2.0</td>\n",
       "      <td>0.00</td>\n",
       "      <td>0.0</td>\n",
       "      <td>2.0</td>\n",
       "      <td>2.0</td>\n",
       "      <td>2020</td>\n",
       "      <td>NaN</td>\n",
       "      <td>San Diego</td>\n",
       "      <td>PT</td>\n",
       "      <td>Elena</td>\n",
       "    </tr>\n",
       "    <tr>\n",
       "      <th>12601</th>\n",
       "      <td>Gary Xxxx</td>\n",
       "      <td>Police Officer</td>\n",
       "      <td>0.0</td>\n",
       "      <td>2.0</td>\n",
       "      <td>0.00</td>\n",
       "      <td>0.0</td>\n",
       "      <td>2.0</td>\n",
       "      <td>2.0</td>\n",
       "      <td>2020</td>\n",
       "      <td>NaN</td>\n",
       "      <td>San Diego</td>\n",
       "      <td>PT</td>\n",
       "      <td>Gary</td>\n",
       "    </tr>\n",
       "    <tr>\n",
       "      <th>12602</th>\n",
       "      <td>Sara Xxxx</td>\n",
       "      <td>Asst Planner</td>\n",
       "      <td>0.0</td>\n",
       "      <td>1.0</td>\n",
       "      <td>0.00</td>\n",
       "      <td>0.0</td>\n",
       "      <td>1.0</td>\n",
       "      <td>1.0</td>\n",
       "      <td>2020</td>\n",
       "      <td>NaN</td>\n",
       "      <td>San Diego</td>\n",
       "      <td>PT</td>\n",
       "      <td>Sara</td>\n",
       "    </tr>\n",
       "    <tr>\n",
       "      <th>12603</th>\n",
       "      <td>Kevin Xxxx</td>\n",
       "      <td>Project Ofcr 1</td>\n",
       "      <td>0.0</td>\n",
       "      <td>1.0</td>\n",
       "      <td>0.00</td>\n",
       "      <td>0.0</td>\n",
       "      <td>1.0</td>\n",
       "      <td>1.0</td>\n",
       "      <td>2020</td>\n",
       "      <td>NaN</td>\n",
       "      <td>San Diego</td>\n",
       "      <td>PT</td>\n",
       "      <td>Kevin</td>\n",
       "    </tr>\n",
       "    <tr>\n",
       "      <th>12604</th>\n",
       "      <td>Deedrick Xxxx</td>\n",
       "      <td>Utility Worker 2</td>\n",
       "      <td>0.0</td>\n",
       "      <td>0.0</td>\n",
       "      <td>1.00</td>\n",
       "      <td>0.0</td>\n",
       "      <td>1.0</td>\n",
       "      <td>1.0</td>\n",
       "      <td>2020</td>\n",
       "      <td>NaN</td>\n",
       "      <td>San Diego</td>\n",
       "      <td>PT</td>\n",
       "      <td>Deedrick</td>\n",
       "    </tr>\n",
       "  </tbody>\n",
       "</table>\n",
       "<p>12605 rows × 13 columns</p>\n",
       "</div>"
      ],
      "text/plain": [
       "       Employee Name                 Job Title  Base Pay  Overtime Pay  \\\n",
       "0       Michael Xxxx            Police Officer  117691.0      187290.0   \n",
       "1          Gary Xxxx            Police Officer  117691.0      160062.0   \n",
       "2          Eric Xxxx             Fire Engineer   35698.0      204462.0   \n",
       "3         Gregg Xxxx  Retirement Administrator  305000.0           0.0   \n",
       "4        Joseph Xxxx      Fire Battalion Chief   94451.0      157778.0   \n",
       "...              ...                       ...       ...           ...   \n",
       "12600     Elena Xxxx            Asst Eng-Civil       0.0           2.0   \n",
       "12601      Gary Xxxx            Police Officer       0.0           2.0   \n",
       "12602      Sara Xxxx              Asst Planner       0.0           1.0   \n",
       "12603     Kevin Xxxx            Project Ofcr 1       0.0           1.0   \n",
       "12604  Deedrick Xxxx          Utility Worker 2       0.0           0.0   \n",
       "\n",
       "      Other Pay  Benefits  Total Pay  Total Pay & Benefits  Year  Notes  \\\n",
       "0      13331.00   36380.0   318312.0              354692.0  2020    NaN   \n",
       "1      42946.00   31795.0   320699.0              352494.0  2020    NaN   \n",
       "2      69121.00   38362.0   309281.0              347643.0  2020    NaN   \n",
       "3      12814.00   24792.0   317814.0              342606.0  2020    NaN   \n",
       "4      48151.00   42096.0   300380.0              342476.0  2020    NaN   \n",
       "...         ...       ...        ...                   ...   ...    ...   \n",
       "12600      0.00       0.0        2.0                   2.0  2020    NaN   \n",
       "12601      0.00       0.0        2.0                   2.0  2020    NaN   \n",
       "12602      0.00       0.0        1.0                   1.0  2020    NaN   \n",
       "12603      0.00       0.0        1.0                   1.0  2020    NaN   \n",
       "12604      1.00       0.0        1.0                   1.0  2020    NaN   \n",
       "\n",
       "          Agency Status firstname  \n",
       "0      San Diego     FT   Michael  \n",
       "1      San Diego     FT      Gary  \n",
       "2      San Diego     PT      Eric  \n",
       "3      San Diego     FT     Gregg  \n",
       "4      San Diego     FT    Joseph  \n",
       "...          ...    ...       ...  \n",
       "12600  San Diego     PT     Elena  \n",
       "12601  San Diego     PT      Gary  \n",
       "12602  San Diego     PT      Sara  \n",
       "12603  San Diego     PT     Kevin  \n",
       "12604  San Diego     PT  Deedrick  \n",
       "\n",
       "[12605 rows x 13 columns]"
      ]
     },
     "execution_count": 28,
     "metadata": {},
     "output_type": "execute_result"
    }
   ],
   "source": [
    "# Add firstname column\n",
    "salaries['firstname'] = salaries['Employee Name'].str.split().str[0]\n",
    "salaries"
   ]
  },
  {
   "cell_type": "code",
   "execution_count": 29,
   "id": "3a3e67fc",
   "metadata": {},
   "outputs": [
    {
     "data": {
      "text/html": [
       "<div>\n",
       "<style scoped>\n",
       "    .dataframe tbody tr th:only-of-type {\n",
       "        vertical-align: middle;\n",
       "    }\n",
       "\n",
       "    .dataframe tbody tr th {\n",
       "        vertical-align: top;\n",
       "    }\n",
       "\n",
       "    .dataframe thead th {\n",
       "        text-align: right;\n",
       "    }\n",
       "</style>\n",
       "<table border=\"1\" class=\"dataframe\">\n",
       "  <thead>\n",
       "    <tr style=\"text-align: right;\">\n",
       "      <th></th>\n",
       "      <th>Employee Name</th>\n",
       "      <th>Job Title</th>\n",
       "      <th>Base Pay</th>\n",
       "      <th>Overtime Pay</th>\n",
       "      <th>Other Pay</th>\n",
       "      <th>Benefits</th>\n",
       "      <th>Total Pay</th>\n",
       "      <th>Total Pay &amp; Benefits</th>\n",
       "      <th>Year</th>\n",
       "      <th>Notes</th>\n",
       "      <th>Agency</th>\n",
       "      <th>Status</th>\n",
       "      <th>firstname</th>\n",
       "      <th>gender</th>\n",
       "    </tr>\n",
       "  </thead>\n",
       "  <tbody>\n",
       "    <tr>\n",
       "      <th>0</th>\n",
       "      <td>Michael Xxxx</td>\n",
       "      <td>Police Officer</td>\n",
       "      <td>117691.0</td>\n",
       "      <td>187290.0</td>\n",
       "      <td>13331.00</td>\n",
       "      <td>36380.0</td>\n",
       "      <td>318312.0</td>\n",
       "      <td>354692.0</td>\n",
       "      <td>2020</td>\n",
       "      <td>NaN</td>\n",
       "      <td>San Diego</td>\n",
       "      <td>FT</td>\n",
       "      <td>Michael</td>\n",
       "      <td>M</td>\n",
       "    </tr>\n",
       "    <tr>\n",
       "      <th>1</th>\n",
       "      <td>Gary Xxxx</td>\n",
       "      <td>Police Officer</td>\n",
       "      <td>117691.0</td>\n",
       "      <td>160062.0</td>\n",
       "      <td>42946.00</td>\n",
       "      <td>31795.0</td>\n",
       "      <td>320699.0</td>\n",
       "      <td>352494.0</td>\n",
       "      <td>2020</td>\n",
       "      <td>NaN</td>\n",
       "      <td>San Diego</td>\n",
       "      <td>FT</td>\n",
       "      <td>Gary</td>\n",
       "      <td>M</td>\n",
       "    </tr>\n",
       "    <tr>\n",
       "      <th>2</th>\n",
       "      <td>Eric Xxxx</td>\n",
       "      <td>Fire Engineer</td>\n",
       "      <td>35698.0</td>\n",
       "      <td>204462.0</td>\n",
       "      <td>69121.00</td>\n",
       "      <td>38362.0</td>\n",
       "      <td>309281.0</td>\n",
       "      <td>347643.0</td>\n",
       "      <td>2020</td>\n",
       "      <td>NaN</td>\n",
       "      <td>San Diego</td>\n",
       "      <td>PT</td>\n",
       "      <td>Eric</td>\n",
       "      <td>M</td>\n",
       "    </tr>\n",
       "    <tr>\n",
       "      <th>3</th>\n",
       "      <td>Gregg Xxxx</td>\n",
       "      <td>Retirement Administrator</td>\n",
       "      <td>305000.0</td>\n",
       "      <td>0.0</td>\n",
       "      <td>12814.00</td>\n",
       "      <td>24792.0</td>\n",
       "      <td>317814.0</td>\n",
       "      <td>342606.0</td>\n",
       "      <td>2020</td>\n",
       "      <td>NaN</td>\n",
       "      <td>San Diego</td>\n",
       "      <td>FT</td>\n",
       "      <td>Gregg</td>\n",
       "      <td>M</td>\n",
       "    </tr>\n",
       "    <tr>\n",
       "      <th>4</th>\n",
       "      <td>Joseph Xxxx</td>\n",
       "      <td>Fire Battalion Chief</td>\n",
       "      <td>94451.0</td>\n",
       "      <td>157778.0</td>\n",
       "      <td>48151.00</td>\n",
       "      <td>42096.0</td>\n",
       "      <td>300380.0</td>\n",
       "      <td>342476.0</td>\n",
       "      <td>2020</td>\n",
       "      <td>NaN</td>\n",
       "      <td>San Diego</td>\n",
       "      <td>FT</td>\n",
       "      <td>Joseph</td>\n",
       "      <td>M</td>\n",
       "    </tr>\n",
       "    <tr>\n",
       "      <th>...</th>\n",
       "      <td>...</td>\n",
       "      <td>...</td>\n",
       "      <td>...</td>\n",
       "      <td>...</td>\n",
       "      <td>...</td>\n",
       "      <td>...</td>\n",
       "      <td>...</td>\n",
       "      <td>...</td>\n",
       "      <td>...</td>\n",
       "      <td>...</td>\n",
       "      <td>...</td>\n",
       "      <td>...</td>\n",
       "      <td>...</td>\n",
       "      <td>...</td>\n",
       "    </tr>\n",
       "    <tr>\n",
       "      <th>12600</th>\n",
       "      <td>Elena Xxxx</td>\n",
       "      <td>Asst Eng-Civil</td>\n",
       "      <td>0.0</td>\n",
       "      <td>2.0</td>\n",
       "      <td>0.00</td>\n",
       "      <td>0.0</td>\n",
       "      <td>2.0</td>\n",
       "      <td>2.0</td>\n",
       "      <td>2020</td>\n",
       "      <td>NaN</td>\n",
       "      <td>San Diego</td>\n",
       "      <td>PT</td>\n",
       "      <td>Elena</td>\n",
       "      <td>F</td>\n",
       "    </tr>\n",
       "    <tr>\n",
       "      <th>12601</th>\n",
       "      <td>Gary Xxxx</td>\n",
       "      <td>Police Officer</td>\n",
       "      <td>0.0</td>\n",
       "      <td>2.0</td>\n",
       "      <td>0.00</td>\n",
       "      <td>0.0</td>\n",
       "      <td>2.0</td>\n",
       "      <td>2.0</td>\n",
       "      <td>2020</td>\n",
       "      <td>NaN</td>\n",
       "      <td>San Diego</td>\n",
       "      <td>PT</td>\n",
       "      <td>Gary</td>\n",
       "      <td>M</td>\n",
       "    </tr>\n",
       "    <tr>\n",
       "      <th>12602</th>\n",
       "      <td>Sara Xxxx</td>\n",
       "      <td>Asst Planner</td>\n",
       "      <td>0.0</td>\n",
       "      <td>1.0</td>\n",
       "      <td>0.00</td>\n",
       "      <td>0.0</td>\n",
       "      <td>1.0</td>\n",
       "      <td>1.0</td>\n",
       "      <td>2020</td>\n",
       "      <td>NaN</td>\n",
       "      <td>San Diego</td>\n",
       "      <td>PT</td>\n",
       "      <td>Sara</td>\n",
       "      <td>F</td>\n",
       "    </tr>\n",
       "    <tr>\n",
       "      <th>12603</th>\n",
       "      <td>Kevin Xxxx</td>\n",
       "      <td>Project Ofcr 1</td>\n",
       "      <td>0.0</td>\n",
       "      <td>1.0</td>\n",
       "      <td>0.00</td>\n",
       "      <td>0.0</td>\n",
       "      <td>1.0</td>\n",
       "      <td>1.0</td>\n",
       "      <td>2020</td>\n",
       "      <td>NaN</td>\n",
       "      <td>San Diego</td>\n",
       "      <td>PT</td>\n",
       "      <td>Kevin</td>\n",
       "      <td>M</td>\n",
       "    </tr>\n",
       "    <tr>\n",
       "      <th>12604</th>\n",
       "      <td>Deedrick Xxxx</td>\n",
       "      <td>Utility Worker 2</td>\n",
       "      <td>0.0</td>\n",
       "      <td>0.0</td>\n",
       "      <td>1.00</td>\n",
       "      <td>0.0</td>\n",
       "      <td>1.0</td>\n",
       "      <td>1.0</td>\n",
       "      <td>2020</td>\n",
       "      <td>NaN</td>\n",
       "      <td>San Diego</td>\n",
       "      <td>PT</td>\n",
       "      <td>Deedrick</td>\n",
       "      <td>M</td>\n",
       "    </tr>\n",
       "  </tbody>\n",
       "</table>\n",
       "<p>12605 rows × 14 columns</p>\n",
       "</div>"
      ],
      "text/plain": [
       "       Employee Name                 Job Title  Base Pay  Overtime Pay  \\\n",
       "0       Michael Xxxx            Police Officer  117691.0      187290.0   \n",
       "1          Gary Xxxx            Police Officer  117691.0      160062.0   \n",
       "2          Eric Xxxx             Fire Engineer   35698.0      204462.0   \n",
       "3         Gregg Xxxx  Retirement Administrator  305000.0           0.0   \n",
       "4        Joseph Xxxx      Fire Battalion Chief   94451.0      157778.0   \n",
       "...              ...                       ...       ...           ...   \n",
       "12600     Elena Xxxx            Asst Eng-Civil       0.0           2.0   \n",
       "12601      Gary Xxxx            Police Officer       0.0           2.0   \n",
       "12602      Sara Xxxx              Asst Planner       0.0           1.0   \n",
       "12603     Kevin Xxxx            Project Ofcr 1       0.0           1.0   \n",
       "12604  Deedrick Xxxx          Utility Worker 2       0.0           0.0   \n",
       "\n",
       "      Other Pay  Benefits  Total Pay  Total Pay & Benefits  Year  Notes  \\\n",
       "0      13331.00   36380.0   318312.0              354692.0  2020    NaN   \n",
       "1      42946.00   31795.0   320699.0              352494.0  2020    NaN   \n",
       "2      69121.00   38362.0   309281.0              347643.0  2020    NaN   \n",
       "3      12814.00   24792.0   317814.0              342606.0  2020    NaN   \n",
       "4      48151.00   42096.0   300380.0              342476.0  2020    NaN   \n",
       "...         ...       ...        ...                   ...   ...    ...   \n",
       "12600      0.00       0.0        2.0                   2.0  2020    NaN   \n",
       "12601      0.00       0.0        2.0                   2.0  2020    NaN   \n",
       "12602      0.00       0.0        1.0                   1.0  2020    NaN   \n",
       "12603      0.00       0.0        1.0                   1.0  2020    NaN   \n",
       "12604      1.00       0.0        1.0                   1.0  2020    NaN   \n",
       "\n",
       "          Agency Status firstname gender  \n",
       "0      San Diego     FT   Michael      M  \n",
       "1      San Diego     FT      Gary      M  \n",
       "2      San Diego     PT      Eric      M  \n",
       "3      San Diego     FT     Gregg      M  \n",
       "4      San Diego     FT    Joseph      M  \n",
       "...          ...    ...       ...    ...  \n",
       "12600  San Diego     PT     Elena      F  \n",
       "12601  San Diego     PT      Gary      M  \n",
       "12602  San Diego     PT      Sara      F  \n",
       "12603  San Diego     PT     Kevin      M  \n",
       "12604  San Diego     PT  Deedrick      M  \n",
       "\n",
       "[12605 rows x 14 columns]"
      ]
     },
     "execution_count": 29,
     "metadata": {},
     "output_type": "execute_result"
    }
   ],
   "source": [
    "# Merge salaries and genders\n",
    "salaries_with_gender = salaries.merge(genders[['gender']], on='firstname', how='left')\n",
    "salaries_with_gender"
   ]
  },
  {
   "cell_type": "markdown",
   "id": "96a57185",
   "metadata": {
    "slideshow": {
     "slide_type": "slide"
    }
   },
   "source": [
    "### Predictions and Inference\n",
    "\n",
    "<center><img src=\"imgs/DSLC.png\" width=\"40%\"></center>"
   ]
  },
  {
   "cell_type": "markdown",
   "id": "cf521c7b",
   "metadata": {
    "slideshow": {
     "slide_type": "slide"
    }
   },
   "source": [
    "### Question: Does gender influence pay?\n",
    "\n",
    "This was our original question. Let's find out!"
   ]
  },
  {
   "cell_type": "code",
   "execution_count": 30,
   "id": "8cbfb3eb",
   "metadata": {},
   "outputs": [
    {
     "data": {
      "text/html": [
       "<div>\n",
       "<style scoped>\n",
       "    .dataframe tbody tr th:only-of-type {\n",
       "        vertical-align: middle;\n",
       "    }\n",
       "\n",
       "    .dataframe tbody tr th {\n",
       "        vertical-align: top;\n",
       "    }\n",
       "\n",
       "    .dataframe thead th {\n",
       "        text-align: right;\n",
       "    }\n",
       "</style>\n",
       "<table border=\"1\" class=\"dataframe\">\n",
       "  <thead>\n",
       "    <tr style=\"text-align: right;\">\n",
       "      <th></th>\n",
       "      <th>F</th>\n",
       "      <th>M</th>\n",
       "      <th>All</th>\n",
       "    </tr>\n",
       "  </thead>\n",
       "  <tbody>\n",
       "    <tr>\n",
       "      <th>count</th>\n",
       "      <td>4075.000000</td>\n",
       "      <td>8045.000000</td>\n",
       "      <td>12605.000000</td>\n",
       "    </tr>\n",
       "    <tr>\n",
       "      <th>mean</th>\n",
       "      <td>63865.752883</td>\n",
       "      <td>81286.584711</td>\n",
       "      <td>75181.321618</td>\n",
       "    </tr>\n",
       "    <tr>\n",
       "      <th>std</th>\n",
       "      <td>43497.853002</td>\n",
       "      <td>51568.847173</td>\n",
       "      <td>49634.174460</td>\n",
       "    </tr>\n",
       "    <tr>\n",
       "      <th>min</th>\n",
       "      <td>1.000000</td>\n",
       "      <td>0.000000</td>\n",
       "      <td>0.000000</td>\n",
       "    </tr>\n",
       "    <tr>\n",
       "      <th>25%</th>\n",
       "      <td>33084.000000</td>\n",
       "      <td>44897.000000</td>\n",
       "      <td>41177.000000</td>\n",
       "    </tr>\n",
       "    <tr>\n",
       "      <th>50%</th>\n",
       "      <td>59975.000000</td>\n",
       "      <td>77571.000000</td>\n",
       "      <td>71354.000000</td>\n",
       "    </tr>\n",
       "    <tr>\n",
       "      <th>75%</th>\n",
       "      <td>89854.000000</td>\n",
       "      <td>117340.000000</td>\n",
       "      <td>106903.000000</td>\n",
       "    </tr>\n",
       "    <tr>\n",
       "      <th>max</th>\n",
       "      <td>295904.000000</td>\n",
       "      <td>320699.000000</td>\n",
       "      <td>320699.000000</td>\n",
       "    </tr>\n",
       "  </tbody>\n",
       "</table>\n",
       "</div>"
      ],
      "text/plain": [
       "                   F              M            All\n",
       "count    4075.000000    8045.000000   12605.000000\n",
       "mean    63865.752883   81286.584711   75181.321618\n",
       "std     43497.853002   51568.847173   49634.174460\n",
       "min         1.000000       0.000000       0.000000\n",
       "25%     33084.000000   44897.000000   41177.000000\n",
       "50%     59975.000000   77571.000000   71354.000000\n",
       "75%     89854.000000  117340.000000  106903.000000\n",
       "max    295904.000000  320699.000000  320699.000000"
      ]
     },
     "execution_count": 30,
     "metadata": {},
     "output_type": "execute_result"
    }
   ],
   "source": [
    "pd.concat([\n",
    "    salaries_with_gender.groupby('gender')['Total Pay'].describe().T,\n",
    "    salaries_with_gender['Total Pay'].describe().rename('All')\n",
    "], axis=1)"
   ]
  },
  {
   "cell_type": "markdown",
   "id": "d7c83229",
   "metadata": {
    "slideshow": {
     "slide_type": "fragment"
    }
   },
   "source": [
    "- Unfortunately, there's a fairly large difference between the mean salaries of male employees and female employees.\n",
    "- A similar difference also exists for the median.\n",
    "- Can this difference be explained by random chance?"
   ]
  },
  {
   "cell_type": "markdown",
   "id": "c3ee9be4",
   "metadata": {
    "slideshow": {
     "slide_type": "slide"
    }
   },
   "source": [
    "### A hypothesis test"
   ]
  },
  {
   "cell_type": "markdown",
   "id": "2bf93c07",
   "metadata": {},
   "source": [
    "- **Null Hypothesis:** Gender is independent of salary, and any observed differences are due to random chance.\n",
    "- **Alternate Hypothesis:** Gender is not independent of salary. Female employees earn less than male employees."
   ]
  },
  {
   "cell_type": "code",
   "execution_count": 31,
   "id": "971ba107",
   "metadata": {
    "slideshow": {
     "slide_type": "fragment"
    }
   },
   "outputs": [
    {
     "data": {
      "text/plain": [
       "4075"
      ]
     },
     "execution_count": 31,
     "metadata": {},
     "output_type": "execute_result"
    }
   ],
   "source": [
    "n_female = np.count_nonzero(salaries_with_gender['gender'] == 'F')\n",
    "n_female"
   ]
  },
  {
   "cell_type": "markdown",
   "id": "ca492014",
   "metadata": {
    "slideshow": {
     "slide_type": "fragment"
    }
   },
   "source": [
    "**Strategy:** \n",
    "- Randomly select 4075 employees from `salaries_with_gender` and compute their median salary.\n",
    "- Repeat this many times.\n",
    "- See where the observed median salary of female employees lies in this empirical distribution."
   ]
  },
  {
   "cell_type": "markdown",
   "id": "badb0bb4",
   "metadata": {
    "slideshow": {
     "slide_type": "slide"
    }
   },
   "source": [
    "### Running the hypothesis test"
   ]
  },
  {
   "cell_type": "code",
   "execution_count": 32,
   "id": "702ad546",
   "metadata": {
    "scrolled": false
   },
   "outputs": [
    {
     "data": {
      "text/plain": [
       "array([71492., 71743., 71624., 71575., 71528., 70820., 70128., 70317.,\n",
       "       72203., 70575.])"
      ]
     },
     "execution_count": 32,
     "metadata": {},
     "output_type": "execute_result"
    }
   ],
   "source": [
    "# Observed statistic\n",
    "female_median = salaries_with_gender.loc[salaries_with_gender['gender'] == 'F']['Total Pay'].median()\n",
    "\n",
    "# Simulate 1000 samples of size n_female from the population\n",
    "medians = np.array([])\n",
    "for _ in np.arange(1000):\n",
    "    median = salaries_with_gender.sample(n_female)['Total Pay'].median()\n",
    "    medians = np.append(medians, median)\n",
    "\n",
    "medians[:10]"
   ]
  },
  {
   "cell_type": "code",
   "execution_count": 33,
   "id": "5c1fb2cb",
   "metadata": {},
   "outputs": [
    {
     "data": {
      "image/png": "[encoded data removed]",
      "text/plain": [
       "<Figure size 432x288 with 1 Axes>"
      ]
     },
     "metadata": {
      "needs_background": "light"
     },
     "output_type": "display_data"
    }
   ],
   "source": [
    "title='Median salary of randomly chosen groups from population'\n",
    "pd.Series(medians).plot(kind='hist', density=True, ec='w', title=title);\n",
    "plt.axvline(x=female_median, color='red')\n",
    "plt.legend(['Observed Median Salary of Female Employees', 'Median Salaries of Random Groups']);"
   ]
  },
  {
   "cell_type": "markdown",
   "id": "8de8de05",
   "metadata": {
    "slideshow": {
     "slide_type": "fragment"
    }
   },
   "source": [
    "- Our hypothesis test has a p-value of 0, so we reject the null.\n",
    "    - Under the assumption that gender is independent of salary, the chance of seeing a median salary this low is essentially 0."
   ]
  },
  {
   "cell_type": "markdown",
   "id": "4170226a",
   "metadata": {
    "slideshow": {
     "slide_type": "slide"
    }
   },
   "source": [
    "## Next time, in DSC 80...\n",
    "\n",
    "...a deeper dive into *pandas*."
   ]
  }
 ],
 "metadata": {
  "celltoolbar": "Slideshow",
  "kernelspec": {
   "display_name": "Python 3 (ipykernel)",
   "language": "python",
   "name": "python3"
  },
  "language_info": {
   "codemirror_mode": {
    "name": "ipython",
    "version": 3
   },
   "file_extension": ".py",
   "mimetype": "text/x-python",
   "name": "python",
   "nbconvert_exporter": "python",
   "pygments_lexer": "ipython3",
   "version": "3.9.6"
  },
  "rise": {
   "transition": "none"
  }
 },
 "nbformat": 4,
 "nbformat_minor": 5
}
