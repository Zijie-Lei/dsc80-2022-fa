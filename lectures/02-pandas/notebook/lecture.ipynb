{
 "cells": [
  {
   "cell_type": "code",
   "execution_count": null,
   "id": "8d0c094b",
   "metadata": {},
   "outputs": [],
   "source": [
    "import pandas as pd\n",
    "import numpy as np\n",
    "\n",
    "import matplotlib.pyplot as plt\n",
    "plt.rcParams['figure.figsize'] = (10, 5)\n"
   ]
  },
  {
   "cell_type": "markdown",
   "id": "ce9e66d9",
   "metadata": {},
   "source": [
    "# Lecture 02 - Pandas 🐼\n",
    "\n",
    "## DSC 80, Fall 2022"
   ]
  },
  {
   "cell_type": "markdown",
   "id": "6ae2dd05",
   "metadata": {
    "slideshow": {
     "slide_type": "slide"
    }
   },
   "source": [
    "## Today, in DSC 80...\n",
    "\n",
    "- Remembering basic 🐼 usage\n",
    "- How 🐼 works\n",
    "- Writing efficient 🐼 code\n",
    "- Some useful 🐼 methods to know"
   ]
  },
  {
   "cell_type": "markdown",
   "id": "6b40592b",
   "metadata": {
    "slideshow": {
     "slide_type": "slide"
    }
   },
   "source": [
    "## Announcements 📣\n",
    "\n",
    "- "
   ]
  },
  {
   "cell_type": "code",
   "execution_count": 41,
   "id": "090f2ed6",
   "metadata": {
    "slideshow": {
     "slide_type": "skip"
    }
   },
   "outputs": [],
   "source": [
    "# load some data\n",
    "\n",
    "import util\n",
    "names_path = util.safe_download('https://www.ssa.gov/oact/babynames/names.zip')\n",
    "\n",
    "import pathlib\n",
    "\n",
    "dfs = []\n",
    "for path in pathlib.Path('data/names/').glob('*.txt'):\n",
    "    year = int(str(path)[14:18])\n",
    "    if year >= 1964:\n",
    "        df = pd.read_csv(path, names=['firstname', 'gender', 'count']).assign(year=year)\n",
    "        dfs.append(df)\n",
    "        \n",
    "names = pd.concat(dfs)"
   ]
  },
  {
   "cell_type": "markdown",
   "id": "018d58fd",
   "metadata": {
    "slideshow": {
     "slide_type": "slide"
    }
   },
   "source": [
    "## Introduction to `pandas` 🐼"
   ]
  },
  {
   "cell_type": "markdown",
   "id": "420e9507",
   "metadata": {
    "slideshow": {
     "slide_type": "slide"
    }
   },
   "source": [
    "<center><img src='imgs/babypanda.jpg' width=400></center>"
   ]
  },
  {
   "cell_type": "markdown",
   "id": "8412e023",
   "metadata": {
    "slideshow": {
     "slide_type": "slide"
    }
   },
   "source": [
    "<center><img src='imgs/angrypanda.jpg' width=600></center>"
   ]
  },
  {
   "cell_type": "markdown",
   "id": "a7137020",
   "metadata": {
    "slideshow": {
     "slide_type": "slide"
    }
   },
   "source": [
    "### `pandas`\n",
    "\n",
    "<center><img src='imgs/pandas.png' width=200></center>\n",
    "\n",
    "- `pandas` is **the** Python library for tabular data manipulation.\n",
    "- Before `pandas` was developed, the standard data science workflow involved using multiple languages (Python, R, Java) in a single project.\n",
    "- Wes McKinney, the original developer of `pandas`, wanted a library which would allow everything to be done in Python.\n",
    "    - Python is faster to develop in than Java, and is more general-purpose than R."
   ]
  },
  {
   "cell_type": "markdown",
   "id": "d7a959a3",
   "metadata": {
    "slideshow": {
     "slide_type": "slide"
    }
   },
   "source": [
    "### `pandas` data structures\n",
    "\n",
    "There are three key data structures at the core of `pandas`:\n",
    "- DataFrame: 2 dimensional tables.\n",
    "- Series: 1 dimensional (columnar) array.\n",
    "- Index: immutable sequence of column/row labels.\n",
    "\n",
    "<center><img src='imgs/example-df.png' width=600></center>"
   ]
  },
  {
   "cell_type": "markdown",
   "id": "1129f156",
   "metadata": {
    "slideshow": {
     "slide_type": "slide"
    }
   },
   "source": [
    "### Importing `pandas` and related libraries\n",
    "\n",
    "We've already run this at the top of the notebook, so we won't repeat it here. But `pandas` is almost always imported in conjunction with `numpy`:\n",
    "\n",
    "```py\n",
    "import pandas as pd\n",
    "import numpy as np\n",
    "```"
   ]
  },
  {
   "cell_type": "markdown",
   "id": "b20bbfb0",
   "metadata": {
    "slideshow": {
     "slide_type": "slide"
    }
   },
   "source": [
    "### Series represent columns / rows\n",
    "* Rows and columns of DataFrame are stored as `pd.Series`.\n",
    "* A `pd.Series` object is a one-dimensional sequence with labels (index)."
   ]
  },
  {
   "cell_type": "code",
   "execution_count": null,
   "id": "abede254",
   "metadata": {},
   "outputs": [],
   "source": [
    "names"
   ]
  },
  {
   "cell_type": "code",
   "execution_count": null,
   "id": "73cd03dc",
   "metadata": {},
   "outputs": [],
   "source": [
    "names['firstname']"
   ]
  },
  {
   "cell_type": "code",
   "execution_count": null,
   "id": "73afd911",
   "metadata": {},
   "outputs": [],
   "source": [
    "names.iloc[3]"
   ]
  },
  {
   "cell_type": "markdown",
   "id": "da2c9f40",
   "metadata": {
    "slideshow": {
     "slide_type": "slide"
    }
   },
   "source": [
    "### Initializing a Series\n",
    "\n",
    "- The function `pd.Series` can create a new Series, given either an existing sequence or dictionary.\n",
    "- By default, the index will be set to 0, 1, 2, 3,... and the Series will have no \"name\".\n",
    "    - You can use optional `index` and `name` arguments to change this behavior."
   ]
  },
  {
   "cell_type": "code",
   "execution_count": null,
   "id": "9d3ad409",
   "metadata": {},
   "outputs": [],
   "source": [
    "pd.Series([10, 23, 45, 53, 87])"
   ]
  },
  {
   "cell_type": "code",
   "execution_count": null,
   "id": "bcba687a",
   "metadata": {},
   "outputs": [],
   "source": [
    "pd.Series({'a': 10, 'b': 23, 'c': 45, 'd': 53, 'e': 87}, name='people')"
   ]
  },
  {
   "cell_type": "markdown",
   "id": "8ccc93c1",
   "metadata": {
    "slideshow": {
     "slide_type": "slide"
    }
   },
   "source": [
    "### Initializing a DataFrame\n",
    "\n",
    "* `pd.DataFrame` initializes a DataFrame using either: \n",
    "    - a list of rows, or\n",
    "    - a dictionary of columns.\n",
    "* There are various optional arguments: `index`, `columns`, `dtype`, etc.\n",
    "    - To see the signature of a function `f`, run `f?` in a cell (e.g. `pd.DataFrame?`)."
   ]
  },
  {
   "cell_type": "code",
   "execution_count": null,
   "id": "4d5ada48",
   "metadata": {},
   "outputs": [],
   "source": [
    "pd.DataFrame?"
   ]
  },
  {
   "cell_type": "markdown",
   "id": "39af1580",
   "metadata": {
    "slideshow": {
     "slide_type": "slide"
    }
   },
   "source": [
    "### Method 1: Using a list of rows"
   ]
  },
  {
   "cell_type": "code",
   "execution_count": null,
   "id": "829ca325",
   "metadata": {},
   "outputs": [],
   "source": [
    "row_data = [\n",
    "    ['Granger, Hermione', 'A13245986', 1],\n",
    "    ['Potter, Harry', 'A17645384', 1],\n",
    "    ['Weasley, Ron', 'A32438694', 1],\n",
    "    ['Longbottom, Neville', 'A52342436', 1]\n",
    "]\n",
    "\n",
    "row_data"
   ]
  },
  {
   "cell_type": "markdown",
   "id": "9accebc1",
   "metadata": {},
   "source": [
    "By default, the column names are set to 0, 1, 2, ..."
   ]
  },
  {
   "cell_type": "code",
   "execution_count": null,
   "id": "2b9786df",
   "metadata": {},
   "outputs": [],
   "source": [
    "pd.DataFrame(row_data)"
   ]
  },
  {
   "cell_type": "markdown",
   "id": "63385f04",
   "metadata": {},
   "source": [
    "You can change that using the `columns` argument."
   ]
  },
  {
   "cell_type": "code",
   "execution_count": null,
   "id": "b68454cf",
   "metadata": {},
   "outputs": [],
   "source": [
    "pd.DataFrame(row_data, columns=['Name', 'PID', 'LVL'])"
   ]
  },
  {
   "cell_type": "markdown",
   "id": "11503163",
   "metadata": {
    "slideshow": {
     "slide_type": "slide"
    }
   },
   "source": [
    "### Method 2: Using a dictionary of columns"
   ]
  },
  {
   "cell_type": "code",
   "execution_count": null,
   "id": "86889d91",
   "metadata": {},
   "outputs": [],
   "source": [
    "column_dict = {\n",
    "    'Name': ['Granger, Hermione', 'Potter, Harry', 'Weasley, Ron', 'Longbottom, Neville'],\n",
    "    'PID': ['A13245986', 'A17645384', 'A32438694', 'A52342436'],\n",
    "    'LVL': [1, 1, 1, 1]\n",
    "}\n",
    "column_dict"
   ]
  },
  {
   "cell_type": "code",
   "execution_count": null,
   "id": "da92d152",
   "metadata": {},
   "outputs": [],
   "source": [
    "enrollments = pd.DataFrame(column_dict)\n",
    "enrollments"
   ]
  },
  {
   "cell_type": "markdown",
   "id": "3d15dfdc",
   "metadata": {
    "slideshow": {
     "slide_type": "slide"
    }
   },
   "source": [
    "### DataFrame index and column labels\n",
    "\n",
    "- Access column labels with the `columns` attribute.\n",
    "- Access index labels with the `index` attribute.\n",
    "- The default for both is 0-indexed position (0, 1, 2, ...)."
   ]
  },
  {
   "cell_type": "code",
   "execution_count": null,
   "id": "c42eba1b",
   "metadata": {},
   "outputs": [],
   "source": [
    "enrollments.columns"
   ]
  },
  {
   "cell_type": "code",
   "execution_count": null,
   "id": "bcdc70de",
   "metadata": {},
   "outputs": [],
   "source": [
    "enrollments.index"
   ]
  },
  {
   "cell_type": "markdown",
   "id": "fffa5177",
   "metadata": {
    "slideshow": {
     "slide_type": "slide"
    }
   },
   "source": [
    "### Axis\n",
    "\n",
    "- The rows and columns of a DataFrame are both stored as Series.\n",
    "- The **axis** specifies the direction of a slice of a DataFrame.\n",
    "\n",
    "<center><img src='imgs/axis.png' width=300></center>\n",
    "\n",
    "- Axis 0 refers to the index.\n",
    "- Axis 1 refers to the columns."
   ]
  },
  {
   "cell_type": "markdown",
   "id": "608d22e8",
   "metadata": {
    "slideshow": {
     "slide_type": "slide"
    }
   },
   "source": [
    "### DataFrame methods with `axis`"
   ]
  },
  {
   "cell_type": "code",
   "execution_count": null,
   "id": "35a4f3eb",
   "metadata": {},
   "outputs": [],
   "source": [
    "A = pd.DataFrame([[1, 2, 3], [4, 5, 6]], columns=['A', 'B', 'C'])\n",
    "A"
   ]
  },
  {
   "cell_type": "markdown",
   "id": "83c0183f",
   "metadata": {},
   "source": [
    "If we specify `axis=0`, `A.sum` will \"compress\" along axis 0, and keep the column labels intact."
   ]
  },
  {
   "cell_type": "code",
   "execution_count": null,
   "id": "7245b1b8",
   "metadata": {},
   "outputs": [],
   "source": [
    "A.sum(axis=0)"
   ]
  },
  {
   "cell_type": "markdown",
   "id": "e4bb82bc",
   "metadata": {},
   "source": [
    "If we specify `axis=1`, `A.sum` will \"compress\" along axis 1, and keep the row labels (index) intact."
   ]
  },
  {
   "cell_type": "code",
   "execution_count": null,
   "id": "aecaac0f",
   "metadata": {},
   "outputs": [],
   "source": [
    "A.sum(axis=1)"
   ]
  },
  {
   "cell_type": "markdown",
   "id": "8d54b1bb",
   "metadata": {
    "slideshow": {
     "slide_type": "slide"
    }
   },
   "source": [
    "<center><img src='imgs/axis-sum.png' width=600></center>"
   ]
  },
  {
   "cell_type": "markdown",
   "id": "25872988",
   "metadata": {
    "slideshow": {
     "slide_type": "slide"
    }
   },
   "source": [
    "## Selecting columns using `[]`"
   ]
  },
  {
   "cell_type": "markdown",
   "id": "7cf76018",
   "metadata": {
    "slideshow": {
     "slide_type": "slide"
    }
   },
   "source": [
    "### Throwback to `babypandas` 👶🐼\n",
    "\n",
    "- In `babypandas`, you accessed columns using the `.get` method.\n",
    "- `.get` also works in `pandas`, but it is not **idiomatic** – people don't usually use it."
   ]
  },
  {
   "cell_type": "code",
   "execution_count": null,
   "id": "30c3e2e8",
   "metadata": {},
   "outputs": [],
   "source": [
    "enrollments"
   ]
  },
  {
   "cell_type": "code",
   "execution_count": null,
   "id": "511edc00",
   "metadata": {},
   "outputs": [],
   "source": [
    "enrollments.get('Name')"
   ]
  },
  {
   "cell_type": "code",
   "execution_count": null,
   "id": "7bd59ea6",
   "metadata": {},
   "outputs": [],
   "source": [
    "# Doesn't error\n",
    "enrollments.get('billy')"
   ]
  },
  {
   "cell_type": "markdown",
   "id": "06612244",
   "metadata": {
    "slideshow": {
     "slide_type": "slide"
    }
   },
   "source": [
    "### Selecting columns with `[]`\n",
    "\n",
    "- The standard way to access a column in `pandas` is by using the `[]` operator.\n",
    "    - Think of a DataFrame as a dictionary of arrays!\n",
    "* Specifying a column name returns the column as a Series.\n",
    "* Specifying a list of column names returns a DataFrame."
   ]
  },
  {
   "cell_type": "code",
   "execution_count": null,
   "id": "f90f8419",
   "metadata": {},
   "outputs": [],
   "source": [
    "enrollments"
   ]
  },
  {
   "cell_type": "code",
   "execution_count": null,
   "id": "91047a9d",
   "metadata": {},
   "outputs": [],
   "source": [
    "# Returns a Series\n",
    "enrollments['Name']"
   ]
  },
  {
   "cell_type": "code",
   "execution_count": null,
   "id": "150a0dd4",
   "metadata": {},
   "outputs": [],
   "source": [
    "# Returns a DataFrame\n",
    "enrollments[['Name', 'PID']]"
   ]
  },
  {
   "cell_type": "code",
   "execution_count": null,
   "id": "d328d814",
   "metadata": {},
   "outputs": [],
   "source": [
    "# 🤔\n",
    "enrollments[['Name']]"
   ]
  },
  {
   "cell_type": "code",
   "execution_count": null,
   "id": "0b032fcb",
   "metadata": {},
   "outputs": [],
   "source": [
    "# KeyError\n",
    "enrollments['billy']"
   ]
  },
  {
   "cell_type": "markdown",
   "id": "9f765271",
   "metadata": {
    "slideshow": {
     "slide_type": "slide"
    }
   },
   "source": [
    "### Selecting columns with attribute notation\n",
    "\n",
    "- It is also possible to access columns using attribute notation, i.e. `.<column name>`.\n",
    "- **Don't do this.**\n",
    "    - What if the column name clashes with a DataFrame method, like `.mean`?\n",
    "    - What if the column name contains spaces or special characters?"
   ]
  },
  {
   "cell_type": "code",
   "execution_count": null,
   "id": "57d962e7",
   "metadata": {},
   "outputs": [],
   "source": [
    "enrollments.LVL"
   ]
  },
  {
   "cell_type": "code",
   "execution_count": null,
   "id": "600128d5",
   "metadata": {},
   "outputs": [],
   "source": [
    "enrollments.mean"
   ]
  },
  {
   "cell_type": "markdown",
   "id": "567e671a",
   "metadata": {
    "slideshow": {
     "slide_type": "slide"
    }
   },
   "source": [
    "## Selecting rows with `.loc` and `.iloc`"
   ]
  },
  {
   "cell_type": "markdown",
   "id": "70f80a67",
   "metadata": {
    "slideshow": {
     "slide_type": "slide"
    }
   },
   "source": [
    "### Selecting rows with `loc`\n",
    "\n",
    "If `df` is a DataFrame, then:\n",
    "* `df.loc[idx]` returns the Series whose index is `idx`.\n",
    "* `df.loc[idx_list]` returns a DataFrame containing the rows whose indexes are in `idx_list`."
   ]
  },
  {
   "cell_type": "code",
   "execution_count": null,
   "id": "da5c8208",
   "metadata": {},
   "outputs": [],
   "source": [
    "enrollments"
   ]
  },
  {
   "cell_type": "code",
   "execution_count": null,
   "id": "554b4190",
   "metadata": {},
   "outputs": [],
   "source": [
    "enrollments.loc[3]"
   ]
  },
  {
   "cell_type": "code",
   "execution_count": null,
   "id": "64732804",
   "metadata": {},
   "outputs": [],
   "source": [
    "enrollments.loc[[1, 3]]"
   ]
  },
  {
   "cell_type": "code",
   "execution_count": null,
   "id": "9543a361",
   "metadata": {},
   "outputs": [],
   "source": [
    "enrollments.loc[[3]]"
   ]
  },
  {
   "cell_type": "markdown",
   "id": "7dd8ebdb",
   "metadata": {
    "slideshow": {
     "slide_type": "slide"
    }
   },
   "source": [
    "### Boolean sequence selection\n",
    "\n",
    "* The `loc` operator also supports Boolean sequences (lists, arrays, Series) as input. \n",
    "* The length of the sequence must be the same as the number of rows in the DataFrame. \n",
    "* The result is a filtered DataFrame, containing only the rows in which the sequence contained `True`."
   ]
  },
  {
   "cell_type": "code",
   "execution_count": null,
   "id": "574a08d5",
   "metadata": {},
   "outputs": [],
   "source": [
    "enrollments"
   ]
  },
  {
   "cell_type": "code",
   "execution_count": null,
   "id": "053a49a5",
   "metadata": {},
   "outputs": [],
   "source": [
    "bool_arr = [\n",
    "    False,  # Hermione\n",
    "    True,   # Harry\n",
    "    False,  # Ron\n",
    "    True    # Neville\n",
    "]\n",
    "\n",
    "enrollments.loc[bool_arr]"
   ]
  },
  {
   "cell_type": "markdown",
   "id": "2149086b",
   "metadata": {
    "slideshow": {
     "slide_type": "slide"
    }
   },
   "source": [
    "### Querying\n",
    "\n",
    "- Comparisons with arrays (Series) result in Boolean arrays (Series).\n",
    "- We can use comparisons along with the `loc` operator to **query** a DataFrame.\n",
    "- Querying is the act of selecting rows in a DataFrame that satisfy certain condition(s)."
   ]
  },
  {
   "cell_type": "code",
   "execution_count": null,
   "id": "2ac22726",
   "metadata": {},
   "outputs": [],
   "source": [
    "enrollments"
   ]
  },
  {
   "cell_type": "code",
   "execution_count": null,
   "id": "f8746b94",
   "metadata": {},
   "outputs": [],
   "source": [
    "enrollments['Name'].str.contains('on')"
   ]
  },
  {
   "cell_type": "code",
   "execution_count": null,
   "id": "d198a9a6",
   "metadata": {},
   "outputs": [],
   "source": [
    "# Rows where Name includes 'on'\n",
    "enrollments.loc[enrollments['Name'].str.contains('on')]"
   ]
  },
  {
   "cell_type": "code",
   "execution_count": null,
   "id": "4456f619",
   "metadata": {},
   "outputs": [],
   "source": [
    "# Rows where the first letter of Name is between A and L\n",
    "enrollments.loc[enrollments['Name'] < 'M']"
   ]
  },
  {
   "cell_type": "markdown",
   "id": "ebd28970",
   "metadata": {},
   "source": [
    "When using a Boolean sequence, e.g. `enrollments['Name'] < 'M'`, `loc` is not strictly necessary:"
   ]
  },
  {
   "cell_type": "code",
   "execution_count": null,
   "id": "6eca190b",
   "metadata": {},
   "outputs": [],
   "source": [
    "enrollments[enrollments['Name'] < 'M']"
   ]
  },
  {
   "cell_type": "markdown",
   "id": "d04684d2",
   "metadata": {
    "slideshow": {
     "slide_type": "slide"
    }
   },
   "source": [
    "### Selecting columns and rows simultaneously\n",
    "\n",
    "So far, we used `[]` to select columns and `loc` to select rows."
   ]
  },
  {
   "cell_type": "code",
   "execution_count": null,
   "id": "b459e821",
   "metadata": {},
   "outputs": [],
   "source": [
    "enrollments.loc[enrollments['Name'] < 'M']['PID']"
   ]
  },
  {
   "cell_type": "markdown",
   "id": "16cd25ee",
   "metadata": {
    "slideshow": {
     "slide_type": "slide"
    }
   },
   "source": [
    "### Selecting columns and rows simultaneously\n",
    "\n",
    "`loc` can also be used to select both rows and columns. The general pattern is:\n",
    "\n",
    "```\n",
    "df.loc[<row selector>, <column selector>]\n",
    "```\n",
    "\n",
    "Examples:\n",
    "- `df.loc[idx_list, col_list]` returns a DataFrame containing the rows in `idx_list` and columns in `col_list`.\n",
    "- `df.loc[bool_arr, col_list]` returns a DataFrame contaning the rows for which `bool_arr` is `True` and columns in `col_list`.\n",
    "- If `:` is used as the first input, all rows are kept. If `:` is used as the second input, all columns are kept."
   ]
  },
  {
   "cell_type": "code",
   "execution_count": null,
   "id": "ce45fbac",
   "metadata": {},
   "outputs": [],
   "source": [
    "enrollments"
   ]
  },
  {
   "cell_type": "code",
   "execution_count": null,
   "id": "f54f009e",
   "metadata": {},
   "outputs": [],
   "source": [
    "enrollments.loc[enrollments['Name'] < 'M', 'PID']"
   ]
  },
  {
   "cell_type": "code",
   "execution_count": null,
   "id": "3e99c8f4",
   "metadata": {},
   "outputs": [],
   "source": [
    "enrollments.loc[enrollments['Name'] < 'M', ['PID']]"
   ]
  },
  {
   "cell_type": "markdown",
   "id": "adef064d",
   "metadata": {
    "slideshow": {
     "slide_type": "slide"
    }
   },
   "source": [
    "### Even more ways of selecting rows and columns\n",
    "\n",
    "In `df.loc[<row selection>, <column selection>]`:\n",
    "\n",
    "- Both the first and second inputs can be Boolean sequences.\n",
    "- Both the first and second inputs can be **slices**, which use `:` syntax (e.g. `0:2`, `'Name': 'PID'`).\n",
    "- If both the first and second inputs are primitives (strings or numbers), the result is a single value, not a DataFrame or Series.\n",
    "- The first input can be a **function** that takes a row as input and returns a Boolean.\n",
    "\n",
    "There are many, many more – see the [`pandas` documentation](https://pandas.pydata.org/docs/user_guide/index.html#user-guide) for more."
   ]
  },
  {
   "cell_type": "code",
   "execution_count": null,
   "id": "46698ffd",
   "metadata": {},
   "outputs": [],
   "source": [
    "enrollments"
   ]
  },
  {
   "cell_type": "code",
   "execution_count": null,
   "id": "9591023b",
   "metadata": {},
   "outputs": [],
   "source": [
    "enrollments.loc[2, 'LVL']"
   ]
  },
  {
   "cell_type": "code",
   "execution_count": null,
   "id": "98e7ed41",
   "metadata": {},
   "outputs": [],
   "source": [
    "enrollments.loc[0:2, 'Name': 'PID']"
   ]
  },
  {
   "cell_type": "markdown",
   "id": "44062920",
   "metadata": {
    "slideshow": {
     "slide_type": "slide"
    }
   },
   "source": [
    "### Don't forget `iloc`!\n",
    "\n",
    "- `iloc` stands for \"integer location\".\n",
    "- `iloc` is like `loc`, but it selects rows and columns based off of integer positions only."
   ]
  },
  {
   "cell_type": "code",
   "execution_count": null,
   "id": "840b4d5b",
   "metadata": {},
   "outputs": [],
   "source": [
    "enrollments"
   ]
  },
  {
   "cell_type": "code",
   "execution_count": null,
   "id": "4c5a82dd",
   "metadata": {},
   "outputs": [],
   "source": [
    "enrollments.iloc[2:4, 0:2]"
   ]
  },
  {
   "cell_type": "code",
   "execution_count": null,
   "id": "078de636",
   "metadata": {},
   "outputs": [],
   "source": [
    "other = enrollments.set_index('Name')\n",
    "other"
   ]
  },
  {
   "cell_type": "code",
   "execution_count": null,
   "id": "16263dcf",
   "metadata": {},
   "outputs": [],
   "source": [
    "other.iloc[2]"
   ]
  },
  {
   "cell_type": "code",
   "execution_count": null,
   "id": "4d1543d1",
   "metadata": {},
   "outputs": [],
   "source": [
    "other.loc[2]"
   ]
  },
  {
   "cell_type": "markdown",
   "id": "087d8d38",
   "metadata": {
    "slideshow": {
     "slide_type": "slide"
    }
   },
   "source": [
    "### Discussion Question\n",
    "\n",
    "Let's return to the `names` DataFrame."
   ]
  },
  {
   "cell_type": "code",
   "execution_count": null,
   "id": "e88963c5",
   "metadata": {},
   "outputs": [],
   "source": [
    "names"
   ]
  },
  {
   "cell_type": "markdown",
   "id": "28d18012",
   "metadata": {},
   "source": [
    "**Question:** How many babies were born with the name `'Billy'` and gender `'M'`?"
   ]
  },
  {
   "cell_type": "code",
   "execution_count": null,
   "id": "8acc7c37",
   "metadata": {},
   "outputs": [],
   "source": [
    "..."
   ]
  },
  {
   "cell_type": "markdown",
   "id": "0e0f6afd",
   "metadata": {
    "slideshow": {
     "slide_type": "slide"
    }
   },
   "source": [
    "### More Practice\n",
    "\n",
    "Consider the DataFrame below."
   ]
  },
  {
   "cell_type": "code",
   "execution_count": null,
   "id": "84d1dd06",
   "metadata": {},
   "outputs": [],
   "source": [
    "jack = pd.DataFrame({1: ['fee', 'fi'], '1': ['fo', 'fum']})\n",
    "jack"
   ]
  },
  {
   "cell_type": "markdown",
   "id": "420f47d8",
   "metadata": {},
   "source": [
    "For each of the following pieces of code, predict what the output will be. Then, uncomment the line of code and see for yourself."
   ]
  },
  {
   "cell_type": "code",
   "execution_count": null,
   "id": "660fa42d",
   "metadata": {},
   "outputs": [],
   "source": [
    "# jack[1]"
   ]
  },
  {
   "cell_type": "code",
   "execution_count": null,
   "id": "ac5ad541",
   "metadata": {},
   "outputs": [],
   "source": [
    "# jack[[1]]"
   ]
  },
  {
   "cell_type": "code",
   "execution_count": null,
   "id": "0c1f7c00",
   "metadata": {},
   "outputs": [],
   "source": [
    "# jack['1']"
   ]
  },
  {
   "cell_type": "code",
   "execution_count": null,
   "id": "24a90b6b",
   "metadata": {},
   "outputs": [],
   "source": [
    "# jack[[1,1]]"
   ]
  },
  {
   "cell_type": "code",
   "execution_count": null,
   "id": "bda6e0f9",
   "metadata": {},
   "outputs": [],
   "source": [
    "# jack.loc[1]"
   ]
  },
  {
   "cell_type": "code",
   "execution_count": null,
   "id": "bb96863b",
   "metadata": {},
   "outputs": [],
   "source": [
    "# jack.loc[jack[1] == 'fo']"
   ]
  },
  {
   "cell_type": "code",
   "execution_count": null,
   "id": "b83cc118",
   "metadata": {},
   "outputs": [],
   "source": [
    "# jack[1, ['1', 1]]"
   ]
  },
  {
   "cell_type": "code",
   "execution_count": null,
   "id": "4a157e2f",
   "metadata": {},
   "outputs": [],
   "source": [
    "# jack.loc[1,1]"
   ]
  },
  {
   "cell_type": "markdown",
   "id": "099f532e",
   "metadata": {
    "slideshow": {
     "slide_type": "slide"
    }
   },
   "source": [
    "## How Pandas Works\n",
    "\n",
    "### Pandas and NumPy\n",
    "\n",
    "<center><img src='imgs/python-stack.png' width=800></center>"
   ]
  },
  {
   "cell_type": "markdown",
   "id": "06331b20",
   "metadata": {
    "slideshow": {
     "slide_type": "slide"
    }
   },
   "source": [
    "### NumPy\n",
    "\n",
    "- NumPy stands for \"numerical Python\". It is a commonly-used Python module that enables **fast** computation involving arrays and matrices.\n",
    "- `numpy`'s main object is the **array**. In `numpy`, arrays are:\n",
    "    - homogenous (all values are of the same type), and\n",
    "    - (potentially) multi-dimensional.\n",
    "- Computation in `numpy` is fast because\n",
    "    - Much of it is implemented in C.\n",
    "    - `numpy` arrays are stored more efficiently in memory than, say, Python lists. \n",
    "- [This site](https://cloudxlab.com/blog/numpy-pandas-introduction/) provides a good overview of `numpy` arrays."
   ]
  },
  {
   "cell_type": "markdown",
   "id": "4d5900bf",
   "metadata": {
    "slideshow": {
     "slide_type": "slide"
    }
   },
   "source": [
    "### `pandas` is built upon `numpy`\n",
    "\n",
    "- A Series in `pandas` is a `numpy` array with an index.\n",
    "- A DataFrame is like a dictionary of columns, each of which is a `numpy` array.\n",
    "- Many operations in `pandas` are fast because they use `numpy`'s implementations.\n",
    "- To access the array underlying a DataFrame or Series, use the `to_numpy` method.\n",
    "    - ⚠️ Warning: `to_numpy` returns a view of the original object, not a copy! Read more in the [course notes](https://notes.dsc80.com/content/02/data-types.html#copies-and-views-in-pandas).\n",
    "    - `.values` is a soon-to-be-deprecated version of `.to_numpy()`."
   ]
  },
  {
   "cell_type": "code",
   "execution_count": 4,
   "id": "2c7396cf",
   "metadata": {},
   "outputs": [
    {
     "data": {
      "text/plain": [
       "array([ 4,  2,  9, 15, -1])"
      ]
     },
     "execution_count": 4,
     "metadata": {},
     "output_type": "execute_result"
    }
   ],
   "source": [
    "arr = np.array([4, 2, 9, 15, -1])\n",
    "arr"
   ]
  },
  {
   "cell_type": "code",
   "execution_count": 5,
   "id": "4b639c34",
   "metadata": {},
   "outputs": [
    {
     "data": {
      "text/plain": [
       "a     4\n",
       "b     2\n",
       "c     9\n",
       "d    15\n",
       "e    -1\n",
       "dtype: int64"
      ]
     },
     "execution_count": 5,
     "metadata": {},
     "output_type": "execute_result"
    }
   ],
   "source": [
    "ser = pd.Series(arr, index='a b c d e'.split(' '))\n",
    "ser"
   ]
  },
  {
   "cell_type": "code",
   "execution_count": 6,
   "id": "fc350912",
   "metadata": {},
   "outputs": [
    {
     "data": {
      "text/plain": [
       "array([ 4,  2,  9, 15, -1])"
      ]
     },
     "execution_count": 6,
     "metadata": {},
     "output_type": "execute_result"
    }
   ],
   "source": [
    "conv = ser.to_numpy()\n",
    "conv"
   ]
  },
  {
   "cell_type": "code",
   "execution_count": 7,
   "id": "5282fcab",
   "metadata": {},
   "outputs": [
    {
     "data": {
      "text/plain": [
       "array([  4,   2, 100,  15,  -1])"
      ]
     },
     "execution_count": 7,
     "metadata": {},
     "output_type": "execute_result"
    }
   ],
   "source": [
    "conv[2] = 100\n",
    "conv"
   ]
  },
  {
   "cell_type": "code",
   "execution_count": 8,
   "id": "5d734eb4",
   "metadata": {},
   "outputs": [
    {
     "data": {
      "text/plain": [
       "a      4\n",
       "b      2\n",
       "c    100\n",
       "d     15\n",
       "e     -1\n",
       "dtype: int64"
      ]
     },
     "execution_count": 8,
     "metadata": {},
     "output_type": "execute_result"
    }
   ],
   "source": [
    "ser"
   ]
  },
  {
   "cell_type": "markdown",
   "id": "eb19cca8",
   "metadata": {
    "slideshow": {
     "slide_type": "slide"
    }
   },
   "source": [
    "### The dangers of `for`-loops\n",
    "\n",
    "- `for`-loops are slow when processing large datasets.\n",
    "- To illustrate how much faster `numpy` arithmetic is than using a `for`-loop, let's compute the distances between the origin $(0, 0)$ and 2000 random points $(x, y)$ in $\\mathbb{R}^2$:\n",
    "    - Using a `for`-loop.\n",
    "    - Using vectorized arithmetic (through `numpy`)."
   ]
  },
  {
   "cell_type": "markdown",
   "id": "90d6906a",
   "metadata": {
    "slideshow": {
     "slide_type": "slide"
    }
   },
   "source": [
    "### Aside: generating data\n",
    "\n",
    "- First, we need to create a DataFrame containing 2000 random points in 2D. \n",
    "- `np.random.random(N)` returns an array containing `N` numbers selected uniformly at random from the interval $[0, 1)$."
   ]
  },
  {
   "cell_type": "code",
   "execution_count": 9,
   "id": "00c4d3bf",
   "metadata": {
    "slideshow": {
     "slide_type": "-"
    }
   },
   "outputs": [
    {
     "data": {
      "text/html": [
       "<div>\n",
       "<style scoped>\n",
       "    .dataframe tbody tr th:only-of-type {\n",
       "        vertical-align: middle;\n",
       "    }\n",
       "\n",
       "    .dataframe tbody tr th {\n",
       "        vertical-align: top;\n",
       "    }\n",
       "\n",
       "    .dataframe thead th {\n",
       "        text-align: right;\n",
       "    }\n",
       "</style>\n",
       "<table border=\"1\" class=\"dataframe\">\n",
       "  <thead>\n",
       "    <tr style=\"text-align: right;\">\n",
       "      <th></th>\n",
       "      <th>x</th>\n",
       "      <th>y</th>\n",
       "    </tr>\n",
       "  </thead>\n",
       "  <tbody>\n",
       "    <tr>\n",
       "      <th>0</th>\n",
       "      <td>0.902074</td>\n",
       "      <td>0.160808</td>\n",
       "    </tr>\n",
       "    <tr>\n",
       "      <th>1</th>\n",
       "      <td>0.499344</td>\n",
       "      <td>0.894245</td>\n",
       "    </tr>\n",
       "    <tr>\n",
       "      <th>2</th>\n",
       "      <td>0.765865</td>\n",
       "      <td>0.182101</td>\n",
       "    </tr>\n",
       "    <tr>\n",
       "      <th>3</th>\n",
       "      <td>0.510969</td>\n",
       "      <td>0.847546</td>\n",
       "    </tr>\n",
       "    <tr>\n",
       "      <th>4</th>\n",
       "      <td>0.901006</td>\n",
       "      <td>0.175181</td>\n",
       "    </tr>\n",
       "  </tbody>\n",
       "</table>\n",
       "</div>"
      ],
      "text/plain": [
       "          x         y\n",
       "0  0.902074  0.160808\n",
       "1  0.499344  0.894245\n",
       "2  0.765865  0.182101\n",
       "3  0.510969  0.847546\n",
       "4  0.901006  0.175181"
      ]
     },
     "execution_count": 9,
     "metadata": {},
     "output_type": "execute_result"
    }
   ],
   "source": [
    "N = 2000\n",
    "x_arr = np.random.random(N)\n",
    "y_arr = np.random.random(N)\n",
    "\n",
    "coordinates = pd.DataFrame({\"x\": x_arr, \"y\": y_arr})\n",
    "coordinates.head()"
   ]
  },
  {
   "cell_type": "markdown",
   "id": "6fd02de0",
   "metadata": {
    "slideshow": {
     "slide_type": "slide"
    }
   },
   "source": [
    "Next, let's define a function that takes in a DataFrame like the one above and returns the distances between each point and the origin, using a `for`-loop."
   ]
  },
  {
   "cell_type": "code",
   "execution_count": 10,
   "id": "5dab7840",
   "metadata": {},
   "outputs": [],
   "source": [
    "def distances(df):\n",
    "    hyp_list = []\n",
    "    for i in df.index:\n",
    "        dist = (df.loc[i, 'x'] ** 2 + df.loc[i, 'y'] ** 2) ** 0.5\n",
    "        hyp_list.append(dist)\n",
    "    return hyp_list"
   ]
  },
  {
   "cell_type": "markdown",
   "id": "b84d3f06",
   "metadata": {
    "slideshow": {
     "slide_type": "slide"
    }
   },
   "source": [
    "The `%timeit` magic command can repeatedly run any snippet of code and give us its average runtime."
   ]
  },
  {
   "cell_type": "code",
   "execution_count": 11,
   "id": "2db695a6",
   "metadata": {},
   "outputs": [
    {
     "name": "stdout",
     "output_type": "stream",
     "text": [
      "22.1 ms ± 186 µs per loop (mean ± std. dev. of 7 runs, 10 loops each)\n"
     ]
    }
   ],
   "source": [
    "%timeit distances(coordinates)"
   ]
  },
  {
   "cell_type": "markdown",
   "id": "1c8cb480",
   "metadata": {},
   "source": [
    "Now, using a vectorized approach:"
   ]
  },
  {
   "cell_type": "code",
   "execution_count": 12,
   "id": "d96da51d",
   "metadata": {},
   "outputs": [
    {
     "name": "stdout",
     "output_type": "stream",
     "text": [
      "155 µs ± 1.2 µs per loop (mean ± std. dev. of 7 runs, 10000 loops each)\n"
     ]
    }
   ],
   "source": [
    "%timeit (coordinates['x'] ** 2 + coordinates['y'] ** 2) ** 0.5"
   ]
  },
  {
   "cell_type": "markdown",
   "id": "e6e3dee4",
   "metadata": {},
   "source": [
    "Note that \"µs\" refers to microseconds, which are one-millionth of a second, whereas \"ms\" refers to milliseconds, which are one-thousandth of a second.\n",
    "\n",
    "**Takeaway:** avoid `for`-loops whenever possible!"
   ]
  },
  {
   "cell_type": "markdown",
   "id": "8e1c6a1f",
   "metadata": {
    "slideshow": {
     "slide_type": "slide"
    }
   },
   "source": [
    "### `pandas` data types\n",
    "\n",
    "- A **data type** in `pandas` refers to the type of values in a column.\n",
    "- A column's data type determines which operations can be applied to it.\n",
    "- `pandas` tries to guess the correct data type for a given DataFrame, and is often wrong.\n",
    "    - This can lead to incorrect calculations and poor memory/time performance.\n",
    "- As a result, you will often need to explicitly convert between data types."
   ]
  },
  {
   "cell_type": "markdown",
   "id": "c2484929",
   "metadata": {
    "slideshow": {
     "slide_type": "slide"
    }
   },
   "source": [
    "### `pandas` data types\n",
    "\n",
    "|Pandas dtype|Python type|NumPy type|SQL type|Usage|\n",
    "|---|---|---|---|---|\n",
    "|int64|int|int_, int8,...,int64, uint8,...,uint64|INT, BIGINT| Integer numbers|\n",
    "|float64|float|float_, float16, float32, float64|FLOAT| Floating point numbers|\n",
    "|bool|bool|bool_|BOOL|True/False values|\n",
    "|datetime64|NA|datetime64[ns]|DATETIME|Date and time values|\n",
    "|timedelta[ns]|NA|NA|NA|Differences between two datetimes|\n",
    "|category|NA|NA|ENUM|Finite list of text values|\n",
    "|object|str|string, unicode|NA|Text|\n",
    "|object|NA|object|NA|Mixed types|"
   ]
  },
  {
   "cell_type": "markdown",
   "id": "93ca8db1",
   "metadata": {},
   "source": [
    "[This article](https://www.dataquest.io/blog/pandas-big-data/) details how `pandas` stores different data types under the hood."
   ]
  },
  {
   "cell_type": "markdown",
   "id": "a635b846",
   "metadata": {
    "slideshow": {
     "slide_type": "slide"
    }
   },
   "source": [
    "### Type conversion and the underlying `numpy` array(s)\n",
    "* The `dtypes` attribute (of both Series and DataFrames) describes the data type of each column.\n",
    "* The `to_numpy` method, when used on a Series, returns an array in which all values are of the data type specified by `dtypes`.\n",
    "* The `to_numpy` method, when used on a DataFrame, returns a multi-dimensional array of type `object`, unless all columns in the DataFrame are homogenous."
   ]
  },
  {
   "cell_type": "code",
   "execution_count": 13,
   "id": "31d6e18b",
   "metadata": {},
   "outputs": [
    {
     "data": {
      "text/html": [
       "<div>\n",
       "<style scoped>\n",
       "    .dataframe tbody tr th:only-of-type {\n",
       "        vertical-align: middle;\n",
       "    }\n",
       "\n",
       "    .dataframe tbody tr th {\n",
       "        vertical-align: top;\n",
       "    }\n",
       "\n",
       "    .dataframe thead th {\n",
       "        text-align: right;\n",
       "    }\n",
       "</style>\n",
       "<table border=\"1\" class=\"dataframe\">\n",
       "  <thead>\n",
       "    <tr style=\"text-align: right;\">\n",
       "      <th></th>\n",
       "      <th>Candidate</th>\n",
       "      <th>Party</th>\n",
       "      <th>%</th>\n",
       "      <th>Year</th>\n",
       "      <th>Result</th>\n",
       "    </tr>\n",
       "  </thead>\n",
       "  <tbody>\n",
       "    <tr>\n",
       "      <th>0</th>\n",
       "      <td>Reagan</td>\n",
       "      <td>Republican</td>\n",
       "      <td>50.7</td>\n",
       "      <td>1980</td>\n",
       "      <td>win</td>\n",
       "    </tr>\n",
       "    <tr>\n",
       "      <th>1</th>\n",
       "      <td>Carter</td>\n",
       "      <td>Democratic</td>\n",
       "      <td>41.0</td>\n",
       "      <td>1980</td>\n",
       "      <td>loss</td>\n",
       "    </tr>\n",
       "    <tr>\n",
       "      <th>2</th>\n",
       "      <td>Anderson</td>\n",
       "      <td>Independent</td>\n",
       "      <td>6.6</td>\n",
       "      <td>1980</td>\n",
       "      <td>loss</td>\n",
       "    </tr>\n",
       "    <tr>\n",
       "      <th>3</th>\n",
       "      <td>Reagan</td>\n",
       "      <td>Republican</td>\n",
       "      <td>58.8</td>\n",
       "      <td>1984</td>\n",
       "      <td>win</td>\n",
       "    </tr>\n",
       "    <tr>\n",
       "      <th>4</th>\n",
       "      <td>Mondale</td>\n",
       "      <td>Democratic</td>\n",
       "      <td>37.6</td>\n",
       "      <td>1984</td>\n",
       "      <td>loss</td>\n",
       "    </tr>\n",
       "  </tbody>\n",
       "</table>\n",
       "</div>"
      ],
      "text/plain": [
       "  Candidate        Party     %  Year Result\n",
       "0    Reagan   Republican  50.7  1980    win\n",
       "1    Carter   Democratic  41.0  1980   loss\n",
       "2  Anderson  Independent   6.6  1980   loss\n",
       "3    Reagan   Republican  58.8  1984    win\n",
       "4   Mondale   Democratic  37.6  1984   loss"
      ]
     },
     "execution_count": 13,
     "metadata": {},
     "output_type": "execute_result"
    }
   ],
   "source": [
    "# Read in file\n",
    "elections_fp = os.path.join('data', 'elections.csv')\n",
    "elections = pd.read_csv(elections_fp)\n",
    "elections.head()"
   ]
  },
  {
   "cell_type": "code",
   "execution_count": 14,
   "id": "df9852b3",
   "metadata": {},
   "outputs": [
    {
     "data": {
      "text/plain": [
       "Candidate     object\n",
       "Party         object\n",
       "%            float64\n",
       "Year           int64\n",
       "Result        object\n",
       "dtype: object"
      ]
     },
     "execution_count": 14,
     "metadata": {},
     "output_type": "execute_result"
    }
   ],
   "source": [
    "elections.dtypes"
   ]
  },
  {
   "cell_type": "code",
   "execution_count": 15,
   "id": "ca570dee",
   "metadata": {},
   "outputs": [
    {
     "data": {
      "text/plain": [
       "dtype('int64')"
      ]
     },
     "execution_count": 15,
     "metadata": {},
     "output_type": "execute_result"
    }
   ],
   "source": [
    "elections['Year'].dtypes"
   ]
  },
  {
   "cell_type": "code",
   "execution_count": 16,
   "id": "3ffd6f50",
   "metadata": {},
   "outputs": [
    {
     "data": {
      "text/plain": [
       "dtype('int64')"
      ]
     },
     "execution_count": 16,
     "metadata": {},
     "output_type": "execute_result"
    }
   ],
   "source": [
    "elections['Year'].to_numpy().dtype"
   ]
  },
  {
   "cell_type": "code",
   "execution_count": 17,
   "id": "b152509a",
   "metadata": {},
   "outputs": [
    {
     "data": {
      "text/plain": [
       "array([['Reagan', 'Republican', 50.7, 1980, 'win'],\n",
       "       ['Carter', 'Democratic', 41.0, 1980, 'loss'],\n",
       "       ['Anderson', 'Independent', 6.6, 1980, 'loss'],\n",
       "       ['Reagan', 'Republican', 58.8, 1984, 'win'],\n",
       "       ['Mondale', 'Democratic', 37.6, 1984, 'loss'],\n",
       "       ['Bush', 'Republican', 53.4, 1988, 'win'],\n",
       "       ['Dukakis', 'Democratic', 45.6, 1988, 'loss'],\n",
       "       ['Clinton', 'Democratic', 43.0, 1992, 'win'],\n",
       "       ['Bush', 'Republican', 37.4, 1992, 'loss'],\n",
       "       ['Perot', 'Independent', 18.9, 1992, 'loss'],\n",
       "       ['Clinton', 'Democratic', 49.2, 1996, 'win'],\n",
       "       ['Dole', 'Republican', 40.7, 1996, 'loss'],\n",
       "       ['Perot', 'Independent', 8.4, 1996, 'loss'],\n",
       "       ['Gore', 'Democratic', 48.4, 2000, 'loss'],\n",
       "       ['Bush', 'Republican', 47.9, 2000, 'win'],\n",
       "       ['Kerry', 'Democratic', 48.3, 2004, 'loss'],\n",
       "       ['Bush', 'Republican', 50.7, 2004, 'win'],\n",
       "       ['Obama', 'Democratic', 52.9, 2008, 'win'],\n",
       "       ['McCain', 'Republican', 45.7, 2008, 'loss'],\n",
       "       ['Obama', 'Democratic', 51.1, 2012, 'win'],\n",
       "       ['Romney', 'Republican', 47.2, 2012, 'loss'],\n",
       "       ['Clinton', 'Democratic', 48.2, 2016, 'loss'],\n",
       "       ['Trump', 'Republican', 46.1, 2016, 'win'],\n",
       "       ['Biden', 'Democratic', 51.3, 2020, 'win'],\n",
       "       ['Trump', 'Republican', 46.9, 2020, 'loss']], dtype=object)"
      ]
     },
     "execution_count": 17,
     "metadata": {},
     "output_type": "execute_result"
    }
   ],
   "source": [
    "elections.to_numpy()"
   ]
  },
  {
   "cell_type": "markdown",
   "id": "6588f272",
   "metadata": {},
   "source": [
    "What do you think is happening here?"
   ]
  },
  {
   "cell_type": "code",
   "execution_count": 18,
   "id": "bc4d3ca8",
   "metadata": {},
   "outputs": [
    {
     "data": {
      "text/plain": [
       "0    -9176136658659852288\n",
       "1    -9176136658659852288\n",
       "2    -9176136658659852288\n",
       "3    -8884621300430012416\n",
       "4    -8884621300430012416\n",
       "5    -6382217169766957056\n",
       "6    -6382217169766957056\n",
       "7    -1459841187188834304\n",
       "8    -1459841187188834304\n",
       "9    -1459841187188834304\n",
       "10    6093279273289170944\n",
       "11    6093279273289170944\n",
       "12    6093279273289170944\n",
       "13   -1957127470578663424\n",
       "14   -1957127470578663424\n",
       "15   -6950134928041361408\n",
       "16   -6950134928041361408\n",
       "17   -8669840355176218624\n",
       "18   -8669840355176218624\n",
       "19   -6898610338587885568\n",
       "20   -6898610338587885568\n",
       "21   -1417070411446747136\n",
       "22   -1417070411446747136\n",
       "23    7995905371925528576\n",
       "24    7995905371925528576\n",
       "Name: Year, dtype: int64"
      ]
     },
     "execution_count": 18,
     "metadata": {},
     "output_type": "execute_result"
    }
   ],
   "source": [
    "elections['Year'] ** 7"
   ]
  },
  {
   "cell_type": "markdown",
   "id": "4eff27a4",
   "metadata": {
    "slideshow": {
     "slide_type": "slide"
    }
   },
   "source": [
    "### ⚠️ Warning: `numpy` and `pandas` don't always make the same decisions! "
   ]
  },
  {
   "cell_type": "markdown",
   "id": "2837f737",
   "metadata": {
    "slideshow": {
     "slide_type": "-"
    }
   },
   "source": [
    "`numpy` prefers homogenous data types to optimize memory and read/write speed. This leads to **type coercion**. Notice that the array created below contains only strings, even though there was an `int` in the argument list."
   ]
  },
  {
   "cell_type": "code",
   "execution_count": 24,
   "id": "3220eecf",
   "metadata": {
    "scrolled": true
   },
   "outputs": [
    {
     "data": {
      "text/plain": [
       "array(['a', '1'], dtype='<U21')"
      ]
     },
     "execution_count": 24,
     "metadata": {},
     "output_type": "execute_result"
    }
   ],
   "source": [
    "np.array(['a', 1])"
   ]
  },
  {
   "cell_type": "markdown",
   "id": "3b618dbd",
   "metadata": {
    "slideshow": {
     "slide_type": "slide"
    }
   },
   "source": [
    "On the other hand, `pandas` likes correctness and ease-of-use. The Series created below is of type `object`, which preserves the original data types in the argument list."
   ]
  },
  {
   "cell_type": "code",
   "execution_count": 25,
   "id": "0fb25e77",
   "metadata": {},
   "outputs": [
    {
     "data": {
      "text/plain": [
       "0    a\n",
       "1    1\n",
       "dtype: object"
      ]
     },
     "execution_count": 25,
     "metadata": {},
     "output_type": "execute_result"
    }
   ],
   "source": [
    "pd.Series(['a', 1])"
   ]
  },
  {
   "cell_type": "code",
   "execution_count": 26,
   "id": "be267398",
   "metadata": {},
   "outputs": [
    {
     "data": {
      "text/plain": [
       "array(['a', 1], dtype=object)"
      ]
     },
     "execution_count": 26,
     "metadata": {},
     "output_type": "execute_result"
    }
   ],
   "source": [
    "pd.Series(['a', 1]).values"
   ]
  },
  {
   "cell_type": "markdown",
   "id": "b1857562",
   "metadata": {},
   "source": [
    "You can specify the data type of an array when initializing it by using the `dtype` argument."
   ]
  },
  {
   "cell_type": "code",
   "execution_count": 27,
   "id": "5a9ad3fd",
   "metadata": {},
   "outputs": [
    {
     "data": {
      "text/plain": [
       "array(['a', 1], dtype=object)"
      ]
     },
     "execution_count": 27,
     "metadata": {},
     "output_type": "execute_result"
    }
   ],
   "source": [
    "np.array(['a', 1], dtype=object)"
   ]
  },
  {
   "cell_type": "markdown",
   "id": "b2dd819e",
   "metadata": {
    "slideshow": {
     "slide_type": "slide"
    }
   },
   "source": [
    "`pandas` does make some trade-offs for efficiency, however. For instance, a Series consisting of both `int`s and `float`s is coerced to the `float64` data type."
   ]
  },
  {
   "cell_type": "code",
   "execution_count": 28,
   "id": "ffed41a8",
   "metadata": {},
   "outputs": [
    {
     "data": {
      "text/plain": [
       "0    1.0\n",
       "1    1.0\n",
       "dtype: float64"
      ]
     },
     "execution_count": 28,
     "metadata": {},
     "output_type": "execute_result"
    }
   ],
   "source": [
    "pd.Series([1, 1.0])"
   ]
  },
  {
   "cell_type": "markdown",
   "id": "fea361cc",
   "metadata": {
    "slideshow": {
     "slide_type": "slide"
    }
   },
   "source": [
    "### Type conversion\n",
    "\n",
    "You can change the data type of a Series using the `.astype` Series method."
   ]
  },
  {
   "cell_type": "code",
   "execution_count": 29,
   "id": "8bfabef4",
   "metadata": {},
   "outputs": [
    {
     "data": {
      "text/plain": [
       "0    1\n",
       "1    2\n",
       "2    3\n",
       "3    4\n",
       "dtype: object"
      ]
     },
     "execution_count": 29,
     "metadata": {},
     "output_type": "execute_result"
    }
   ],
   "source": [
    "ser = pd.Series(['1', '2', '3', '4'])\n",
    "ser"
   ]
  },
  {
   "cell_type": "code",
   "execution_count": 30,
   "id": "2a3b24be",
   "metadata": {},
   "outputs": [
    {
     "data": {
      "text/plain": [
       "0    1\n",
       "1    2\n",
       "2    3\n",
       "3    4\n",
       "dtype: int64"
      ]
     },
     "execution_count": 30,
     "metadata": {},
     "output_type": "execute_result"
    }
   ],
   "source": [
    "ser.astype(int)"
   ]
  },
  {
   "cell_type": "code",
   "execution_count": 31,
   "id": "6188f0d1",
   "metadata": {},
   "outputs": [
    {
     "data": {
      "text/plain": [
       "0    1.0\n",
       "1    2.0\n",
       "2    3.0\n",
       "3    4.0\n",
       "dtype: float64"
      ]
     },
     "execution_count": 31,
     "metadata": {},
     "output_type": "execute_result"
    }
   ],
   "source": [
    "ser.astype(float)"
   ]
  },
  {
   "cell_type": "markdown",
   "id": "fcfb02e9",
   "metadata": {
    "slideshow": {
     "slide_type": "slide"
    }
   },
   "source": [
    "### Performance and memory management\n",
    "\n",
    "As we just discovered,\n",
    "* `numpy` is optimized for speed and memory consumption.\n",
    "* `pandas` makes implementation choices that: \n",
    "    - are slow and use a lot of memory, but\n",
    "    - optimize for fast code development."
   ]
  },
  {
   "cell_type": "markdown",
   "id": "a2ab52a4",
   "metadata": {
    "slideshow": {
     "slide_type": "slide"
    }
   },
   "source": [
    "To demonstrate, let's create a large array in which all of the entries are non-negative numbers less than 255, meaning that they can be represented with 8 bits (i.e. as `np.uint8`s, where the \"u\" stands for \"unsigned\")."
   ]
  },
  {
   "cell_type": "code",
   "execution_count": 32,
   "id": "968aee1e",
   "metadata": {},
   "outputs": [],
   "source": [
    "import random\n",
    "data = np.random.choice(np.arange(8), 10 ** 6)"
   ]
  },
  {
   "cell_type": "markdown",
   "id": "2a8fcb7e",
   "metadata": {},
   "source": [
    "When we tell `pandas` to use a `dtype` of `uint8`, the size of the resulting DataFrame is under a megabyte."
   ]
  },
  {
   "cell_type": "code",
   "execution_count": 33,
   "id": "e109c0ac",
   "metadata": {},
   "outputs": [
    {
     "name": "stdout",
     "output_type": "stream",
     "text": [
      "<class 'pandas.core.frame.DataFrame'>\n",
      "RangeIndex: 1000000 entries, 0 to 999999\n",
      "Data columns (total 1 columns):\n",
      " #   Column  Non-Null Count    Dtype\n",
      "---  ------  --------------    -----\n",
      " 0   0       1000000 non-null  uint8\n",
      "dtypes: uint8(1)\n",
      "memory usage: 976.7 KB\n"
     ]
    }
   ],
   "source": [
    "ser1 = pd.Series(data, dtype=np.uint8).to_frame()\n",
    "ser1.info()"
   ]
  },
  {
   "cell_type": "markdown",
   "id": "fe61772d",
   "metadata": {},
   "source": [
    "But by default, even though the numbers are only 8-bit, `pandas` uses the `int64` dtype, and the resulting DataFrame is over 7 megabytes large."
   ]
  },
  {
   "cell_type": "code",
   "execution_count": 34,
   "id": "af72cf3b",
   "metadata": {},
   "outputs": [
    {
     "name": "stdout",
     "output_type": "stream",
     "text": [
      "<class 'pandas.core.frame.DataFrame'>\n",
      "RangeIndex: 1000000 entries, 0 to 999999\n",
      "Data columns (total 1 columns):\n",
      " #   Column  Non-Null Count    Dtype\n",
      "---  ------  --------------    -----\n",
      " 0   0       1000000 non-null  int64\n",
      "dtypes: int64(1)\n",
      "memory usage: 7.6 MB\n"
     ]
    }
   ],
   "source": [
    "ser2 = pd.Series(data).to_frame()\n",
    "ser2.info()"
   ]
  },
  {
   "cell_type": "markdown",
   "id": "cec773fd",
   "metadata": {
    "slideshow": {
     "slide_type": "slide"
    }
   },
   "source": [
    "## Useful Series and DataFrame methods"
   ]
  },
  {
   "cell_type": "markdown",
   "id": "e43e5c3b",
   "metadata": {
    "slideshow": {
     "slide_type": "slide"
    }
   },
   "source": [
    "### Shared methods and attributes\n",
    "* The `head`/`tail` methods return the first/last few rows (the default is 5).\n",
    "* The `shape` attribute returns the number of rows (and columns).\n",
    "* The `size` attribute returns the number of entries."
   ]
  },
  {
   "cell_type": "code",
   "execution_count": null,
   "id": "8e02289f",
   "metadata": {},
   "outputs": [],
   "source": [
    "elections.head()"
   ]
  },
  {
   "cell_type": "code",
   "execution_count": null,
   "id": "b7a0cfb4",
   "metadata": {},
   "outputs": [],
   "source": [
    "elections.shape"
   ]
  },
  {
   "cell_type": "code",
   "execution_count": null,
   "id": "a1a5eb6c",
   "metadata": {},
   "outputs": [],
   "source": [
    "elections.size"
   ]
  },
  {
   "cell_type": "markdown",
   "id": "2160d07f",
   "metadata": {
    "slideshow": {
     "slide_type": "slide"
    }
   },
   "source": [
    "### Series methods\n",
    "\n",
    "|Method Name|Description|\n",
    "|---|---|\n",
    "|`count`|Returns the number of non-null entries in the Series|\n",
    "|`unique`|Returns the unique values in the Series|\n",
    "|`nunique`|Returns the number of unique values in the Series|\n",
    "|`value_counts`|Returns a Series of counts of unique values|\n",
    "|`describe`|Returns a Series of descriptive stats of values|"
   ]
  },
  {
   "cell_type": "code",
   "execution_count": null,
   "id": "d3e16d91",
   "metadata": {},
   "outputs": [],
   "source": [
    "elections.head()"
   ]
  },
  {
   "cell_type": "code",
   "execution_count": null,
   "id": "b1432ade",
   "metadata": {},
   "outputs": [],
   "source": [
    "# Distinct candidates\n",
    "elections['Candidate'].unique()"
   ]
  },
  {
   "cell_type": "code",
   "execution_count": null,
   "id": "cb6f8d60",
   "metadata": {},
   "outputs": [],
   "source": [
    "# Number of distinct candidates\n",
    "elections['Candidate'].nunique()"
   ]
  },
  {
   "cell_type": "code",
   "execution_count": null,
   "id": "a356f1d4",
   "metadata": {},
   "outputs": [],
   "source": [
    "# Total number of candidates\n",
    "elections['Candidate'].count()"
   ]
  },
  {
   "cell_type": "code",
   "execution_count": null,
   "id": "1f34a042",
   "metadata": {},
   "outputs": [],
   "source": [
    "# 🤔\n",
    "republicans = elections.loc[elections['Party'] == 'Republican']\n",
    "republicans['Result'].value_counts()"
   ]
  },
  {
   "cell_type": "code",
   "execution_count": null,
   "id": "28381f4b",
   "metadata": {},
   "outputs": [],
   "source": [
    "republicans['%'].describe()"
   ]
  },
  {
   "cell_type": "markdown",
   "id": "1e91a09c",
   "metadata": {
    "slideshow": {
     "slide_type": "slide"
    }
   },
   "source": [
    "### DataFrame methods\n",
    "\n",
    "* DataFrames share *many* of the same methods with Series.\n",
    "    - In such cases, the DataFrame method applies the Series method to every row or column.\n",
    "* Some DataFrame methods accept the `axis` keyword argument:\n",
    "    - `axis=0`: the method is applied across the rows (i.e. to each column).\n",
    "    - `axis=1`: the method is applied across the columns (i.e. to each row).\n",
    "* Default value: `axis=0`."
   ]
  },
  {
   "cell_type": "code",
   "execution_count": null,
   "id": "5dbee01d",
   "metadata": {},
   "outputs": [],
   "source": [
    "elections.head()"
   ]
  },
  {
   "cell_type": "code",
   "execution_count": null,
   "id": "2c46a603",
   "metadata": {},
   "outputs": [],
   "source": [
    "elections[['%', 'Year']].mean()"
   ]
  },
  {
   "cell_type": "markdown",
   "id": "94caec10",
   "metadata": {},
   "source": [
    "The following piece of code works, but is meaningless. Why?"
   ]
  },
  {
   "cell_type": "code",
   "execution_count": null,
   "id": "e4e29312",
   "metadata": {},
   "outputs": [],
   "source": [
    "elections[['%', 'Year']].mean(axis=1)"
   ]
  },
  {
   "cell_type": "markdown",
   "id": "54dcad90",
   "metadata": {
    "slideshow": {
     "slide_type": "slide"
    }
   },
   "source": [
    "### Even more DataFrame methods\n",
    "\n",
    "|Method Name|Description|\n",
    "|---|---|\n",
    "|`sort_values`|Returns a DataFrame sorted by the specified column|\n",
    "|`drop_duplicates`|Returns a DataFrame with duplicate values dropped|\n",
    "|`describe`|Returns descriptive stats of the DataFrame|"
   ]
  },
  {
   "cell_type": "code",
   "execution_count": null,
   "id": "8fbcb8da",
   "metadata": {},
   "outputs": [],
   "source": [
    "elections.sort_values('%', ascending=False).head(4)"
   ]
  },
  {
   "cell_type": "code",
   "execution_count": null,
   "id": "9de96e2a",
   "metadata": {},
   "outputs": [],
   "source": [
    "# By default, drop_duplicates looks for duplicate entire rows, which elections does not have\n",
    "elections.drop_duplicates(subset=['Candidate'])"
   ]
  },
  {
   "cell_type": "code",
   "execution_count": null,
   "id": "bb5bb495",
   "metadata": {},
   "outputs": [],
   "source": [
    "elections.describe()"
   ]
  },
  {
   "cell_type": "markdown",
   "id": "0824d676",
   "metadata": {
    "slideshow": {
     "slide_type": "slide"
    }
   },
   "source": [
    "### Adding and modifying columns, using a copy\n",
    "\n",
    "* To add a new column to a DataFrame, use the `assign` method.\n",
    "* To add a new row to a DataFrame, use the `append` method.\n",
    "* Both `assign` and `append` return a copy of the DataFrame, **which is (often) a good idea!**\n",
    "* To change the values in a column, re-assign its name to a sequence of the desired values."
   ]
  },
  {
   "cell_type": "markdown",
   "id": "c0066c44",
   "metadata": {},
   "source": [
    "As an aside, you should try your best to write **chained** `pandas` code, as follows:"
   ]
  },
  {
   "cell_type": "code",
   "execution_count": null,
   "id": "954d9052",
   "metadata": {},
   "outputs": [],
   "source": [
    "(\n",
    "    elections\n",
    "    .assign(proportion_of_vote=(elections['%'] / 100))\n",
    "    .head()\n",
    ")"
   ]
  },
  {
   "cell_type": "markdown",
   "id": "4a4efbec",
   "metadata": {},
   "source": [
    "You can chain together several steps at a time:"
   ]
  },
  {
   "cell_type": "code",
   "execution_count": null,
   "id": "87c7bd56",
   "metadata": {},
   "outputs": [],
   "source": [
    "(\n",
    "    elections\n",
    "    .assign(proportion_of_vote=(elections['%'] / 100))\n",
    "    .assign(Result=elections['Result'].str.upper())\n",
    "    .head()\n",
    ")"
   ]
  },
  {
   "cell_type": "markdown",
   "id": "4d26fe50",
   "metadata": {},
   "source": [
    "You can also use `assign` when the desired column name has spaces, by using keyword arguments."
   ]
  },
  {
   "cell_type": "code",
   "execution_count": null,
   "id": "b992959a",
   "metadata": {},
   "outputs": [],
   "source": [
    "(\n",
    "    elections\n",
    "    .assign(**{'Proportion of Vote': elections['%'] / 100})\n",
    "    .head()\n",
    ")"
   ]
  },
  {
   "cell_type": "markdown",
   "id": "46e892df",
   "metadata": {
    "slideshow": {
     "slide_type": "slide"
    }
   },
   "source": [
    "### ⚠️ Warning!\n",
    "\n",
    "- Adding a single row with `append` has poor time complexity (forces a copy).\n",
    "- Use it sparingly.\n",
    "- Especially, don't build a DataFrame using `append` in a loop.\n",
    "    - Instead, gather all of your data first and use `pd.DataFrame` constructor"
   ]
  },
  {
   "cell_type": "markdown",
   "id": "cb6fa478",
   "metadata": {
    "slideshow": {
     "slide_type": "slide"
    }
   },
   "source": [
    "### Adding and modifying columns, in-place\n",
    "\n",
    "* You can assign a new row or column to a DataFrame **in-place** using `loc` or `[]`.\n",
    "    - Works like dictionary assignment.\n",
    "    - Unlike `assign`, this **modifies** the underlying DataFrame rather than a copy of it.\n",
    "* This is the more \"common\" way of adding/modifying columns. \n",
    "    - ⚠️ Warning: Exercise caution when using this approach, since this approach changes the values of existing variables."
   ]
  },
  {
   "cell_type": "code",
   "execution_count": null,
   "id": "0f7d103a",
   "metadata": {},
   "outputs": [],
   "source": [
    "# By default, .copy() returns a deep copy of the object it is called on,\n",
    "# meaning that if you change the copy the original remains unmodified.\n",
    "mod_elec = elections.copy()\n",
    "mod_elec.head()"
   ]
  },
  {
   "cell_type": "code",
   "execution_count": null,
   "id": "e3e60cf4",
   "metadata": {},
   "outputs": [],
   "source": [
    "mod_elec['Proportion of Vote'] = mod_elec['%'] / 100\n",
    "mod_elec.head()"
   ]
  },
  {
   "cell_type": "code",
   "execution_count": null,
   "id": "ef1768a8",
   "metadata": {},
   "outputs": [],
   "source": [
    "mod_elec['Result'] = mod_elec['Result'].str.upper()\n",
    "mod_elec.head()"
   ]
  },
  {
   "cell_type": "code",
   "execution_count": null,
   "id": "fdb3b79c",
   "metadata": {},
   "outputs": [],
   "source": [
    "# 🤔\n",
    "mod_elec.loc[-1, :] = ['Carter', 'Democratic', 50.1, 1976, 'WIN', 0.501]\n",
    "mod_elec.loc[-2, :] = ['Ford', 'Republican', 48.0, 1976, 'LOSS', 0.48]\n",
    "mod_elec"
   ]
  },
  {
   "cell_type": "code",
   "execution_count": null,
   "id": "3be783e3",
   "metadata": {},
   "outputs": [],
   "source": [
    "mod_elec = mod_elec.sort_index()\n",
    "mod_elec.head()"
   ]
  },
  {
   "cell_type": "code",
   "execution_count": null,
   "id": "358b23e9",
   "metadata": {},
   "outputs": [],
   "source": [
    "# df.reset_index(drop=True) drops the current index \n",
    "# of the DataFrame and replaces it with an index of increasing integers\n",
    "mod_elec.reset_index(drop=True)"
   ]
  },
  {
   "cell_type": "markdown",
   "id": "6defc7c3",
   "metadata": {
    "slideshow": {
     "slide_type": "slide"
    }
   },
   "source": [
    "## Example: San Diego employee salaries (again)\n",
    "\n",
    "Note: We probably won't finish looking at all of this code in lecture, but we will leave it here for you as a reference."
   ]
  },
  {
   "cell_type": "markdown",
   "id": "813842f9",
   "metadata": {
    "slideshow": {
     "slide_type": "slide"
    }
   },
   "source": [
    "### Reading the data\n",
    "\n",
    "Let's work with the same dataset that we did in Lecture 1, using our new knowledge of `pandas`."
   ]
  },
  {
   "cell_type": "code",
   "execution_count": null,
   "id": "378043a3",
   "metadata": {},
   "outputs": [],
   "source": [
    "salaries = pd.read_csv('https://transcal.s3.amazonaws.com/public/export/san-diego-2020.csv')\n",
    "salaries['Employee Name'] = salaries['Employee Name'].str.split().str[0] + ' xxxxx'"
   ]
  },
  {
   "cell_type": "code",
   "execution_count": null,
   "id": "30a9ff6c",
   "metadata": {},
   "outputs": [],
   "source": [
    "salaries.head()"
   ]
  },
  {
   "cell_type": "code",
   "execution_count": null,
   "id": "b7399303",
   "metadata": {
    "slideshow": {
     "slide_type": "slide"
    }
   },
   "outputs": [],
   "source": [
    "salaries.info()"
   ]
  },
  {
   "cell_type": "markdown",
   "id": "cb9063f3",
   "metadata": {
    "slideshow": {
     "slide_type": "slide"
    }
   },
   "source": [
    "### Data cleaning\n",
    "\n",
    "Current issues with the dataset:\n",
    "\n",
    "- Some columns have no information (`'Notes'`) or the same value in all rows (`'Agency'`) – let's drop them.\n",
    "- `'Other Pay'` should be numeric, but it's not currently.\n",
    "\n"
   ]
  },
  {
   "cell_type": "code",
   "execution_count": null,
   "id": "7ed1e026",
   "metadata": {},
   "outputs": [],
   "source": [
    "# Dropping useless columns\n",
    "salaries = salaries.drop(['Year', 'Notes', 'Agency'], axis=1)\n",
    "salaries.head()"
   ]
  },
  {
   "cell_type": "markdown",
   "id": "5929d058",
   "metadata": {
    "slideshow": {
     "slide_type": "slide"
    }
   },
   "source": [
    "### Fixing the `'Other Pay'` column"
   ]
  },
  {
   "cell_type": "code",
   "execution_count": null,
   "id": "9c70dcaa",
   "metadata": {},
   "outputs": [],
   "source": [
    "salaries['Other Pay'].dtype"
   ]
  },
  {
   "cell_type": "code",
   "execution_count": null,
   "id": "eff7ca74",
   "metadata": {},
   "outputs": [],
   "source": [
    "salaries['Other Pay'].unique()"
   ]
  },
  {
   "cell_type": "markdown",
   "id": "cfabe8c2",
   "metadata": {},
   "source": [
    "It appears that most of the values in the `'Other Pay'` column are strings containing numbers. Which values are not numbers?"
   ]
  },
  {
   "cell_type": "code",
   "execution_count": null,
   "id": "77a4e52a",
   "metadata": {},
   "outputs": [],
   "source": [
    "salaries.loc[-salaries['Other Pay'].str.contains('.00')]"
   ]
  },
  {
   "cell_type": "markdown",
   "id": "c7c07457",
   "metadata": {
    "slideshow": {
     "slide_type": "slide"
    }
   },
   "source": [
    "We can keep just the rows where the `'Other Pay'` is numeric, and then convert the `'Other Pay'` column to `float`."
   ]
  },
  {
   "cell_type": "code",
   "execution_count": null,
   "id": "48f7b6de",
   "metadata": {},
   "outputs": [],
   "source": [
    "salaries = salaries.loc[salaries['Other Pay'].str.contains('.00') == True]\n",
    "salaries['Other Pay'] = salaries['Other Pay'].astype(float)\n",
    "salaries.head()"
   ]
  },
  {
   "cell_type": "markdown",
   "id": "6b6c40ef",
   "metadata": {},
   "source": [
    "The line of code above is correct, but it errors if you run it more than once. Why? 🤔"
   ]
  },
  {
   "cell_type": "markdown",
   "id": "301c8234",
   "metadata": {
    "slideshow": {
     "slide_type": "slide"
    }
   },
   "source": [
    "### Full-time vs. part-time\n",
    "\n",
    "What happens when we use `normalize=True` with `value_counts`?"
   ]
  },
  {
   "cell_type": "code",
   "execution_count": null,
   "id": "9f61300f",
   "metadata": {},
   "outputs": [],
   "source": [
    "salaries['Status'].value_counts()"
   ]
  },
  {
   "cell_type": "code",
   "execution_count": null,
   "id": "c15f2333",
   "metadata": {},
   "outputs": [],
   "source": [
    "salaries['Status'].value_counts(normalize=True)"
   ]
  },
  {
   "cell_type": "markdown",
   "id": "58ac29bd",
   "metadata": {
    "slideshow": {
     "slide_type": "slide"
    }
   },
   "source": [
    "### Salary analysis"
   ]
  },
  {
   "cell_type": "code",
   "execution_count": null,
   "id": "14eb417f",
   "metadata": {},
   "outputs": [],
   "source": [
    "# Salary statistics\n",
    "salaries.describe()"
   ]
  },
  {
   "cell_type": "markdown",
   "id": "3d48bf36",
   "metadata": {},
   "source": [
    "**Question:** Is `'Total Pay'` equal to the sum of `'Base Pay'`, `'Overtime Pay'`, and `'Other Pay'`?\n",
    "\n",
    "We can answer this by summing the latter three columns and seeing if the resulting Series equals the former column."
   ]
  },
  {
   "cell_type": "code",
   "execution_count": null,
   "id": "8d903963",
   "metadata": {},
   "outputs": [],
   "source": [
    "salaries.loc[:, ['Base Pay', 'Overtime Pay', 'Other Pay']].sum(axis=1)"
   ]
  },
  {
   "cell_type": "code",
   "execution_count": null,
   "id": "7a4dcadb",
   "metadata": {},
   "outputs": [],
   "source": [
    "salaries['Total Pay']"
   ]
  },
  {
   "cell_type": "code",
   "execution_count": null,
   "id": "b8181dc2",
   "metadata": {},
   "outputs": [],
   "source": [
    "(salaries.loc[:, ['Base Pay', 'Overtime Pay', 'Other Pay']].sum(axis=1) == salaries['Total Pay']).all()"
   ]
  },
  {
   "cell_type": "markdown",
   "id": "8c5ae9f2",
   "metadata": {
    "slideshow": {
     "slide_type": "-"
    }
   },
   "source": [
    "Similarly, we might ask whether `'Total Pay & Benefits'` is truly the sum of `'Total Pay'` and `'Benefits'`."
   ]
  },
  {
   "cell_type": "code",
   "execution_count": null,
   "id": "7de7f7c2",
   "metadata": {},
   "outputs": [],
   "source": [
    "(salaries.loc[:, ['Total Pay', 'Benefits']].sum(axis=1) == salaries.loc[:, 'Total Pay & Benefits']).all()"
   ]
  },
  {
   "cell_type": "markdown",
   "id": "3b0cce0d",
   "metadata": {
    "slideshow": {
     "slide_type": "slide"
    }
   },
   "source": [
    "### Visualization"
   ]
  },
  {
   "cell_type": "code",
   "execution_count": null,
   "id": "900bc8ed",
   "metadata": {},
   "outputs": [],
   "source": [
    "salaries['Total Pay & Benefits'].plot(kind='hist', density=False, bins=20, ec='w');"
   ]
  },
  {
   "cell_type": "code",
   "execution_count": null,
   "id": "951529e5",
   "metadata": {},
   "outputs": [],
   "source": [
    "salaries.plot(kind='scatter', x='Base Pay', y='Overtime Pay');"
   ]
  },
  {
   "cell_type": "code",
   "execution_count": null,
   "id": "ec9eab55",
   "metadata": {},
   "outputs": [],
   "source": [
    "pd.plotting.scatter_matrix(salaries[['Base Pay', 'Overtime Pay', 'Total Pay']], figsize=(8, 8));"
   ]
  },
  {
   "cell_type": "markdown",
   "id": "d2fd8519",
   "metadata": {},
   "source": [
    "Think of your own questions about the dataset, and try and answer them!"
   ]
  },
  {
   "cell_type": "markdown",
   "id": "4170226a",
   "metadata": {
    "slideshow": {
     "slide_type": "slide"
    }
   },
   "source": [
    "## Next time, in DSC 80...\n",
    "\n",
    "...a deeper dive into *pandas*."
   ]
  }
 ],
 "metadata": {
  "celltoolbar": "Slideshow",
  "kernelspec": {
   "display_name": "Python 3 (ipykernel)",
   "language": "python",
   "name": "python3"
  },
  "language_info": {
   "codemirror_mode": {
    "name": "ipython",
    "version": 3
   },
   "file_extension": ".py",
   "mimetype": "text/x-python",
   "name": "python",
   "nbconvert_exporter": "python",
   "pygments_lexer": "ipython3",
   "version": "3.9.6"
  },
  "rise": {
   "transition": "none"
  }
 },
 "nbformat": 4,
 "nbformat_minor": 5
}
